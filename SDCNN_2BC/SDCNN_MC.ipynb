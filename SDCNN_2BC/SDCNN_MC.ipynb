{
 "cells": [
  {
   "cell_type": "markdown",
   "id": "d6d24947",
   "metadata": {},
   "source": [
    "# Multiclass Classification of IRT Defects using SDCNN\n",
    "This notebook performs multiclass classification using a custom SDCNN to classify IRT images into four defect classes: PatchWork, Block, Shading, and Single."
   ]
  },
  {
   "cell_type": "code",
   "execution_count": 1,
   "id": "adc77a48",
   "metadata": {},
   "outputs": [],
   "source": [
    "# --- Import Libraries ---\n",
    "import os\n",
    "import numpy as np\n",
    "import matplotlib.pyplot as plt\n",
    "import tensorflow as tf\n",
    "from tensorflow.keras.preprocessing.image import ImageDataGenerator\n",
    "from tensorflow.keras.models import Sequential\n",
    "from tensorflow.keras.layers import Conv2D, MaxPooling2D, Flatten, Dense, Dropout, BatchNormalization\n",
    "from tensorflow.keras.optimizers import Adam\n",
    "from tensorflow.keras.losses import CategoricalCrossentropy\n",
    "import time\n",
    "from sklearn.metrics import classification_report, confusion_matrix\n",
    "import seaborn as sns\n",
    "from sklearn.model_selection import train_test_split\n",
    "from sklearn.metrics import accuracy_score\n",
    "from tensorflow.keras.callbacks import EarlyStopping, ModelCheckpoint\n",
    "from sklearn.metrics import precision_score, recall_score, f1_score, confusion_matrix, ConfusionMatrixDisplay\n",
    "from tensorflow.keras.preprocessing.image import ImageDataGenerator\n",
    "from tensorflow.keras.metrics import Precision, Recall, AUC\n",
    "from sklearn.utils.class_weight import compute_class_weight\n",
    "import shutil\n",
    "from tensorflow.keras.utils import plot_model\n",
    "from IPython.display import Image\n",
    "import pandas as pd\n",
    "import io\n",
    "from sklearn.metrics import confusion_matrix, ConfusionMatrixDisplay\n",
    "import io\n",
    "import random\n",
    "#from tensorflow_addons.losses import SigmoidFocalCrossEntropy"
   ]
  },
  {
   "cell_type": "code",
   "execution_count": 2,
   "id": "b92d4fa5",
   "metadata": {},
   "outputs": [],
   "source": [
    "# --- Setup ---\n",
    "IMAGE_SIZE = (224, 224)\n",
    "BATCH_SIZE = 32\n",
    "EPOCHS = 50\n",
    "NUM_CLASSES = 2"
   ]
  },
  {
   "cell_type": "code",
   "execution_count": 3,
   "id": "875bd152",
   "metadata": {},
   "outputs": [],
   "source": [
    "# --- Define Data Paths ---\n",
    "original_data_dir = '/Users/reamy/Desktop/THESIS/MC_dataset copy 2'  \n",
    "# original_data_dir/\n",
    "#   ├── PatchWork/\n",
    "#   ├── Block/\n",
    "#   ├── Shading/\n",
    "#   └── Single/\n",
    "base_dir = 'data/processed1'\n",
    "train_dir = os.path.join(base_dir, 'train')\n",
    "val_dir = os.path.join(base_dir, 'val') \n",
    "\n",
    "\n"
   ]
  },
  {
   "cell_type": "code",
   "execution_count": 4,
   "id": "46cab601",
   "metadata": {},
   "outputs": [],
   "source": [
    "# Create directories\n",
    "for split in ['train', 'val']:\n",
    "    for cls in ['PatchWork', 'Block']:\n",
    "        os.makedirs(os.path.join(base_dir, split, cls), exist_ok=True)\n",
    "\n",
    "# Split and copy images\n",
    "for cls in ['PatchWork', 'Block']:\n",
    "    cls_dir = os.path.join(original_data_dir, cls)\n",
    "    images = os.listdir(cls_dir)\n",
    "    train_images, val_images = train_test_split(images, test_size=0.2, random_state=42)\n",
    "\n",
    "    for img in train_images:\n",
    "        shutil.copy(os.path.join(cls_dir, img), os.path.join(train_dir, cls, img))\n",
    "    for img in val_images:\n",
    "        shutil.copy(os.path.join(cls_dir, img), os.path.join(val_dir, cls, img))\n"
   ]
  },
  {
   "cell_type": "code",
   "execution_count": 5,
   "id": "2ae540a1",
   "metadata": {},
   "outputs": [
    {
     "name": "stdout",
     "output_type": "stream",
     "text": [
      "Found 83 images belonging to 2 classes.\n",
      "Found 28 images belonging to 2 classes.\n",
      "Class mapping: {'Block': 0, 'PatchWork': 1}\n"
     ]
    }
   ],
   "source": [
    "# --- Data Generators ---\n",
    "datagen =ImageDataGenerator(\n",
    "    rescale=1./255,\n",
    "    rotation_range=90,width_shift_range=0.2,height_shift_range=0.2,shear_range=0.2,zoom_range=0.2,horizontal_flip=True,fill_mode='nearest')\n",
    "\n",
    "\n",
    "train_gen = datagen.flow_from_directory(\n",
    "    os.path.join(base_dir, 'train'),\n",
    "    target_size=IMAGE_SIZE,\n",
    "    batch_size=BATCH_SIZE,\n",
    "    class_mode='categorical'\n",
    ")\n",
    "\n",
    "val_gen = datagen.flow_from_directory(\n",
    "    os.path.join(base_dir, 'val'),\n",
    "    target_size=IMAGE_SIZE,\n",
    "    batch_size=BATCH_SIZE,\n",
    "    class_mode='categorical'\n",
    ")\n",
    "\n",
    "print(\"Class mapping:\", train_gen.class_indices)"
   ]
  },
  {
   "cell_type": "code",
   "execution_count": 6,
   "id": "47d1bf46",
   "metadata": {},
   "outputs": [
    {
     "name": "stderr",
     "output_type": "stream",
     "text": [
      "/Users/reamy/Desktop/THESIS/.venv/lib/python3.12/site-packages/keras/src/layers/convolutional/base_conv.py:113: UserWarning: Do not pass an `input_shape`/`input_dim` argument to a layer. When using Sequential models, prefer using an `Input(shape)` object as the first layer in the model instead.\n",
      "  super().__init__(activity_regularizer=activity_regularizer, **kwargs)\n"
     ]
    },
    {
     "data": {
      "text/html": [
       "<pre style=\"white-space:pre;overflow-x:auto;line-height:normal;font-family:Menlo,'DejaVu Sans Mono',consolas,'Courier New',monospace\"><span style=\"font-weight: bold\">Model: \"sequential\"</span>\n",
       "</pre>\n"
      ],
      "text/plain": [
       "\u001b[1mModel: \"sequential\"\u001b[0m\n"
      ]
     },
     "metadata": {},
     "output_type": "display_data"
    },
    {
     "data": {
      "text/html": [
       "<pre style=\"white-space:pre;overflow-x:auto;line-height:normal;font-family:Menlo,'DejaVu Sans Mono',consolas,'Courier New',monospace\">┏━━━━━━━━━━━━━━━━━━━━━━━━━━━━━━━━━┳━━━━━━━━━━━━━━━━━━━━━━━━┳━━━━━━━━━━━━━━━┓\n",
       "┃<span style=\"font-weight: bold\"> Layer (type)                    </span>┃<span style=\"font-weight: bold\"> Output Shape           </span>┃<span style=\"font-weight: bold\">       Param # </span>┃\n",
       "┡━━━━━━━━━━━━━━━━━━━━━━━━━━━━━━━━━╇━━━━━━━━━━━━━━━━━━━━━━━━╇━━━━━━━━━━━━━━━┩\n",
       "│ conv2d (<span style=\"color: #0087ff; text-decoration-color: #0087ff\">Conv2D</span>)                 │ (<span style=\"color: #00d7ff; text-decoration-color: #00d7ff\">None</span>, <span style=\"color: #00af00; text-decoration-color: #00af00\">222</span>, <span style=\"color: #00af00; text-decoration-color: #00af00\">222</span>, <span style=\"color: #00af00; text-decoration-color: #00af00\">32</span>)   │           <span style=\"color: #00af00; text-decoration-color: #00af00\">896</span> │\n",
       "├─────────────────────────────────┼────────────────────────┼───────────────┤\n",
       "│ max_pooling2d (<span style=\"color: #0087ff; text-decoration-color: #0087ff\">MaxPooling2D</span>)    │ (<span style=\"color: #00d7ff; text-decoration-color: #00d7ff\">None</span>, <span style=\"color: #00af00; text-decoration-color: #00af00\">111</span>, <span style=\"color: #00af00; text-decoration-color: #00af00\">111</span>, <span style=\"color: #00af00; text-decoration-color: #00af00\">32</span>)   │             <span style=\"color: #00af00; text-decoration-color: #00af00\">0</span> │\n",
       "├─────────────────────────────────┼────────────────────────┼───────────────┤\n",
       "│ conv2d_1 (<span style=\"color: #0087ff; text-decoration-color: #0087ff\">Conv2D</span>)               │ (<span style=\"color: #00d7ff; text-decoration-color: #00d7ff\">None</span>, <span style=\"color: #00af00; text-decoration-color: #00af00\">109</span>, <span style=\"color: #00af00; text-decoration-color: #00af00\">109</span>, <span style=\"color: #00af00; text-decoration-color: #00af00\">64</span>)   │        <span style=\"color: #00af00; text-decoration-color: #00af00\">18,496</span> │\n",
       "├─────────────────────────────────┼────────────────────────┼───────────────┤\n",
       "│ max_pooling2d_1 (<span style=\"color: #0087ff; text-decoration-color: #0087ff\">MaxPooling2D</span>)  │ (<span style=\"color: #00d7ff; text-decoration-color: #00d7ff\">None</span>, <span style=\"color: #00af00; text-decoration-color: #00af00\">54</span>, <span style=\"color: #00af00; text-decoration-color: #00af00\">54</span>, <span style=\"color: #00af00; text-decoration-color: #00af00\">64</span>)     │             <span style=\"color: #00af00; text-decoration-color: #00af00\">0</span> │\n",
       "├─────────────────────────────────┼────────────────────────┼───────────────┤\n",
       "│ conv2d_2 (<span style=\"color: #0087ff; text-decoration-color: #0087ff\">Conv2D</span>)               │ (<span style=\"color: #00d7ff; text-decoration-color: #00d7ff\">None</span>, <span style=\"color: #00af00; text-decoration-color: #00af00\">52</span>, <span style=\"color: #00af00; text-decoration-color: #00af00\">52</span>, <span style=\"color: #00af00; text-decoration-color: #00af00\">128</span>)    │        <span style=\"color: #00af00; text-decoration-color: #00af00\">73,856</span> │\n",
       "├─────────────────────────────────┼────────────────────────┼───────────────┤\n",
       "│ max_pooling2d_2 (<span style=\"color: #0087ff; text-decoration-color: #0087ff\">MaxPooling2D</span>)  │ (<span style=\"color: #00d7ff; text-decoration-color: #00d7ff\">None</span>, <span style=\"color: #00af00; text-decoration-color: #00af00\">26</span>, <span style=\"color: #00af00; text-decoration-color: #00af00\">26</span>, <span style=\"color: #00af00; text-decoration-color: #00af00\">128</span>)    │             <span style=\"color: #00af00; text-decoration-color: #00af00\">0</span> │\n",
       "├─────────────────────────────────┼────────────────────────┼───────────────┤\n",
       "│ flatten (<span style=\"color: #0087ff; text-decoration-color: #0087ff\">Flatten</span>)               │ (<span style=\"color: #00d7ff; text-decoration-color: #00d7ff\">None</span>, <span style=\"color: #00af00; text-decoration-color: #00af00\">86528</span>)          │             <span style=\"color: #00af00; text-decoration-color: #00af00\">0</span> │\n",
       "├─────────────────────────────────┼────────────────────────┼───────────────┤\n",
       "│ dense (<span style=\"color: #0087ff; text-decoration-color: #0087ff\">Dense</span>)                   │ (<span style=\"color: #00d7ff; text-decoration-color: #00d7ff\">None</span>, <span style=\"color: #00af00; text-decoration-color: #00af00\">128</span>)            │    <span style=\"color: #00af00; text-decoration-color: #00af00\">11,075,712</span> │\n",
       "├─────────────────────────────────┼────────────────────────┼───────────────┤\n",
       "│ dense_1 (<span style=\"color: #0087ff; text-decoration-color: #0087ff\">Dense</span>)                 │ (<span style=\"color: #00d7ff; text-decoration-color: #00d7ff\">None</span>, <span style=\"color: #00af00; text-decoration-color: #00af00\">2</span>)              │           <span style=\"color: #00af00; text-decoration-color: #00af00\">258</span> │\n",
       "└─────────────────────────────────┴────────────────────────┴───────────────┘\n",
       "</pre>\n"
      ],
      "text/plain": [
       "┏━━━━━━━━━━━━━━━━━━━━━━━━━━━━━━━━━┳━━━━━━━━━━━━━━━━━━━━━━━━┳━━━━━━━━━━━━━━━┓\n",
       "┃\u001b[1m \u001b[0m\u001b[1mLayer (type)                   \u001b[0m\u001b[1m \u001b[0m┃\u001b[1m \u001b[0m\u001b[1mOutput Shape          \u001b[0m\u001b[1m \u001b[0m┃\u001b[1m \u001b[0m\u001b[1m      Param #\u001b[0m\u001b[1m \u001b[0m┃\n",
       "┡━━━━━━━━━━━━━━━━━━━━━━━━━━━━━━━━━╇━━━━━━━━━━━━━━━━━━━━━━━━╇━━━━━━━━━━━━━━━┩\n",
       "│ conv2d (\u001b[38;5;33mConv2D\u001b[0m)                 │ (\u001b[38;5;45mNone\u001b[0m, \u001b[38;5;34m222\u001b[0m, \u001b[38;5;34m222\u001b[0m, \u001b[38;5;34m32\u001b[0m)   │           \u001b[38;5;34m896\u001b[0m │\n",
       "├─────────────────────────────────┼────────────────────────┼───────────────┤\n",
       "│ max_pooling2d (\u001b[38;5;33mMaxPooling2D\u001b[0m)    │ (\u001b[38;5;45mNone\u001b[0m, \u001b[38;5;34m111\u001b[0m, \u001b[38;5;34m111\u001b[0m, \u001b[38;5;34m32\u001b[0m)   │             \u001b[38;5;34m0\u001b[0m │\n",
       "├─────────────────────────────────┼────────────────────────┼───────────────┤\n",
       "│ conv2d_1 (\u001b[38;5;33mConv2D\u001b[0m)               │ (\u001b[38;5;45mNone\u001b[0m, \u001b[38;5;34m109\u001b[0m, \u001b[38;5;34m109\u001b[0m, \u001b[38;5;34m64\u001b[0m)   │        \u001b[38;5;34m18,496\u001b[0m │\n",
       "├─────────────────────────────────┼────────────────────────┼───────────────┤\n",
       "│ max_pooling2d_1 (\u001b[38;5;33mMaxPooling2D\u001b[0m)  │ (\u001b[38;5;45mNone\u001b[0m, \u001b[38;5;34m54\u001b[0m, \u001b[38;5;34m54\u001b[0m, \u001b[38;5;34m64\u001b[0m)     │             \u001b[38;5;34m0\u001b[0m │\n",
       "├─────────────────────────────────┼────────────────────────┼───────────────┤\n",
       "│ conv2d_2 (\u001b[38;5;33mConv2D\u001b[0m)               │ (\u001b[38;5;45mNone\u001b[0m, \u001b[38;5;34m52\u001b[0m, \u001b[38;5;34m52\u001b[0m, \u001b[38;5;34m128\u001b[0m)    │        \u001b[38;5;34m73,856\u001b[0m │\n",
       "├─────────────────────────────────┼────────────────────────┼───────────────┤\n",
       "│ max_pooling2d_2 (\u001b[38;5;33mMaxPooling2D\u001b[0m)  │ (\u001b[38;5;45mNone\u001b[0m, \u001b[38;5;34m26\u001b[0m, \u001b[38;5;34m26\u001b[0m, \u001b[38;5;34m128\u001b[0m)    │             \u001b[38;5;34m0\u001b[0m │\n",
       "├─────────────────────────────────┼────────────────────────┼───────────────┤\n",
       "│ flatten (\u001b[38;5;33mFlatten\u001b[0m)               │ (\u001b[38;5;45mNone\u001b[0m, \u001b[38;5;34m86528\u001b[0m)          │             \u001b[38;5;34m0\u001b[0m │\n",
       "├─────────────────────────────────┼────────────────────────┼───────────────┤\n",
       "│ dense (\u001b[38;5;33mDense\u001b[0m)                   │ (\u001b[38;5;45mNone\u001b[0m, \u001b[38;5;34m128\u001b[0m)            │    \u001b[38;5;34m11,075,712\u001b[0m │\n",
       "├─────────────────────────────────┼────────────────────────┼───────────────┤\n",
       "│ dense_1 (\u001b[38;5;33mDense\u001b[0m)                 │ (\u001b[38;5;45mNone\u001b[0m, \u001b[38;5;34m2\u001b[0m)              │           \u001b[38;5;34m258\u001b[0m │\n",
       "└─────────────────────────────────┴────────────────────────┴───────────────┘\n"
      ]
     },
     "metadata": {},
     "output_type": "display_data"
    },
    {
     "data": {
      "text/html": [
       "<pre style=\"white-space:pre;overflow-x:auto;line-height:normal;font-family:Menlo,'DejaVu Sans Mono',consolas,'Courier New',monospace\"><span style=\"font-weight: bold\"> Total params: </span><span style=\"color: #00af00; text-decoration-color: #00af00\">11,169,218</span> (42.61 MB)\n",
       "</pre>\n"
      ],
      "text/plain": [
       "\u001b[1m Total params: \u001b[0m\u001b[38;5;34m11,169,218\u001b[0m (42.61 MB)\n"
      ]
     },
     "metadata": {},
     "output_type": "display_data"
    },
    {
     "data": {
      "text/html": [
       "<pre style=\"white-space:pre;overflow-x:auto;line-height:normal;font-family:Menlo,'DejaVu Sans Mono',consolas,'Courier New',monospace\"><span style=\"font-weight: bold\"> Trainable params: </span><span style=\"color: #00af00; text-decoration-color: #00af00\">11,169,218</span> (42.61 MB)\n",
       "</pre>\n"
      ],
      "text/plain": [
       "\u001b[1m Trainable params: \u001b[0m\u001b[38;5;34m11,169,218\u001b[0m (42.61 MB)\n"
      ]
     },
     "metadata": {},
     "output_type": "display_data"
    },
    {
     "data": {
      "text/html": [
       "<pre style=\"white-space:pre;overflow-x:auto;line-height:normal;font-family:Menlo,'DejaVu Sans Mono',consolas,'Courier New',monospace\"><span style=\"font-weight: bold\"> Non-trainable params: </span><span style=\"color: #00af00; text-decoration-color: #00af00\">0</span> (0.00 B)\n",
       "</pre>\n"
      ],
      "text/plain": [
       "\u001b[1m Non-trainable params: \u001b[0m\u001b[38;5;34m0\u001b[0m (0.00 B)\n"
      ]
     },
     "metadata": {},
     "output_type": "display_data"
    },
    {
     "data": {
      "text/html": [
       "<pre style=\"white-space:pre;overflow-x:auto;line-height:normal;font-family:Menlo,'DejaVu Sans Mono',consolas,'Courier New',monospace\"></pre>\n"
      ],
      "text/plain": []
     },
     "metadata": {},
     "output_type": "display_data"
    },
    {
     "name": "stdout",
     "output_type": "stream",
     "text": [
      "Model summary saved to /Users/reamy/Desktop/THESIS/SDCNN_MC/model_summary.txt\n"
     ]
    }
   ],
   "source": [
    "# Build model\n",
    "model = tf.keras.Sequential([\n",
    "    tf.keras.layers.Conv2D(32, (3, 3), activation='relu', input_shape=(224, 224, 3)),\n",
    "    tf.keras.layers.MaxPooling2D(2, 2),\n",
    "    tf.keras.layers.Conv2D(64, (3, 3), activation='relu'),\n",
    "    #tf.keras.layers.Conv2D(64, (3, 3), activation='relu'),\n",
    "    tf.keras.layers.MaxPooling2D(2, 2),\n",
    "    tf.keras.layers.Conv2D(128, (3, 3), activation='relu'),\n",
    "    #tf.keras.layers.Conv2D(128, (3, 3), activation='relu'),\n",
    "    tf.keras.layers.MaxPooling2D(2, 2),\n",
    "    tf.keras.layers.Flatten(),\n",
    "    tf.keras.layers.Dense(128, activation='relu'),\n",
    "    tf.keras.layers.Dense(NUM_CLASSES, activation='softmax')\n",
    "])\n",
    "model.compile(optimizer='adamW',\n",
    "              loss='categorical_crossentropy',\n",
    "              metrics=['accuracy', Precision(), Recall(), AUC()])\n",
    "optimizer = tf.keras.optimizers.AdamW(learning_rate=0.0001)\n",
    "model.summary()\n",
    "\n",
    "# Capture the model summary output\n",
    "summary_output = io.StringIO()\n",
    "model.summary(print_fn=lambda x: summary_output.write(x + \"\\n\"))\n",
    "summary_text = summary_output.getvalue()\n",
    "\n",
    "# Save the summary to a text file\n",
    "summary_file_path = os.path.join(os.getcwd(), 'model_summary.txt')\n",
    "with open(summary_file_path, 'w') as f:\n",
    "    f.write(summary_text)\n",
    "\n",
    "print(f\"Model summary saved to {summary_file_path}\")"
   ]
  },
  {
   "cell_type": "code",
   "execution_count": 7,
   "id": "19b9512a",
   "metadata": {},
   "outputs": [],
   "source": [
    "# Early stopping to prevent overfitting\n",
    "early_stop = EarlyStopping(\n",
    "    monitor='val_loss', \n",
    "    patience=5,\n",
    "    restore_best_weights=True\n",
    ")\n",
    "\n",
    "# Save the best model only\n",
    "checkpoint = ModelCheckpoint(\n",
    "    filepath='best_SDCNN_MC_model.h5',          # file to save the best model\n",
    "    monitor='val_loss',                # metric to monitor\n",
    "    save_best_only=True,               # save only if it's the best so far\n",
    "    mode='min',                        # because we want to minimize loss\n",
    "    verbose=1                          # print when saving\n",
    ")"
   ]
  },
  {
   "cell_type": "code",
   "execution_count": 8,
   "id": "6811e054",
   "metadata": {},
   "outputs": [],
   "source": [
    "# --- Custom Callback to Track Metrics ---\n",
    "val_labels = np.concatenate([val_gen[i][1] for i in range(len(val_gen))])\n",
    "class MetricsCallback(tf.keras.callbacks.Callback):\n",
    "    def __init__(self, val_gen, val_labels):\n",
    "        self.val_generator = val_gen\n",
    "        self.val_labels = val_labels.reshape(-1).astype(int)\n",
    "        self.results = []\n",
    "\n",
    "    def on_epoch_end(self, epoch, logs=None):\n",
    "        val_predictions = model.predict(self.val_generator)\n",
    "        val_predictions = (val_predictions > 0.5).astype(int).reshape(-1)\n",
    "\n",
    "        precision = precision_score(self.val_labels, val_predictions)\n",
    "        recall = recall_score(self.val_labels, val_predictions)\n",
    "        f1 = f1_score(self.val_labels, val_predictions)\n",
    "\n",
    "        self.results.append({\n",
    "            'Epoch': epoch + 1,\n",
    "            'Training Accuracy': logs['accuracy'],\n",
    "            'Validation Accuracy': logs['val_accuracy'],\n",
    "            'Training Loss': logs['loss'],\n",
    "            'Validation Loss': logs['val_loss'],\n",
    "            'Precision': precision,\n",
    "            'Recall': recall,\n",
    "            'F1 Score': f1\n",
    "        })\n",
    "\n",
    "        print(f\"Epoch {epoch + 1}: Precision={precision:.4f}, Recall={recall:.4f}, F1 Score={f1:.4f}\")\n",
    "\n",
    "metrics_callback = MetricsCallback(val_gen, val_labels)"
   ]
  },
  {
   "cell_type": "code",
   "execution_count": 9,
   "id": "f5f9172e",
   "metadata": {},
   "outputs": [
    {
     "name": "stderr",
     "output_type": "stream",
     "text": [
      "/Users/reamy/Desktop/THESIS/.venv/lib/python3.12/site-packages/keras/src/trainers/data_adapters/py_dataset_adapter.py:121: UserWarning: Your `PyDataset` class should call `super().__init__(**kwargs)` in its constructor. `**kwargs` can include `workers`, `use_multiprocessing`, `max_queue_size`. Do not pass these arguments to `fit()`, as they will be ignored.\n",
      "  self._warn_if_super_not_called()\n"
     ]
    },
    {
     "name": "stdout",
     "output_type": "stream",
     "text": [
      "Epoch 1/50\n",
      "\u001b[1m1/1\u001b[0m \u001b[32m━━━━━━━━━━━━━━━━━━━━\u001b[0m\u001b[37m\u001b[0m \u001b[1m0s\u001b[0m 392ms/step - accuracy: 0.4206 - auc: 0.4568 - loss: 3.4187 - precision: 0.4206 - recall: 0.42\n",
      "Epoch 1: Precision=0.3214, Recall=0.3214, F1 Score=0.3214\n",
      "\n",
      "Epoch 1: val_loss improved from inf to 1.07658, saving model to best_SDCNN_MC_model.h5\n"
     ]
    },
    {
     "name": "stderr",
     "output_type": "stream",
     "text": [
      "WARNING:absl:You are saving your model as an HDF5 file via `model.save()` or `keras.saving.save_model(model)`. This file format is considered legacy. We recommend using instead the native Keras format, e.g. `model.save('my_model.keras')` or `keras.saving.save_model(model, 'my_model.keras')`. \n"
     ]
    },
    {
     "name": "stdout",
     "output_type": "stream",
     "text": [
      "\u001b[1m3/3\u001b[0m \u001b[32m━━━━━━━━━━━━━━━━━━━━\u001b[0m\u001b[37m\u001b[0m \u001b[1m4s\u001b[0m 1s/step - accuracy: 0.4239 - auc: 0.4632 - loss: 3.6262 - precision: 0.4239 - recall: 0.4239 - val_accuracy: 0.3214 - val_auc: 0.4936 - val_loss: 1.0766 - val_precision: 0.3214 - val_recall: 0.3214\n",
      "Epoch 2/50\n",
      "\u001b[1m1/1\u001b[0m \u001b[32m━━━━━━━━━━━━━━━━━━━━\u001b[0m\u001b[37m\u001b[0m \u001b[1m0s\u001b[0m 297ms/step - accuracy: 0.5030 - auc: 0.5228 - loss: 0.8046 - precision: 0.5030 - recall: 0.50\n",
      "Epoch 2: Precision=0.6071, Recall=0.6071, F1 Score=0.6071\n",
      "\n",
      "Epoch 2: val_loss improved from 1.07658 to 0.59649, saving model to best_SDCNN_MC_model.h5\n"
     ]
    },
    {
     "name": "stderr",
     "output_type": "stream",
     "text": [
      "WARNING:absl:You are saving your model as an HDF5 file via `model.save()` or `keras.saving.save_model(model)`. This file format is considered legacy. We recommend using instead the native Keras format, e.g. `model.save('my_model.keras')` or `keras.saving.save_model(model, 'my_model.keras')`. \n"
     ]
    },
    {
     "name": "stdout",
     "output_type": "stream",
     "text": [
      "\u001b[1m3/3\u001b[0m \u001b[32m━━━━━━━━━━━━━━━━━━━━\u001b[0m\u001b[37m\u001b[0m \u001b[1m3s\u001b[0m 847ms/step - accuracy: 0.5128 - auc: 0.5369 - loss: 0.8082 - precision: 0.5128 - recall: 0.5128 - val_accuracy: 0.7500 - val_auc: 0.8788 - val_loss: 0.5965 - val_precision: 0.7500 - val_recall: 0.7500\n",
      "Epoch 3/50\n",
      "\u001b[1m1/1\u001b[0m \u001b[32m━━━━━━━━━━━━━━━━━━━━\u001b[0m\u001b[37m\u001b[0m \u001b[1m0s\u001b[0m 297ms/step - accuracy: 0.6074 - auc: 0.6944 - loss: 0.6654 - precision: 0.6074 - recall: 0.60\n",
      "Epoch 3: Precision=0.6071, Recall=0.6071, F1 Score=0.6071\n",
      "\n",
      "Epoch 3: val_loss improved from 0.59649 to 0.40959, saving model to best_SDCNN_MC_model.h5\n"
     ]
    },
    {
     "name": "stderr",
     "output_type": "stream",
     "text": [
      "WARNING:absl:You are saving your model as an HDF5 file via `model.save()` or `keras.saving.save_model(model)`. This file format is considered legacy. We recommend using instead the native Keras format, e.g. `model.save('my_model.keras')` or `keras.saving.save_model(model, 'my_model.keras')`. \n"
     ]
    },
    {
     "name": "stdout",
     "output_type": "stream",
     "text": [
      "\u001b[1m3/3\u001b[0m \u001b[32m━━━━━━━━━━━━━━━━━━━━\u001b[0m\u001b[37m\u001b[0m \u001b[1m2s\u001b[0m 983ms/step - accuracy: 0.5881 - auc: 0.6747 - loss: 0.6623 - precision: 0.5881 - recall: 0.5881 - val_accuracy: 0.7500 - val_auc: 0.9069 - val_loss: 0.4096 - val_precision: 0.7500 - val_recall: 0.7500\n",
      "Epoch 4/50\n",
      "\u001b[1m1/1\u001b[0m \u001b[32m━━━━━━━━━━━━━━━━━━━━\u001b[0m\u001b[37m\u001b[0m \u001b[1m0s\u001b[0m 304ms/step - accuracy: 0.7963 - auc: 0.8828 - loss: 0.4957 - precision: 0.7963 - recall: 0.79\n",
      "Epoch 4: Precision=0.4643, Recall=0.4643, F1 Score=0.4643\n",
      "\n",
      "Epoch 4: val_loss did not improve from 0.40959\n",
      "\u001b[1m3/3\u001b[0m \u001b[32m━━━━━━━━━━━━━━━━━━━━\u001b[0m\u001b[37m\u001b[0m \u001b[1m2s\u001b[0m 839ms/step - accuracy: 0.7960 - auc: 0.8835 - loss: 0.4917 - precision: 0.7960 - recall: 0.7960 - val_accuracy: 0.7500 - val_auc: 0.9094 - val_loss: 0.4256 - val_precision: 0.7500 - val_recall: 0.7500\n",
      "Epoch 5/50\n",
      "\u001b[1m1/1\u001b[0m \u001b[32m━━━━━━━━━━━━━━━━━━━━\u001b[0m\u001b[37m\u001b[0m \u001b[1m0s\u001b[0m 321ms/step - accuracy: 0.8725 - auc: 0.9668 - loss: 0.3195 - precision: 0.8725 - recall: 0.87\n",
      "Epoch 5: Precision=0.6429, Recall=0.6429, F1 Score=0.6429\n",
      "\n",
      "Epoch 5: val_loss improved from 0.40959 to 0.16526, saving model to best_SDCNN_MC_model.h5\n"
     ]
    },
    {
     "name": "stderr",
     "output_type": "stream",
     "text": [
      "WARNING:absl:You are saving your model as an HDF5 file via `model.save()` or `keras.saving.save_model(model)`. This file format is considered legacy. We recommend using instead the native Keras format, e.g. `model.save('my_model.keras')` or `keras.saving.save_model(model, 'my_model.keras')`. \n"
     ]
    },
    {
     "name": "stdout",
     "output_type": "stream",
     "text": [
      "\u001b[1m3/3\u001b[0m \u001b[32m━━━━━━━━━━━━━━━━━━━━\u001b[0m\u001b[37m\u001b[0m \u001b[1m3s\u001b[0m 945ms/step - accuracy: 0.8712 - auc: 0.9661 - loss: 0.3146 - precision: 0.8712 - recall: 0.8712 - val_accuracy: 0.9286 - val_auc: 0.9898 - val_loss: 0.1653 - val_precision: 0.9286 - val_recall: 0.9286\n",
      "Epoch 6/50\n",
      "\u001b[1m1/1\u001b[0m \u001b[32m━━━━━━━━━━━━━━━━━━━━\u001b[0m\u001b[37m\u001b[0m \u001b[1m0s\u001b[0m 304ms/step - accuracy: 0.8549 - auc: 0.9233 - loss: 0.3933 - precision: 0.8549 - recall: 0.85\n",
      "Epoch 6: Precision=0.4286, Recall=0.4286, F1 Score=0.4286\n",
      "\n",
      "Epoch 6: val_loss did not improve from 0.16526\n",
      "\u001b[1m3/3\u001b[0m \u001b[32m━━━━━━━━━━━━━━━━━━━━\u001b[0m\u001b[37m\u001b[0m \u001b[1m2s\u001b[0m 936ms/step - accuracy: 0.8611 - auc: 0.9279 - loss: 0.3727 - precision: 0.8611 - recall: 0.8611 - val_accuracy: 0.8571 - val_auc: 0.9745 - val_loss: 0.2307 - val_precision: 0.8571 - val_recall: 0.8571\n",
      "Epoch 7/50\n",
      "\u001b[1m1/1\u001b[0m \u001b[32m━━━━━━━━━━━━━━━━━━━━\u001b[0m\u001b[37m\u001b[0m \u001b[1m0s\u001b[0m 296ms/step - accuracy: 0.9024 - auc: 0.9504 - loss: 0.2842 - precision: 0.9024 - recall: 0.90\n",
      "Epoch 7: Precision=0.6071, Recall=0.6071, F1 Score=0.6071\n",
      "\n",
      "Epoch 7: val_loss did not improve from 0.16526\n",
      "\u001b[1m3/3\u001b[0m \u001b[32m━━━━━━━━━━━━━━━━━━━━\u001b[0m\u001b[37m\u001b[0m \u001b[1m2s\u001b[0m 839ms/step - accuracy: 0.8967 - auc: 0.9464 - loss: 0.2906 - precision: 0.8967 - recall: 0.8967 - val_accuracy: 0.7500 - val_auc: 0.9005 - val_loss: 0.6323 - val_precision: 0.7500 - val_recall: 0.7500\n",
      "Epoch 8/50\n",
      "\u001b[1m1/1\u001b[0m \u001b[32m━━━━━━━━━━━━━━━━━━━━\u001b[0m\u001b[37m\u001b[0m \u001b[1m0s\u001b[0m 325ms/step - accuracy: 0.8008 - auc: 0.9009 - loss: 0.5996 - precision: 0.8008 - recall: 0.80\n",
      "Epoch 8: Precision=0.4286, Recall=0.4286, F1 Score=0.4286\n",
      "\n",
      "Epoch 8: val_loss did not improve from 0.16526\n",
      "\u001b[1m3/3\u001b[0m \u001b[32m━━━━━━━━━━━━━━━━━━━━\u001b[0m\u001b[37m\u001b[0m \u001b[1m2s\u001b[0m 833ms/step - accuracy: 0.8144 - auc: 0.9070 - loss: 0.5599 - precision: 0.8144 - recall: 0.8144 - val_accuracy: 0.6071 - val_auc: 0.7015 - val_loss: 1.0429 - val_precision: 0.6071 - val_recall: 0.6071\n",
      "Epoch 9/50\n",
      "\u001b[1m1/1\u001b[0m \u001b[32m━━━━━━━━━━━━━━━━━━━━\u001b[0m\u001b[37m\u001b[0m \u001b[1m0s\u001b[0m 299ms/step - accuracy: 0.8025 - auc: 0.8779 - loss: 0.4648 - precision: 0.8025 - recall: 0.80\n",
      "Epoch 9: Precision=0.6429, Recall=0.6429, F1 Score=0.6429\n",
      "\n",
      "Epoch 9: val_loss improved from 0.16526 to 0.15270, saving model to best_SDCNN_MC_model.h5\n"
     ]
    },
    {
     "name": "stderr",
     "output_type": "stream",
     "text": [
      "WARNING:absl:You are saving your model as an HDF5 file via `model.save()` or `keras.saving.save_model(model)`. This file format is considered legacy. We recommend using instead the native Keras format, e.g. `model.save('my_model.keras')` or `keras.saving.save_model(model, 'my_model.keras')`. \n"
     ]
    },
    {
     "name": "stdout",
     "output_type": "stream",
     "text": [
      "\u001b[1m3/3\u001b[0m \u001b[32m━━━━━━━━━━━━━━━━━━━━\u001b[0m\u001b[37m\u001b[0m \u001b[1m2s\u001b[0m 883ms/step - accuracy: 0.7977 - auc: 0.8779 - loss: 0.4874 - precision: 0.7977 - recall: 0.7977 - val_accuracy: 0.9643 - val_auc: 0.9936 - val_loss: 0.1527 - val_precision: 0.9643 - val_recall: 0.9643\n",
      "Epoch 10/50\n",
      "\u001b[1m1/1\u001b[0m \u001b[32m━━━━━━━━━━━━━━━━━━━━\u001b[0m\u001b[37m\u001b[0m \u001b[1m0s\u001b[0m 358ms/step - accuracy: 0.8775 - auc: 0.9439 - loss: 0.2993 - precision: 0.8775 - recall: 0.87\n",
      "Epoch 10: Precision=0.4286, Recall=0.4286, F1 Score=0.4286\n",
      "\n",
      "Epoch 10: val_loss did not improve from 0.15270\n",
      "\u001b[1m3/3\u001b[0m \u001b[32m━━━━━━━━━━━━━━━━━━━━\u001b[0m\u001b[37m\u001b[0m \u001b[1m3s\u001b[0m 927ms/step - accuracy: 0.8720 - auc: 0.9395 - loss: 0.3038 - precision: 0.8720 - recall: 0.8720 - val_accuracy: 0.7143 - val_auc: 0.8329 - val_loss: 0.5677 - val_precision: 0.7143 - val_recall: 0.7143\n",
      "Epoch 11/50\n",
      "\u001b[1m1/1\u001b[0m \u001b[32m━━━━━━━━━━━━━━━━━━━━\u001b[0m\u001b[37m\u001b[0m \u001b[1m0s\u001b[0m 317ms/step - accuracy: 0.8886 - auc: 0.9619 - loss: 0.2352 - precision: 0.8886 - recall: 0.88\n",
      "Epoch 11: Precision=0.5714, Recall=0.5714, F1 Score=0.5714\n",
      "\n",
      "Epoch 11: val_loss did not improve from 0.15270\n",
      "\u001b[1m3/3\u001b[0m \u001b[32m━━━━━━━━━━━━━━━━━━━━\u001b[0m\u001b[37m\u001b[0m \u001b[1m2s\u001b[0m 825ms/step - accuracy: 0.8953 - auc: 0.9649 - loss: 0.2279 - precision: 0.8953 - recall: 0.8953 - val_accuracy: 0.8214 - val_auc: 0.9298 - val_loss: 0.3866 - val_precision: 0.8214 - val_recall: 0.8214\n",
      "Epoch 12/50\n",
      "\u001b[1m1/1\u001b[0m \u001b[32m━━━━━━━━━━━━━━━━━━━━\u001b[0m\u001b[37m\u001b[0m \u001b[1m0s\u001b[0m 300ms/step - accuracy: 0.8516 - auc: 0.9421 - loss: 0.3728 - precision: 0.8516 - recall: 0.85\n",
      "Epoch 12: Precision=0.4286, Recall=0.4286, F1 Score=0.4286\n",
      "\n",
      "Epoch 12: val_loss did not improve from 0.15270\n",
      "\u001b[1m3/3\u001b[0m \u001b[32m━━━━━━━━━━━━━━━━━━━━\u001b[0m\u001b[37m\u001b[0m \u001b[1m2s\u001b[0m 803ms/step - accuracy: 0.8586 - auc: 0.9445 - loss: 0.3582 - precision: 0.8586 - recall: 0.8586 - val_accuracy: 0.8214 - val_auc: 0.8954 - val_loss: 0.3938 - val_precision: 0.8214 - val_recall: 0.8214\n",
      "Epoch 13/50\n",
      "\u001b[1m1/1\u001b[0m \u001b[32m━━━━━━━━━━━━━━━━━━━━\u001b[0m\u001b[37m\u001b[0m \u001b[1m0s\u001b[0m 296ms/step - accuracy: 0.9298 - auc: 0.9790 - loss: 0.1933 - precision: 0.9298 - recall: 0.92\n",
      "Epoch 13: Precision=0.4643, Recall=0.4643, F1 Score=0.4643\n",
      "\n",
      "Epoch 13: val_loss did not improve from 0.15270\n",
      "\u001b[1m3/3\u001b[0m \u001b[32m━━━━━━━━━━━━━━━━━━━━\u001b[0m\u001b[37m\u001b[0m \u001b[1m2s\u001b[0m 806ms/step - accuracy: 0.9172 - auc: 0.9729 - loss: 0.2056 - precision: 0.9172 - recall: 0.9172 - val_accuracy: 0.9286 - val_auc: 0.9758 - val_loss: 0.2244 - val_precision: 0.9286 - val_recall: 0.9286\n",
      "Epoch 14/50\n",
      "\u001b[1m1/1\u001b[0m \u001b[32m━━━━━━━━━━━━━━━━━━━━\u001b[0m\u001b[37m\u001b[0m \u001b[1m0s\u001b[0m 296ms/step - accuracy: 0.9014 - auc: 0.9662 - loss: 0.2326 - precision: 0.9014 - recall: 0.90\n",
      "Epoch 14: Precision=0.7143, Recall=0.7143, F1 Score=0.7143\n",
      "\n",
      "Epoch 14: val_loss improved from 0.15270 to 0.13576, saving model to best_SDCNN_MC_model.h5\n"
     ]
    },
    {
     "name": "stderr",
     "output_type": "stream",
     "text": [
      "WARNING:absl:You are saving your model as an HDF5 file via `model.save()` or `keras.saving.save_model(model)`. This file format is considered legacy. We recommend using instead the native Keras format, e.g. `model.save('my_model.keras')` or `keras.saving.save_model(model, 'my_model.keras')`. \n"
     ]
    },
    {
     "name": "stdout",
     "output_type": "stream",
     "text": [
      "\u001b[1m3/3\u001b[0m \u001b[32m━━━━━━━━━━━━━━━━━━━━\u001b[0m\u001b[37m\u001b[0m \u001b[1m2s\u001b[0m 834ms/step - accuracy: 0.8989 - auc: 0.9666 - loss: 0.2384 - precision: 0.8989 - recall: 0.8989 - val_accuracy: 0.9643 - val_auc: 0.9987 - val_loss: 0.1358 - val_precision: 0.9643 - val_recall: 0.9643\n",
      "Epoch 15/50\n",
      "\u001b[1m1/1\u001b[0m \u001b[32m━━━━━━━━━━━━━━━━━━━━\u001b[0m\u001b[37m\u001b[0m \u001b[1m0s\u001b[0m 306ms/step - accuracy: 0.9614 - auc: 0.9892 - loss: 0.1278 - precision: 0.9614 - recall: 0.96\n",
      "Epoch 15: Precision=0.5000, Recall=0.5000, F1 Score=0.5000\n",
      "\n",
      "Epoch 15: val_loss did not improve from 0.13576\n",
      "\u001b[1m3/3\u001b[0m \u001b[32m━━━━━━━━━━━━━━━━━━━━\u001b[0m\u001b[37m\u001b[0m \u001b[1m2s\u001b[0m 999ms/step - accuracy: 0.9650 - auc: 0.9906 - loss: 0.1215 - precision: 0.9650 - recall: 0.9650 - val_accuracy: 0.7500 - val_auc: 0.9031 - val_loss: 0.4294 - val_precision: 0.7500 - val_recall: 0.7500\n",
      "Epoch 16/50\n",
      "\u001b[1m1/1\u001b[0m \u001b[32m━━━━━━━━━━━━━━━━━━━━\u001b[0m\u001b[37m\u001b[0m \u001b[1m0s\u001b[0m 296ms/step - accuracy: 0.9549 - auc: 0.9882 - loss: 0.1378 - precision: 0.9549 - recall: 0.95\n",
      "Epoch 16: Precision=0.4286, Recall=0.4286, F1 Score=0.4286\n",
      "\n",
      "Epoch 16: val_loss did not improve from 0.13576\n",
      "\u001b[1m3/3\u001b[0m \u001b[32m━━━━━━━━━━━━━━━━━━━━\u001b[0m\u001b[37m\u001b[0m \u001b[1m2s\u001b[0m 800ms/step - accuracy: 0.9451 - auc: 0.9835 - loss: 0.1527 - precision: 0.9451 - recall: 0.9451 - val_accuracy: 0.9286 - val_auc: 0.9770 - val_loss: 0.1946 - val_precision: 0.9286 - val_recall: 0.9286\n",
      "Epoch 17/50\n",
      "\u001b[1m1/1\u001b[0m \u001b[32m━━━━━━━━━━━━━━━━━━━━\u001b[0m\u001b[37m\u001b[0m \u001b[1m0s\u001b[0m 314ms/step - accuracy: 0.9839 - auc: 0.9971 - loss: 0.0958 - precision: 0.9839 - recall: 0.98\n",
      "Epoch 17: Precision=0.5000, Recall=0.5000, F1 Score=0.5000\n",
      "\n",
      "Epoch 17: val_loss did not improve from 0.13576\n",
      "\u001b[1m3/3\u001b[0m \u001b[32m━━━━━━━━━━━━━━━━━━━━\u001b[0m\u001b[37m\u001b[0m \u001b[1m2s\u001b[0m 836ms/step - accuracy: 0.9759 - auc: 0.9957 - loss: 0.1051 - precision: 0.9759 - recall: 0.9759 - val_accuracy: 0.8929 - val_auc: 0.9656 - val_loss: 0.2747 - val_precision: 0.8929 - val_recall: 0.8929\n",
      "Epoch 18/50\n",
      "\u001b[1m1/1\u001b[0m \u001b[32m━━━━━━━━━━━━━━━━━━━━\u001b[0m\u001b[37m\u001b[0m \u001b[1m0s\u001b[0m 310ms/step - accuracy: 0.9564 - auc: 0.9925 - loss: 0.1325 - precision: 0.9564 - recall: 0.95\n",
      "Epoch 18: Precision=0.6071, Recall=0.6071, F1 Score=0.6071\n",
      "\n",
      "Epoch 18: val_loss did not improve from 0.13576\n",
      "\u001b[1m3/3\u001b[0m \u001b[32m━━━━━━━━━━━━━━━━━━━━\u001b[0m\u001b[37m\u001b[0m \u001b[1m3s\u001b[0m 892ms/step - accuracy: 0.9523 - auc: 0.9905 - loss: 0.1414 - precision: 0.9523 - recall: 0.9523 - val_accuracy: 0.8929 - val_auc: 0.9707 - val_loss: 0.2314 - val_precision: 0.8929 - val_recall: 0.8929\n",
      "Epoch 19/50\n",
      "\u001b[1m1/1\u001b[0m \u001b[32m━━━━━━━━━━━━━━━━━━━━\u001b[0m\u001b[37m\u001b[0m \u001b[1m0s\u001b[0m 309ms/step - accuracy: 0.9564 - auc: 0.9920 - loss: 0.1114 - precision: 0.9564 - recall: 0.95\n",
      "Epoch 19: Precision=0.5357, Recall=0.5357, F1 Score=0.5357\n",
      "\n",
      "Epoch 19: val_loss did not improve from 0.13576\n",
      "\u001b[1m3/3\u001b[0m \u001b[32m━━━━━━━━━━━━━━━━━━━━\u001b[0m\u001b[37m\u001b[0m \u001b[1m2s\u001b[0m 835ms/step - accuracy: 0.9523 - auc: 0.9896 - loss: 0.1221 - precision: 0.9523 - recall: 0.9523 - val_accuracy: 0.7857 - val_auc: 0.9260 - val_loss: 0.3829 - val_precision: 0.7857 - val_recall: 0.7857\n",
      "\n",
      "Training completed in 47.93 seconds (0.80 minutes).\n"
     ]
    }
   ],
   "source": [
    "# --- Training the Model ---\n",
    "\n",
    "class_weights = compute_class_weight('balanced',\n",
    "                                     classes=np.unique(train_gen.classes),\n",
    "                                     y=train_gen.classes)\n",
    "#starting timer\n",
    "start_time=time.time()\n",
    "history = model.fit(\n",
    "    train_gen,\n",
    "    epochs=EPOCHS,\n",
    "    validation_data=val_gen,\n",
    "    steps_per_epoch=len(train_gen),\n",
    "    validation_steps=len(val_gen),\n",
    "    callbacks=[metrics_callback,early_stop,checkpoint],class_weight=dict(enumerate(class_weights)))\n",
    "# End timer\n",
    "end_time = time.time()\n",
    "# Calculate and print elapsed time\n",
    "elapsed_time = end_time - start_time\n",
    "print(f\"\\nTraining completed in {elapsed_time:.2f} seconds ({elapsed_time / 60:.2f} minutes).\")"
   ]
  },
  {
   "cell_type": "code",
   "execution_count": 10,
   "id": "3d4d07fc",
   "metadata": {},
   "outputs": [
    {
     "data": {
      "image/png": "[encoded data removed]",
      "text/plain": [
       "<Figure size 1200x500 with 2 Axes>"
      ]
     },
     "metadata": {},
     "output_type": "display_data"
    }
   ],
   "source": [
    "# --- Plot Training Curves ---\n",
    "def plot_history(hist):\n",
    "    acc = hist.history['accuracy']\n",
    "    val_acc = hist.history['val_accuracy']\n",
    "    loss = hist.history['loss']\n",
    "    val_loss = hist.history['val_loss']\n",
    "\n",
    "    epochs_range = range(len(acc))\n",
    "\n",
    "    plt.figure(figsize=(12, 5))\n",
    "    plt.subplot(1, 2, 1)\n",
    "    plt.plot(epochs_range, acc, label='Training Accuracy')\n",
    "    plt.plot(epochs_range, val_acc, label='Validation Accuracy')\n",
    "    plt.legend()\n",
    "    plt.title('Accuracy1')\n",
    "\n",
    "    plt.subplot(1, 2, 2)\n",
    "    plt.plot(epochs_range, loss, label='Training Loss')\n",
    "    plt.plot(epochs_range, val_loss, label='Validation Loss')\n",
    "    plt.legend()\n",
    "    plt.title('Loss1')\n",
    "\n",
    "    plt.show()\n",
    "\n",
    "plot_history(history)"
   ]
  },
  {
   "cell_type": "code",
   "execution_count": 11,
   "id": "955fcfd5",
   "metadata": {},
   "outputs": [
    {
     "name": "stdout",
     "output_type": "stream",
     "text": [
      "Training results saved to /Users/reamy/Desktop/THESIS/SDCNN_MC/training_results1.csv\n",
      "All plots saved successfully.\n"
     ]
    }
   ],
   "source": [
    "# --- Save Metrics to CSV ---\n",
    "results_df1 = pd.DataFrame(metrics_callback.results)\n",
    "results_file_path = os.path.join(os.getcwd(), 'training_results1.csv')\n",
    "results_df1.to_csv(results_file_path, index=False)\n",
    "print(f\"Training results saved to {results_file_path}\")\n",
    "\n",
    "# --- Plotting Metrics ---\n",
    "metrics = ['Precision', 'Recall', 'F1 Score', 'Training Accuracy', 'Validation Accuracy', 'Training Loss', 'Validation Loss']\n",
    "titles = ['Precision1', 'Recall1', 'F1 Score1', 'Training Accuracy1', 'Validation Accuracy1', 'Training Loss1', 'Validation Loss1']\n",
    "file_names = ['precision_plot1.png', 'recall_plot1.png', 'f1_score_plot1.png',\n",
    "              'training_accuracy_plo1t.png', 'validation_accuracy_plot1.png',\n",
    "              'training_loss_plot1.png', 'validation_loss_plot1.png']\n",
    "\n",
    "for i, metric in enumerate(metrics):\n",
    "    plt.figure(figsize=(8, 5))\n",
    "    plt.plot(results_df1[metric], label=metric, linewidth=2, color='red')\n",
    "    plt.title(titles[i], fontsize=14)\n",
    "    plt.xlabel(\"Epoch\", fontsize=12)\n",
    "    plt.ylabel(metric, fontsize=12)\n",
    "    plt.grid(True, linestyle='--', alpha=0.6)\n",
    "    plt.legend(fontsize=10)\n",
    "\n",
    "    # Annotate last value\n",
    "    last_epoch = len(results_df1[metric]) - 1\n",
    "    last_value = results_df1[metric].iloc[-1]\n",
    "    plt.annotate(f\"{last_value:.4f}\",\n",
    "                 xy=(last_epoch, last_value),\n",
    "                 xytext=(last_epoch, last_value + 0.02),\n",
    "                 ha='center',\n",
    "                 fontsize=10,\n",
    "                 bbox=dict(boxstyle=\"round,pad=0.3\", fc=\"yellow\", ec=\"black\", lw=1))\n",
    "\n",
    "    plt.tight_layout()\n",
    "    plt.savefig(file_names[i], dpi=300)\n",
    "    plt.close()\n",
    "\n",
    "print(\"All plots saved successfully.\")"
   ]
  },
  {
   "cell_type": "code",
   "execution_count": 12,
   "id": "8c215612",
   "metadata": {},
   "outputs": [
    {
     "name": "stdout",
     "output_type": "stream",
     "text": [
      "\u001b[1m1/1\u001b[0m \u001b[32m━━━━━━━━━━━━━━━━━━━━\u001b[0m\u001b[37m\u001b[0m \u001b[1m0s\u001b[0m 350ms/step\n",
      "Classification Report:\n",
      "              precision    recall  f1-score   support\n",
      "\n",
      "       Block       0.38      0.33      0.35         9\n",
      "   PatchWork       0.70      0.74      0.72        19\n",
      "\n",
      "    accuracy                           0.61        28\n",
      "   macro avg       0.54      0.54      0.54        28\n",
      "weighted avg       0.60      0.61      0.60        28\n",
      "\n"
     ]
    },
    {
     "data": {
      "image/png": "[encoded data removed]",
      "text/plain": [
       "<Figure size 800x600 with 2 Axes>"
      ]
     },
     "metadata": {},
     "output_type": "display_data"
    }
   ],
   "source": [
    "# --- Evaluation ---\n",
    "val_gen.reset()\n",
    "predictions = model.predict(val_gen)\n",
    "predicted_classes = np.argmax(predictions, axis=1)\n",
    "true_classes = val_gen.classes\n",
    "class_labels = list(val_gen.class_indices.keys())\n",
    "\n",
    "print(\"Classification Report:\")\n",
    "print(classification_report(true_classes, predicted_classes, target_names=class_labels))\n",
    "\n",
    "# Confusion Matrix\n",
    "cm = confusion_matrix(true_classes, predicted_classes)\n",
    "plt.figure(figsize=(8,6))\n",
    "sns.heatmap(cm, annot=True, fmt=\"d\", xticklabels=class_labels, yticklabels=class_labels, cmap='Blues')\n",
    "plt.title('Confusion Matrix')\n",
    "plt.xlabel('Predicted Label')\n",
    "plt.ylabel('True Label')\n",
    "plt.show()\n",
    "\n"
   ]
  },
  {
   "cell_type": "code",
   "execution_count": null,
   "id": "5a583b0a",
   "metadata": {},
   "outputs": [],
   "source": [
    "report_dict = classification_report(true_classes, predicted_classes, target_names=class_labels, output_dict=True)\n",
    "class_results = pd.DataFrame(report_dict).transpose()\n",
    "\n",
    "# (Optional) Save to CSV\n",
    "class_results.to_csv(\"classification_report.csv\")\n",
    "\n",
    "# Show preview\n",
    "print(class_results)"
   ]
  },
  {
   "cell_type": "code",
   "execution_count": null,
   "id": "a0a0b933",
   "metadata": {},
   "outputs": [],
   "source": [
    "# --- Save Model ---\n",
    "model.save('SDCNN_MC_model1.h5')"
   ]
  },
  {
   "cell_type": "code",
   "execution_count": null,
   "id": "1ab3820f",
   "metadata": {},
   "outputs": [],
   "source": [
    "\n",
    "\n",
    "# Get a batch of images and labels\n",
    "images, labels = next(val_gen)\n",
    "\n",
    "# Number of images to display\n",
    "N = 5\n",
    "\n",
    "# Randomly choose N indices from the batch\n",
    "indices = random.sample(range(images.shape[0]), N)\n",
    "\n",
    "# Get class labels\n",
    "class_labels = list(val_gen.class_indices.keys())\n",
    "\n",
    "# Plot images with predictions\n",
    "plt.figure(figsize=(15, 5))\n",
    "\n",
    "for i, idx in enumerate(indices):\n",
    "    img = images[idx]\n",
    "    true_label = np.argmax(labels[idx])\n",
    "\n",
    "    # Predict\n",
    "    pred = model.predict(img[np.newaxis, ...], verbose=0)\n",
    "    pred_label = np.argmax(pred)\n",
    "\n",
    "    # Plot image\n",
    "    plt.subplot(1, N, i+1)\n",
    "    plt.imshow(img)\n",
    "    plt.axis('off')\n",
    "    plt.title(f\"True: {class_labels[true_label]}\\nPred: {class_labels[pred_label]}\")\n",
    "\n",
    "plt.tight_layout()\n",
    "plt.show()"
   ]
  },
  {
   "cell_type": "code",
   "execution_count": null,
   "id": "2a43f040",
   "metadata": {},
   "outputs": [],
   "source": []
  }
 ],
 "metadata": {
  "kernelspec": {
   "display_name": ".venv",
   "language": "python",
   "name": "python3"
  },
  "language_info": {
   "codemirror_mode": {
    "name": "ipython",
    "version": 3
   },
   "file_extension": ".py",
   "mimetype": "text/x-python",
   "name": "python",
   "nbconvert_exporter": "python",
   "pygments_lexer": "ipython3",
   "version": "3.12.7"
  }
 },
 "nbformat": 4,
 "nbformat_minor": 5
}
