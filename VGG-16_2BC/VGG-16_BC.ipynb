{
 "cells": [
  {
   "cell_type": "code",
   "execution_count": 1,
   "id": "6d4ef5b2",
   "metadata": {},
   "outputs": [],
   "source": [
    "\n",
    "# IRT Fault Detection Using Transfer Learning with VGG-16\n",
    "\n",
    "import os\n",
    "import numpy as np\n",
    "import pandas as pd\n",
    "import tensorflow as tf\n",
    "import matplotlib.pyplot as plt\n",
    "from sklearn.metrics import precision_score, recall_score, f1_score, confusion_matrix, ConfusionMatrixDisplay\n",
    "from tensorflow.keras.preprocessing.image import ImageDataGenerator\n",
    "from tensorflow.keras.metrics import Precision, Recall, AUC\n",
    "from sklearn.model_selection import train_test_split\n",
    "import shutil\n",
    "from tensorflow.keras.utils import plot_model\n",
    "from IPython.display import Image\n",
    "import pandas as pd\n",
    "import io\n",
    "from sklearn.metrics import confusion_matrix, ConfusionMatrixDisplay\n",
    "from tensorflow.keras.callbacks import EarlyStopping, ModelCheckpoint\n",
    "import io\n",
    "import time"
   ]
  },
  {
   "cell_type": "code",
   "execution_count": 2,
   "id": "d0dc5769",
   "metadata": {},
   "outputs": [],
   "source": [
    "# --- Setup ---\n",
    "IMAGE_SIZE = (224, 224)\n",
    "BATCH_SIZE = 32\n",
    "EPOCHS = 70"
   ]
  },
  {
   "cell_type": "code",
   "execution_count": 3,
   "id": "475f7234",
   "metadata": {},
   "outputs": [],
   "source": [
    "# --- Organize Dataset ---\n",
    "original_data_dir = '/Users/reamy/Desktop/THESIS/MC_dataset copy 2'  # Contains block and patchwork\n",
    "base_dir = 'data/processed'\n",
    "train_dir = os.path.join(base_dir, 'train')\n",
    "val_dir = os.path.join(base_dir, 'val')\n",
    "\n",
    "# Create directories\n",
    "for split in ['train', 'val']:\n",
    "    for cls in ['Block', 'PatchWork']:\n",
    "        os.makedirs(os.path.join(base_dir, split, cls), exist_ok=True)\n",
    "\n",
    "# Split and copy images\n",
    "for cls in ['Block', 'PatchWork']:\n",
    "    cls_dir = os.path.join(original_data_dir, cls)\n",
    "    images = os.listdir(cls_dir)\n",
    "    train_images, val_images = train_test_split(images, test_size=0.2, random_state=42)\n",
    "\n",
    "    for img in train_images:\n",
    "        shutil.copy(os.path.join(cls_dir, img), os.path.join(train_dir, cls, img))\n",
    "    for img in val_images:\n",
    "        shutil.copy(os.path.join(cls_dir, img), os.path.join(val_dir, cls, img))"
   ]
  },
  {
   "cell_type": "code",
   "execution_count": 4,
   "id": "61c4c820",
   "metadata": {},
   "outputs": [
    {
     "name": "stdout",
     "output_type": "stream",
     "text": [
      "Found 68 images belonging to 2 classes.\n",
      "Found 18 images belonging to 2 classes.\n"
     ]
    }
   ],
   "source": [
    "# --- Data Augmentation and Generators ---\n",
    "train_datagen = ImageDataGenerator(\n",
    "    rescale=1./255,\n",
    "    rotation_range=20,\n",
    "    width_shift_range=0.2,\n",
    "    height_shift_range=0.2,\n",
    "    shear_range=0.2,\n",
    "    zoom_range=0.2,\n",
    "    horizontal_flip=True,\n",
    "    fill_mode='nearest'\n",
    ")\n",
    "\n",
    "val_datagen = ImageDataGenerator(rescale=1./255)\n",
    "\n",
    "train_generator = train_datagen.flow_from_directory(\n",
    "    train_dir,\n",
    "    target_size=IMAGE_SIZE,\n",
    "    batch_size=BATCH_SIZE,\n",
    "    class_mode='binary'\n",
    ")\n",
    "\n",
    "val_generator = val_datagen.flow_from_directory(\n",
    "    val_dir,\n",
    "    target_size=IMAGE_SIZE,\n",
    "    batch_size=BATCH_SIZE,\n",
    "    class_mode='binary',\n",
    "    shuffle=False\n",
    ")"
   ]
  },
  {
   "cell_type": "code",
   "execution_count": 5,
   "id": "41e31751",
   "metadata": {},
   "outputs": [],
   "source": [
    "# --- Get True Labels for Callback ---\n",
    "val_labels = np.concatenate([val_generator[i][1] for i in range(len(val_generator))])\n",
    "\n",
    "# --- Load VGG16 base model (without top) ---\n",
    "base_model = tf.keras.applications.VGG16(weights='imagenet', include_top=False, input_shape=(224, 224, 3))\n",
    "base_model.trainable = False  # Freeze base model\n",
    "\n",
    "# --- Add custom classification head ---\n",
    "model = tf.keras.Sequential([\n",
    "    base_model,\n",
    "    tf.keras.layers.GlobalAveragePooling2D(),\n",
    "    tf.keras.layers.Dense(128, activation='relu'),\n",
    "    tf.keras.layers.Dropout(0.5),\n",
    "    tf.keras.layers.Dense(1, activation='sigmoid')\n",
    "])"
   ]
  },
  {
   "cell_type": "code",
   "execution_count": 6,
   "id": "7fd462c2",
   "metadata": {},
   "outputs": [
    {
     "data": {
      "text/html": [
       "<pre style=\"white-space:pre;overflow-x:auto;line-height:normal;font-family:Menlo,'DejaVu Sans Mono',consolas,'Courier New',monospace\"><span style=\"font-weight: bold\">Model: \"sequential\"</span>\n",
       "</pre>\n"
      ],
      "text/plain": [
       "\u001b[1mModel: \"sequential\"\u001b[0m\n"
      ]
     },
     "metadata": {},
     "output_type": "display_data"
    },
    {
     "data": {
      "text/html": [
       "<pre style=\"white-space:pre;overflow-x:auto;line-height:normal;font-family:Menlo,'DejaVu Sans Mono',consolas,'Courier New',monospace\">┏━━━━━━━━━━━━━━━━━━━━━━━━━━━━━━━━━┳━━━━━━━━━━━━━━━━━━━━━━━━┳━━━━━━━━━━━━━━━┓\n",
       "┃<span style=\"font-weight: bold\"> Layer (type)                    </span>┃<span style=\"font-weight: bold\"> Output Shape           </span>┃<span style=\"font-weight: bold\">       Param # </span>┃\n",
       "┡━━━━━━━━━━━━━━━━━━━━━━━━━━━━━━━━━╇━━━━━━━━━━━━━━━━━━━━━━━━╇━━━━━━━━━━━━━━━┩\n",
       "│ vgg16 (<span style=\"color: #0087ff; text-decoration-color: #0087ff\">Functional</span>)              │ (<span style=\"color: #00d7ff; text-decoration-color: #00d7ff\">None</span>, <span style=\"color: #00af00; text-decoration-color: #00af00\">7</span>, <span style=\"color: #00af00; text-decoration-color: #00af00\">7</span>, <span style=\"color: #00af00; text-decoration-color: #00af00\">512</span>)      │    <span style=\"color: #00af00; text-decoration-color: #00af00\">14,714,688</span> │\n",
       "├─────────────────────────────────┼────────────────────────┼───────────────┤\n",
       "│ global_average_pooling2d        │ (<span style=\"color: #00d7ff; text-decoration-color: #00d7ff\">None</span>, <span style=\"color: #00af00; text-decoration-color: #00af00\">512</span>)            │             <span style=\"color: #00af00; text-decoration-color: #00af00\">0</span> │\n",
       "│ (<span style=\"color: #0087ff; text-decoration-color: #0087ff\">GlobalAveragePooling2D</span>)        │                        │               │\n",
       "├─────────────────────────────────┼────────────────────────┼───────────────┤\n",
       "│ dense (<span style=\"color: #0087ff; text-decoration-color: #0087ff\">Dense</span>)                   │ (<span style=\"color: #00d7ff; text-decoration-color: #00d7ff\">None</span>, <span style=\"color: #00af00; text-decoration-color: #00af00\">128</span>)            │        <span style=\"color: #00af00; text-decoration-color: #00af00\">65,664</span> │\n",
       "├─────────────────────────────────┼────────────────────────┼───────────────┤\n",
       "│ dropout (<span style=\"color: #0087ff; text-decoration-color: #0087ff\">Dropout</span>)               │ (<span style=\"color: #00d7ff; text-decoration-color: #00d7ff\">None</span>, <span style=\"color: #00af00; text-decoration-color: #00af00\">128</span>)            │             <span style=\"color: #00af00; text-decoration-color: #00af00\">0</span> │\n",
       "├─────────────────────────────────┼────────────────────────┼───────────────┤\n",
       "│ dense_1 (<span style=\"color: #0087ff; text-decoration-color: #0087ff\">Dense</span>)                 │ (<span style=\"color: #00d7ff; text-decoration-color: #00d7ff\">None</span>, <span style=\"color: #00af00; text-decoration-color: #00af00\">1</span>)              │           <span style=\"color: #00af00; text-decoration-color: #00af00\">129</span> │\n",
       "└─────────────────────────────────┴────────────────────────┴───────────────┘\n",
       "</pre>\n"
      ],
      "text/plain": [
       "┏━━━━━━━━━━━━━━━━━━━━━━━━━━━━━━━━━┳━━━━━━━━━━━━━━━━━━━━━━━━┳━━━━━━━━━━━━━━━┓\n",
       "┃\u001b[1m \u001b[0m\u001b[1mLayer (type)                   \u001b[0m\u001b[1m \u001b[0m┃\u001b[1m \u001b[0m\u001b[1mOutput Shape          \u001b[0m\u001b[1m \u001b[0m┃\u001b[1m \u001b[0m\u001b[1m      Param #\u001b[0m\u001b[1m \u001b[0m┃\n",
       "┡━━━━━━━━━━━━━━━━━━━━━━━━━━━━━━━━━╇━━━━━━━━━━━━━━━━━━━━━━━━╇━━━━━━━━━━━━━━━┩\n",
       "│ vgg16 (\u001b[38;5;33mFunctional\u001b[0m)              │ (\u001b[38;5;45mNone\u001b[0m, \u001b[38;5;34m7\u001b[0m, \u001b[38;5;34m7\u001b[0m, \u001b[38;5;34m512\u001b[0m)      │    \u001b[38;5;34m14,714,688\u001b[0m │\n",
       "├─────────────────────────────────┼────────────────────────┼───────────────┤\n",
       "│ global_average_pooling2d        │ (\u001b[38;5;45mNone\u001b[0m, \u001b[38;5;34m512\u001b[0m)            │             \u001b[38;5;34m0\u001b[0m │\n",
       "│ (\u001b[38;5;33mGlobalAveragePooling2D\u001b[0m)        │                        │               │\n",
       "├─────────────────────────────────┼────────────────────────┼───────────────┤\n",
       "│ dense (\u001b[38;5;33mDense\u001b[0m)                   │ (\u001b[38;5;45mNone\u001b[0m, \u001b[38;5;34m128\u001b[0m)            │        \u001b[38;5;34m65,664\u001b[0m │\n",
       "├─────────────────────────────────┼────────────────────────┼───────────────┤\n",
       "│ dropout (\u001b[38;5;33mDropout\u001b[0m)               │ (\u001b[38;5;45mNone\u001b[0m, \u001b[38;5;34m128\u001b[0m)            │             \u001b[38;5;34m0\u001b[0m │\n",
       "├─────────────────────────────────┼────────────────────────┼───────────────┤\n",
       "│ dense_1 (\u001b[38;5;33mDense\u001b[0m)                 │ (\u001b[38;5;45mNone\u001b[0m, \u001b[38;5;34m1\u001b[0m)              │           \u001b[38;5;34m129\u001b[0m │\n",
       "└─────────────────────────────────┴────────────────────────┴───────────────┘\n"
      ]
     },
     "metadata": {},
     "output_type": "display_data"
    },
    {
     "data": {
      "text/html": [
       "<pre style=\"white-space:pre;overflow-x:auto;line-height:normal;font-family:Menlo,'DejaVu Sans Mono',consolas,'Courier New',monospace\"><span style=\"font-weight: bold\"> Total params: </span><span style=\"color: #00af00; text-decoration-color: #00af00\">14,780,481</span> (56.38 MB)\n",
       "</pre>\n"
      ],
      "text/plain": [
       "\u001b[1m Total params: \u001b[0m\u001b[38;5;34m14,780,481\u001b[0m (56.38 MB)\n"
      ]
     },
     "metadata": {},
     "output_type": "display_data"
    },
    {
     "data": {
      "text/html": [
       "<pre style=\"white-space:pre;overflow-x:auto;line-height:normal;font-family:Menlo,'DejaVu Sans Mono',consolas,'Courier New',monospace\"><span style=\"font-weight: bold\"> Trainable params: </span><span style=\"color: #00af00; text-decoration-color: #00af00\">65,793</span> (257.00 KB)\n",
       "</pre>\n"
      ],
      "text/plain": [
       "\u001b[1m Trainable params: \u001b[0m\u001b[38;5;34m65,793\u001b[0m (257.00 KB)\n"
      ]
     },
     "metadata": {},
     "output_type": "display_data"
    },
    {
     "data": {
      "text/html": [
       "<pre style=\"white-space:pre;overflow-x:auto;line-height:normal;font-family:Menlo,'DejaVu Sans Mono',consolas,'Courier New',monospace\"><span style=\"font-weight: bold\"> Non-trainable params: </span><span style=\"color: #00af00; text-decoration-color: #00af00\">14,714,688</span> (56.13 MB)\n",
       "</pre>\n"
      ],
      "text/plain": [
       "\u001b[1m Non-trainable params: \u001b[0m\u001b[38;5;34m14,714,688\u001b[0m (56.13 MB)\n"
      ]
     },
     "metadata": {},
     "output_type": "display_data"
    },
    {
     "data": {
      "text/html": [
       "<pre style=\"white-space:pre;overflow-x:auto;line-height:normal;font-family:Menlo,'DejaVu Sans Mono',consolas,'Courier New',monospace\"></pre>\n"
      ],
      "text/plain": []
     },
     "metadata": {},
     "output_type": "display_data"
    },
    {
     "name": "stdout",
     "output_type": "stream",
     "text": [
      "Model summary saved to /Users/reamy/Desktop/THESIS/VGG-16_MC/vgg16_model_summary.txt\n"
     ]
    }
   ],
   "source": [
    "# --- Compile Model ---\n",
    "model.compile(\n",
    "    optimizer='adamW',\n",
    "    loss='binary_crossentropy',\n",
    "    metrics=['accuracy', Precision(), Recall(), AUC()]\n",
    ")\n",
    "model.summary()\n",
    "\n",
    "# Save model summary to file\n",
    "summary_file_path = os.path.join(os.getcwd(), 'vgg16_model_summary.txt')\n",
    "with io.StringIO() as buf:\n",
    "    model.summary(print_fn=lambda x: buf.write(x + '\\n'))\n",
    "    summary_text = buf.getvalue()\n",
    "\n",
    "with open(summary_file_path, 'w') as f:\n",
    "    f.write(summary_text)\n",
    "\n",
    "print(f\"Model summary saved to {summary_file_path}\")"
   ]
  },
  {
   "cell_type": "code",
   "execution_count": 7,
   "id": "fc5b1e22",
   "metadata": {},
   "outputs": [],
   "source": [
    "# --- Custom Callback to Track Metrics ---\n",
    "class MetricsCallback(tf.keras.callbacks.Callback):\n",
    "    def __init__(self, val_generator, val_labels):\n",
    "        self.val_generator = val_generator\n",
    "        self.val_labels = val_labels.reshape(-1).astype(int)\n",
    "        self.results = []\n",
    "\n",
    "    def on_epoch_end(self, epoch, logs=None):\n",
    "        val_predictions = model.predict(self.val_generator)\n",
    "        val_predictions = (val_predictions > 0.5).astype(int).reshape(-1)\n",
    "\n",
    "        precision = precision_score(self.val_labels, val_predictions)\n",
    "        recall = recall_score(self.val_labels, val_predictions)\n",
    "        f1 = f1_score(self.val_labels, val_predictions)\n",
    "\n",
    "        self.results.append({\n",
    "            'Epoch': epoch + 1,\n",
    "            'Training Accuracy': logs['accuracy'],\n",
    "            'Validation Accuracy': logs['val_accuracy'],\n",
    "            'Training Loss': logs['loss'],\n",
    "            'Validation Loss': logs['val_loss'],\n",
    "            'Precision': precision,\n",
    "            'Recall': recall,\n",
    "            'F1 Score': f1\n",
    "        })\n",
    "\n",
    "        print(f\"Epoch {epoch + 1}: Precision={precision:.4f}, Recall={recall:.4f}, F1 Score={f1:.4f}\")\n",
    "\n",
    "metrics_callback = MetricsCallback(val_generator, val_labels)"
   ]
  },
  {
   "cell_type": "code",
   "execution_count": 8,
   "id": "29d20145",
   "metadata": {},
   "outputs": [],
   "source": [
    "# Early stopping to prevent overfitting\n",
    "early_stop = EarlyStopping(\n",
    "    monitor='val_loss', \n",
    "    patience=5,\n",
    "    restore_best_weights=True\n",
    ")\n",
    "\n",
    "# Save the best model only\n",
    "checkpoint = ModelCheckpoint(\n",
    "    filepath='best_VGG16_BC_model.h5',          # file to save the best model\n",
    "    monitor='val_loss',                # metric to monitor\n",
    "    save_best_only=True,               # save only if it's the best so far\n",
    "    mode='min',                        # because we want to minimize loss\n",
    "    verbose=1                          # print when saving\n",
    ")"
   ]
  },
  {
   "cell_type": "code",
   "execution_count": 9,
   "id": "a87914a4",
   "metadata": {},
   "outputs": [
    {
     "name": "stderr",
     "output_type": "stream",
     "text": [
      "/Users/reamy/Desktop/THESIS/.venv/lib/python3.12/site-packages/keras/src/trainers/data_adapters/py_dataset_adapter.py:121: UserWarning: Your `PyDataset` class should call `super().__init__(**kwargs)` in its constructor. `**kwargs` can include `workers`, `use_multiprocessing`, `max_queue_size`. Do not pass these arguments to `fit()`, as they will be ignored.\n",
      "  self._warn_if_super_not_called()\n"
     ]
    },
    {
     "name": "stdout",
     "output_type": "stream",
     "text": [
      "Epoch 1/70\n",
      "\u001b[1m1/1\u001b[0m \u001b[32m━━━━━━━━━━━━━━━━━━━━\u001b[0m\u001b[37m\u001b[0m \u001b[1m2s\u001b[0m 2s/step - accuracy: 0.4809 - auc: 0.4958 - loss: 0.7455 - precision: 0.4896 - recall: 0.3949  \n",
      "Epoch 1: Precision=0.5000, Recall=1.0000, F1 Score=0.6667\n",
      "\n",
      "Epoch 1: val_loss improved from inf to 0.70028, saving model to best_VGG16_BC_model.h5\n"
     ]
    },
    {
     "name": "stderr",
     "output_type": "stream",
     "text": [
      "WARNING:absl:You are saving your model as an HDF5 file via `model.save()` or `keras.saving.save_model(model)`. This file format is considered legacy. We recommend using instead the native Keras format, e.g. `model.save('my_model.keras')` or `keras.saving.save_model(model, 'my_model.keras')`. \n"
     ]
    },
    {
     "name": "stdout",
     "output_type": "stream",
     "text": [
      "\u001b[1m3/3\u001b[0m \u001b[32m━━━━━━━━━━━━━━━━━━━━\u001b[0m\u001b[37m\u001b[0m \u001b[1m12s\u001b[0m 4s/step - accuracy: 0.4783 - auc: 0.4968 - loss: 0.7455 - precision: 0.4844 - recall: 0.4064 - val_accuracy: 0.5000 - val_auc: 0.6543 - val_loss: 0.7003 - val_precision: 0.5000 - val_recall: 1.0000\n",
      "Epoch 2/70\n",
      "\u001b[1m1/1\u001b[0m \u001b[32m━━━━━━━━━━━━━━━━━━━━\u001b[0m\u001b[37m\u001b[0m \u001b[1m2s\u001b[0m 2s/step - accuracy: 0.5071 - auc: 0.4723 - loss: 0.7216 - precision: 0.3851 - recall: 0.5118            \n",
      "Epoch 2: Precision=0.6667, Recall=0.2222, F1 Score=0.3333\n",
      "\n",
      "Epoch 2: val_loss improved from 0.70028 to 0.68380, saving model to best_VGG16_BC_model.h5\n"
     ]
    },
    {
     "name": "stderr",
     "output_type": "stream",
     "text": [
      "WARNING:absl:You are saving your model as an HDF5 file via `model.save()` or `keras.saving.save_model(model)`. This file format is considered legacy. We recommend using instead the native Keras format, e.g. `model.save('my_model.keras')` or `keras.saving.save_model(model, 'my_model.keras')`. \n"
     ]
    },
    {
     "name": "stdout",
     "output_type": "stream",
     "text": [
      "\u001b[1m3/3\u001b[0m \u001b[32m━━━━━━━━━━━━━━━━━━━━\u001b[0m\u001b[37m\u001b[0m \u001b[1m11s\u001b[0m 5s/step - accuracy: 0.5384 - auc: 0.5236 - loss: 0.7022 - precision: 0.4412 - recall: 0.5676 - val_accuracy: 0.5556 - val_auc: 0.7963 - val_loss: 0.6838 - val_precision: 0.6667 - val_recall: 0.2222\n",
      "Epoch 3/70\n",
      "\u001b[1m1/1\u001b[0m \u001b[32m━━━━━━━━━━━━━━━━━━━━\u001b[0m\u001b[37m\u001b[0m \u001b[1m2s\u001b[0m 2s/step - accuracy: 0.5185 - auc: 0.4925 - loss: 0.7290 - precision: 0.5087 - recall: 0.4063  \n",
      "Epoch 3: Precision=0.0000, Recall=0.0000, F1 Score=0.0000\n",
      "\n",
      "Epoch 3: val_loss improved from 0.68380 to 0.67841, saving model to best_VGG16_BC_model.h5\n"
     ]
    },
    {
     "name": "stderr",
     "output_type": "stream",
     "text": [
      "/Users/reamy/Desktop/THESIS/.venv/lib/python3.12/site-packages/sklearn/metrics/_classification.py:1706: UndefinedMetricWarning: Precision is ill-defined and being set to 0.0 due to no predicted samples. Use `zero_division` parameter to control this behavior.\n",
      "  _warn_prf(average, modifier, f\"{metric.capitalize()} is\", result.shape[0])\n",
      "WARNING:absl:You are saving your model as an HDF5 file via `model.save()` or `keras.saving.save_model(model)`. This file format is considered legacy. We recommend using instead the native Keras format, e.g. `model.save('my_model.keras')` or `keras.saving.save_model(model, 'my_model.keras')`. \n"
     ]
    },
    {
     "name": "stdout",
     "output_type": "stream",
     "text": [
      "\u001b[1m3/3\u001b[0m \u001b[32m━━━━━━━━━━━━━━━━━━━━\u001b[0m\u001b[37m\u001b[0m \u001b[1m12s\u001b[0m 4s/step - accuracy: 0.5139 - auc: 0.4911 - loss: 0.7316 - precision: 0.5065 - recall: 0.4150 - val_accuracy: 0.5000 - val_auc: 0.8642 - val_loss: 0.6784 - val_precision: 0.0000e+00 - val_recall: 0.0000e+00\n",
      "Epoch 4/70\n",
      "\u001b[1m1/1\u001b[0m \u001b[32m━━━━━━━━━━━━━━━━━━━━\u001b[0m\u001b[37m\u001b[0m \u001b[1m2s\u001b[0m 2s/step - accuracy: 0.4711 - auc: 0.4705 - loss: 0.7493 - precision: 0.4333 - recall: 0.3268  \n",
      "Epoch 4: Precision=0.8182, Recall=1.0000, F1 Score=0.9000\n",
      "\n",
      "Epoch 4: val_loss improved from 0.67841 to 0.66965, saving model to best_VGG16_BC_model.h5\n"
     ]
    },
    {
     "name": "stderr",
     "output_type": "stream",
     "text": [
      "WARNING:absl:You are saving your model as an HDF5 file via `model.save()` or `keras.saving.save_model(model)`. This file format is considered legacy. We recommend using instead the native Keras format, e.g. `model.save('my_model.keras')` or `keras.saving.save_model(model, 'my_model.keras')`. \n"
     ]
    },
    {
     "name": "stdout",
     "output_type": "stream",
     "text": [
      "\u001b[1m3/3\u001b[0m \u001b[32m━━━━━━━━━━━━━━━━━━━━\u001b[0m\u001b[37m\u001b[0m \u001b[1m12s\u001b[0m 4s/step - accuracy: 0.4636 - auc: 0.4631 - loss: 0.7547 - precision: 0.4321 - recall: 0.3333 - val_accuracy: 0.8889 - val_auc: 0.9259 - val_loss: 0.6697 - val_precision: 0.8182 - val_recall: 1.0000\n",
      "Epoch 5/70\n",
      "\u001b[1m1/1\u001b[0m \u001b[32m━━━━━━━━━━━━━━━━━━━━\u001b[0m\u001b[37m\u001b[0m \u001b[1m2s\u001b[0m 2s/step - accuracy: 0.5885 - auc: 0.5459 - loss: 0.7350 - precision: 0.5375 - recall: 0.4821  \n",
      "Epoch 5: Precision=0.5625, Recall=1.0000, F1 Score=0.7200\n",
      "\n",
      "Epoch 5: val_loss improved from 0.66965 to 0.66531, saving model to best_VGG16_BC_model.h5\n"
     ]
    },
    {
     "name": "stderr",
     "output_type": "stream",
     "text": [
      "WARNING:absl:You are saving your model as an HDF5 file via `model.save()` or `keras.saving.save_model(model)`. This file format is considered legacy. We recommend using instead the native Keras format, e.g. `model.save('my_model.keras')` or `keras.saving.save_model(model, 'my_model.keras')`. \n"
     ]
    },
    {
     "name": "stdout",
     "output_type": "stream",
     "text": [
      "\u001b[1m3/3\u001b[0m \u001b[32m━━━━━━━━━━━━━━━━━━━━\u001b[0m\u001b[37m\u001b[0m \u001b[1m12s\u001b[0m 4s/step - accuracy: 0.5737 - auc: 0.5278 - loss: 0.7427 - precision: 0.5371 - recall: 0.4719 - val_accuracy: 0.6111 - val_auc: 0.9753 - val_loss: 0.6653 - val_precision: 0.5625 - val_recall: 1.0000\n",
      "Epoch 6/70\n",
      "\u001b[1m1/1\u001b[0m \u001b[32m━━━━━━━━━━━━━━━━━━━━\u001b[0m\u001b[37m\u001b[0m \u001b[1m2s\u001b[0m 2s/step - accuracy: 0.5479 - auc: 0.7163 - loss: 0.6692 - precision: 0.4615 - recall: 0.7810\n",
      "Epoch 6: Precision=0.7500, Recall=1.0000, F1 Score=0.8571\n",
      "\n",
      "Epoch 6: val_loss improved from 0.66531 to 0.65820, saving model to best_VGG16_BC_model.h5\n"
     ]
    },
    {
     "name": "stderr",
     "output_type": "stream",
     "text": [
      "WARNING:absl:You are saving your model as an HDF5 file via `model.save()` or `keras.saving.save_model(model)`. This file format is considered legacy. We recommend using instead the native Keras format, e.g. `model.save('my_model.keras')` or `keras.saving.save_model(model, 'my_model.keras')`. \n"
     ]
    },
    {
     "name": "stdout",
     "output_type": "stream",
     "text": [
      "\u001b[1m3/3\u001b[0m \u001b[32m━━━━━━━━━━━━━━━━━━━━\u001b[0m\u001b[37m\u001b[0m \u001b[1m12s\u001b[0m 6s/step - accuracy: 0.5580 - auc: 0.6856 - loss: 0.6785 - precision: 0.4899 - recall: 0.7549 - val_accuracy: 0.8333 - val_auc: 0.9877 - val_loss: 0.6582 - val_precision: 0.7500 - val_recall: 1.0000\n",
      "Epoch 7/70\n",
      "\u001b[1m1/1\u001b[0m \u001b[32m━━━━━━━━━━━━━━━━━━━━\u001b[0m\u001b[37m\u001b[0m \u001b[1m2s\u001b[0m 2s/step - accuracy: 0.4951 - auc: 0.4942 - loss: 0.7411 - precision: 0.4929 - recall: 0.4507  \n",
      "Epoch 7: Precision=0.5625, Recall=1.0000, F1 Score=0.7200\n",
      "\n",
      "Epoch 7: val_loss improved from 0.65820 to 0.65528, saving model to best_VGG16_BC_model.h5\n"
     ]
    },
    {
     "name": "stderr",
     "output_type": "stream",
     "text": [
      "WARNING:absl:You are saving your model as an HDF5 file via `model.save()` or `keras.saving.save_model(model)`. This file format is considered legacy. We recommend using instead the native Keras format, e.g. `model.save('my_model.keras')` or `keras.saving.save_model(model, 'my_model.keras')`. \n"
     ]
    },
    {
     "name": "stdout",
     "output_type": "stream",
     "text": [
      "\u001b[1m3/3\u001b[0m \u001b[32m━━━━━━━━━━━━━━━━━━━━\u001b[0m\u001b[37m\u001b[0m \u001b[1m12s\u001b[0m 4s/step - accuracy: 0.4926 - auc: 0.4960 - loss: 0.7387 - precision: 0.4904 - recall: 0.4410 - val_accuracy: 0.6111 - val_auc: 0.9877 - val_loss: 0.6553 - val_precision: 0.5625 - val_recall: 1.0000\n",
      "Epoch 8/70\n",
      "\u001b[1m1/1\u001b[0m \u001b[32m━━━━━━━━━━━━━━━━━━━━\u001b[0m\u001b[37m\u001b[0m \u001b[1m2s\u001b[0m 2s/step - accuracy: 0.4896 - auc: 0.4265 - loss: 0.7486 - precision: 0.4992 - recall: 0.5766  \n",
      "Epoch 8: Precision=0.5000, Recall=1.0000, F1 Score=0.6667\n",
      "\n",
      "Epoch 8: val_loss did not improve from 0.65528\n",
      "\u001b[1m3/3\u001b[0m \u001b[32m━━━━━━━━━━━━━━━━━━━━\u001b[0m\u001b[37m\u001b[0m \u001b[1m13s\u001b[0m 4s/step - accuracy: 0.4922 - auc: 0.4399 - loss: 0.7447 - precision: 0.4994 - recall: 0.5795 - val_accuracy: 0.5000 - val_auc: 0.9938 - val_loss: 0.6636 - val_precision: 0.5000 - val_recall: 1.0000\n",
      "Epoch 9/70\n",
      "\u001b[1m1/1\u001b[0m \u001b[32m━━━━━━━━━━━━━━━━━━━━\u001b[0m\u001b[37m\u001b[0m \u001b[1m2s\u001b[0m 2s/step - accuracy: 0.5327 - auc: 0.6474 - loss: 0.6678 - precision: 0.5288 - recall: 0.8612\n",
      "Epoch 9: Precision=0.5000, Recall=1.0000, F1 Score=0.6667\n",
      "\n",
      "Epoch 9: val_loss did not improve from 0.65528\n",
      "\u001b[1m3/3\u001b[0m \u001b[32m━━━━━━━━━━━━━━━━━━━━\u001b[0m\u001b[37m\u001b[0m \u001b[1m13s\u001b[0m 6s/step - accuracy: 0.5282 - auc: 0.6242 - loss: 0.6834 - precision: 0.5239 - recall: 0.8444 - val_accuracy: 0.5000 - val_auc: 1.0000 - val_loss: 0.6682 - val_precision: 0.5000 - val_recall: 1.0000\n",
      "Epoch 10/70\n",
      "\u001b[1m1/1\u001b[0m \u001b[32m━━━━━━━━━━━━━━━━━━━━\u001b[0m\u001b[37m\u001b[0m \u001b[1m2s\u001b[0m 2s/step - accuracy: 0.5861 - auc: 0.7809 - loss: 0.6339 - precision: 0.5565 - recall: 0.8725\n",
      "Epoch 10: Precision=0.5000, Recall=1.0000, F1 Score=0.6667\n",
      "\n",
      "Epoch 10: val_loss did not improve from 0.65528\n",
      "\u001b[1m3/3\u001b[0m \u001b[32m━━━━━━━━━━━━━━━━━━━━\u001b[0m\u001b[37m\u001b[0m \u001b[1m12s\u001b[0m 6s/step - accuracy: 0.6013 - auc: 0.7546 - loss: 0.6393 - precision: 0.5684 - recall: 0.8676 - val_accuracy: 0.5000 - val_auc: 1.0000 - val_loss: 0.6558 - val_precision: 0.5000 - val_recall: 1.0000\n",
      "Epoch 11/70\n",
      "\u001b[1m1/1\u001b[0m \u001b[32m━━━━━━━━━━━━━━━━━━━━\u001b[0m\u001b[37m\u001b[0m \u001b[1m2s\u001b[0m 2s/step - accuracy: 0.6002 - auc: 0.5923 - loss: 0.6794 - precision: 0.5770 - recall: 0.8671\n",
      "Epoch 11: Precision=0.5294, Recall=1.0000, F1 Score=0.6923\n",
      "\n",
      "Epoch 11: val_loss improved from 0.65528 to 0.64107, saving model to best_VGG16_BC_model.h5\n"
     ]
    },
    {
     "name": "stderr",
     "output_type": "stream",
     "text": [
      "WARNING:absl:You are saving your model as an HDF5 file via `model.save()` or `keras.saving.save_model(model)`. This file format is considered legacy. We recommend using instead the native Keras format, e.g. `model.save('my_model.keras')` or `keras.saving.save_model(model, 'my_model.keras')`. \n"
     ]
    },
    {
     "name": "stdout",
     "output_type": "stream",
     "text": [
      "\u001b[1m3/3\u001b[0m \u001b[32m━━━━━━━━━━━━━━━━━━━━\u001b[0m\u001b[37m\u001b[0m \u001b[1m12s\u001b[0m 6s/step - accuracy: 0.6156 - auc: 0.6126 - loss: 0.6717 - precision: 0.5883 - recall: 0.8562 - val_accuracy: 0.5556 - val_auc: 1.0000 - val_loss: 0.6411 - val_precision: 0.5294 - val_recall: 1.0000\n",
      "Epoch 12/70\n",
      "\u001b[1m1/1\u001b[0m \u001b[32m━━━━━━━━━━━━━━━━━━━━\u001b[0m\u001b[37m\u001b[0m \u001b[1m2s\u001b[0m 2s/step - accuracy: 0.4597 - auc: 0.7066 - loss: 0.7072 - precision: 0.3745 - recall: 0.3922        \n",
      "Epoch 12: Precision=0.5625, Recall=1.0000, F1 Score=0.7200\n",
      "\n",
      "Epoch 12: val_loss improved from 0.64107 to 0.63641, saving model to best_VGG16_BC_model.h5\n"
     ]
    },
    {
     "name": "stderr",
     "output_type": "stream",
     "text": [
      "WARNING:absl:You are saving your model as an HDF5 file via `model.save()` or `keras.saving.save_model(model)`. This file format is considered legacy. We recommend using instead the native Keras format, e.g. `model.save('my_model.keras')` or `keras.saving.save_model(model, 'my_model.keras')`. \n"
     ]
    },
    {
     "name": "stdout",
     "output_type": "stream",
     "text": [
      "\u001b[1m3/3\u001b[0m \u001b[32m━━━━━━━━━━━━━━━━━━━━\u001b[0m\u001b[37m\u001b[0m \u001b[1m13s\u001b[0m 6s/step - accuracy: 0.4882 - auc: 0.6694 - loss: 0.7052 - precision: 0.4211 - recall: 0.4632 - val_accuracy: 0.6111 - val_auc: 1.0000 - val_loss: 0.6364 - val_precision: 0.5625 - val_recall: 1.0000\n",
      "Epoch 13/70\n",
      "\u001b[1m1/1\u001b[0m \u001b[32m━━━━━━━━━━━━━━━━━━━━\u001b[0m\u001b[37m\u001b[0m \u001b[1m2s\u001b[0m 2s/step - accuracy: 0.4461 - auc: 0.4950 - loss: 0.6940 - precision: 0.3317 - recall: 0.3614        \n",
      "Epoch 13: Precision=0.8182, Recall=1.0000, F1 Score=0.9000\n",
      "\n",
      "Epoch 13: val_loss improved from 0.63641 to 0.62634, saving model to best_VGG16_BC_model.h5\n"
     ]
    },
    {
     "name": "stderr",
     "output_type": "stream",
     "text": [
      "WARNING:absl:You are saving your model as an HDF5 file via `model.save()` or `keras.saving.save_model(model)`. This file format is considered legacy. We recommend using instead the native Keras format, e.g. `model.save('my_model.keras')` or `keras.saving.save_model(model, 'my_model.keras')`. \n"
     ]
    },
    {
     "name": "stdout",
     "output_type": "stream",
     "text": [
      "\u001b[1m3/3\u001b[0m \u001b[32m━━━━━━━━━━━━━━━━━━━━\u001b[0m\u001b[37m\u001b[0m \u001b[1m12s\u001b[0m 6s/step - accuracy: 0.4816 - auc: 0.5250 - loss: 0.6896 - precision: 0.3946 - recall: 0.4255 - val_accuracy: 0.8889 - val_auc: 1.0000 - val_loss: 0.6263 - val_precision: 0.8182 - val_recall: 1.0000\n",
      "Epoch 14/70\n",
      "\u001b[1m1/1\u001b[0m \u001b[32m━━━━━━━━━━━━━━━━━━━━\u001b[0m\u001b[37m\u001b[0m \u001b[1m2s\u001b[0m 2s/step - accuracy: 0.5312 - auc: 0.5802 - loss: 0.6845 - precision: 0.5159 - recall: 0.562\n",
      "Epoch 14: Precision=1.0000, Recall=1.0000, F1 Score=1.0000\n",
      "\n",
      "Epoch 14: val_loss improved from 0.62634 to 0.62099, saving model to best_VGG16_BC_model.h5\n"
     ]
    },
    {
     "name": "stderr",
     "output_type": "stream",
     "text": [
      "WARNING:absl:You are saving your model as an HDF5 file via `model.save()` or `keras.saving.save_model(model)`. This file format is considered legacy. We recommend using instead the native Keras format, e.g. `model.save('my_model.keras')` or `keras.saving.save_model(model, 'my_model.keras')`. \n"
     ]
    },
    {
     "name": "stdout",
     "output_type": "stream",
     "text": [
      "\u001b[1m3/3\u001b[0m \u001b[32m━━━━━━━━━━━━━━━━━━━━\u001b[0m\u001b[37m\u001b[0m \u001b[1m13s\u001b[0m 4s/step - accuracy: 0.5234 - auc: 0.5711 - loss: 0.6875 - precision: 0.5119 - recall: 0.5469 - val_accuracy: 1.0000 - val_auc: 1.0000 - val_loss: 0.6210 - val_precision: 1.0000 - val_recall: 1.0000\n",
      "Epoch 15/70\n",
      "\u001b[1m1/1\u001b[0m \u001b[32m━━━━━━━━━━━━━━━━━━━━\u001b[0m\u001b[37m\u001b[0m \u001b[1m2s\u001b[0m 2s/step - accuracy: 0.6269 - auc: 0.6384 - loss: 0.6594 - precision: 0.6945 - recall: 0.5196\n",
      "Epoch 15: Precision=0.7500, Recall=1.0000, F1 Score=0.8571\n",
      "\n",
      "Epoch 15: val_loss improved from 0.62099 to 0.61705, saving model to best_VGG16_BC_model.h5\n"
     ]
    },
    {
     "name": "stderr",
     "output_type": "stream",
     "text": [
      "WARNING:absl:You are saving your model as an HDF5 file via `model.save()` or `keras.saving.save_model(model)`. This file format is considered legacy. We recommend using instead the native Keras format, e.g. `model.save('my_model.keras')` or `keras.saving.save_model(model, 'my_model.keras')`. \n"
     ]
    },
    {
     "name": "stdout",
     "output_type": "stream",
     "text": [
      "\u001b[1m3/3\u001b[0m \u001b[32m━━━━━━━━━━━━━━━━━━━━\u001b[0m\u001b[37m\u001b[0m \u001b[1m13s\u001b[0m 6s/step - accuracy: 0.6209 - auc: 0.6323 - loss: 0.6639 - precision: 0.6741 - recall: 0.5294 - val_accuracy: 0.8333 - val_auc: 1.0000 - val_loss: 0.6170 - val_precision: 0.7500 - val_recall: 1.0000\n",
      "Epoch 16/70\n",
      "\u001b[1m1/1\u001b[0m \u001b[32m━━━━━━━━━━━━━━━━━━━━\u001b[0m\u001b[37m\u001b[0m \u001b[1m2s\u001b[0m 2s/step - accuracy: 0.6033 - auc: 0.7641 - loss: 0.5985 - precision: 0.6619 - recall: 0.6032  \n",
      "Epoch 16: Precision=0.6429, Recall=1.0000, F1 Score=0.7826\n",
      "\n",
      "Epoch 16: val_loss did not improve from 0.61705\n",
      "\u001b[1m3/3\u001b[0m \u001b[32m━━━━━━━━━━━━━━━━━━━━\u001b[0m\u001b[37m\u001b[0m \u001b[1m13s\u001b[0m 4s/step - accuracy: 0.5811 - auc: 0.7296 - loss: 0.6137 - precision: 0.6248 - recall: 0.5921 - val_accuracy: 0.7222 - val_auc: 1.0000 - val_loss: 0.6173 - val_precision: 0.6429 - val_recall: 1.0000\n",
      "Epoch 17/70\n",
      "\u001b[1m1/1\u001b[0m \u001b[32m━━━━━━━━━━━━━━━━━━━━\u001b[0m\u001b[37m\u001b[0m \u001b[1m2s\u001b[0m 2s/step - accuracy: 0.5294 - auc: 0.5153 - loss: 0.7023 - precision: 0.6667 - recall: 0.5464\n",
      "Epoch 17: Precision=0.5294, Recall=1.0000, F1 Score=0.6923\n",
      "\n",
      "Epoch 17: val_loss improved from 0.61705 to 0.61672, saving model to best_VGG16_BC_model.h5\n"
     ]
    },
    {
     "name": "stderr",
     "output_type": "stream",
     "text": [
      "WARNING:absl:You are saving your model as an HDF5 file via `model.save()` or `keras.saving.save_model(model)`. This file format is considered legacy. We recommend using instead the native Keras format, e.g. `model.save('my_model.keras')` or `keras.saving.save_model(model, 'my_model.keras')`. \n"
     ]
    },
    {
     "name": "stdout",
     "output_type": "stream",
     "text": [
      "\u001b[1m3/3\u001b[0m \u001b[32m━━━━━━━━━━━━━━━━━━━━\u001b[0m\u001b[37m\u001b[0m \u001b[1m13s\u001b[0m 6s/step - accuracy: 0.5441 - auc: 0.5472 - loss: 0.6913 - precision: 0.6429 - recall: 0.5863 - val_accuracy: 0.5556 - val_auc: 1.0000 - val_loss: 0.6167 - val_precision: 0.5294 - val_recall: 1.0000\n",
      "Epoch 18/70\n",
      "\u001b[1m1/1\u001b[0m \u001b[32m━━━━━━━━━━━━━━━━━━━━\u001b[0m\u001b[37m\u001b[0m \u001b[1m2s\u001b[0m 2s/step - accuracy: 0.6075 - auc: 0.6930 - loss: 0.6493 - precision: 0.5095 - recall: 0.6314  \n",
      "Epoch 18: Precision=0.5625, Recall=1.0000, F1 Score=0.7200\n",
      "\n",
      "Epoch 18: val_loss improved from 0.61672 to 0.60885, saving model to best_VGG16_BC_model.h5\n"
     ]
    },
    {
     "name": "stderr",
     "output_type": "stream",
     "text": [
      "WARNING:absl:You are saving your model as an HDF5 file via `model.save()` or `keras.saving.save_model(model)`. This file format is considered legacy. We recommend using instead the native Keras format, e.g. `model.save('my_model.keras')` or `keras.saving.save_model(model, 'my_model.keras')`. \n"
     ]
    },
    {
     "name": "stdout",
     "output_type": "stream",
     "text": [
      "\u001b[1m3/3\u001b[0m \u001b[32m━━━━━━━━━━━━━━━━━━━━\u001b[0m\u001b[37m\u001b[0m \u001b[1m14s\u001b[0m 5s/step - accuracy: 0.6100 - auc: 0.6851 - loss: 0.6490 - precision: 0.5321 - recall: 0.6500 - val_accuracy: 0.6111 - val_auc: 1.0000 - val_loss: 0.6089 - val_precision: 0.5625 - val_recall: 1.0000\n",
      "Epoch 19/70\n",
      "\u001b[1m1/1\u001b[0m \u001b[32m━━━━━━━━━━━━━━━━━━━━\u001b[0m\u001b[37m\u001b[0m \u001b[1m2s\u001b[0m 2s/step - accuracy: 0.6763 - auc: 0.6502 - loss: 0.6524 - precision: 0.6492 - recall: 0.8220  \n",
      "Epoch 19: Precision=0.6923, Recall=1.0000, F1 Score=0.8182\n",
      "\n",
      "Epoch 19: val_loss improved from 0.60885 to 0.60144, saving model to best_VGG16_BC_model.h5\n"
     ]
    },
    {
     "name": "stderr",
     "output_type": "stream",
     "text": [
      "WARNING:absl:You are saving your model as an HDF5 file via `model.save()` or `keras.saving.save_model(model)`. This file format is considered legacy. We recommend using instead the native Keras format, e.g. `model.save('my_model.keras')` or `keras.saving.save_model(model, 'my_model.keras')`. \n"
     ]
    },
    {
     "name": "stdout",
     "output_type": "stream",
     "text": [
      "\u001b[1m3/3\u001b[0m \u001b[32m━━━━━━━━━━━━━━━━━━━━\u001b[0m\u001b[37m\u001b[0m \u001b[1m13s\u001b[0m 5s/step - accuracy: 0.6837 - auc: 0.6641 - loss: 0.6490 - precision: 0.6517 - recall: 0.8297 - val_accuracy: 0.7778 - val_auc: 1.0000 - val_loss: 0.6014 - val_precision: 0.6923 - val_recall: 1.0000\n",
      "Epoch 20/70\n",
      "\u001b[1m1/1\u001b[0m \u001b[32m━━━━━━━━━━━━━━━━━━━━\u001b[0m\u001b[37m\u001b[0m \u001b[1m2s\u001b[0m 2s/step - accuracy: 0.6928 - auc: 0.5129 - loss: 0.5837 - precision: 0.4568 - recall: 0.3824            \n",
      "Epoch 20: Precision=1.0000, Recall=1.0000, F1 Score=1.0000\n",
      "\n",
      "Epoch 20: val_loss improved from 0.60144 to 0.58798, saving model to best_VGG16_BC_model.h5\n"
     ]
    },
    {
     "name": "stderr",
     "output_type": "stream",
     "text": [
      "WARNING:absl:You are saving your model as an HDF5 file via `model.save()` or `keras.saving.save_model(model)`. This file format is considered legacy. We recommend using instead the native Keras format, e.g. `model.save('my_model.keras')` or `keras.saving.save_model(model, 'my_model.keras')`. \n"
     ]
    },
    {
     "name": "stdout",
     "output_type": "stream",
     "text": [
      "\u001b[1m3/3\u001b[0m \u001b[32m━━━━━━━━━━━━━━━━━━━━\u001b[0m\u001b[37m\u001b[0m \u001b[1m14s\u001b[0m 7s/step - accuracy: 0.6850 - auc: 0.5751 - loss: 0.5892 - precision: 0.5185 - recall: 0.4265 - val_accuracy: 1.0000 - val_auc: 1.0000 - val_loss: 0.5880 - val_precision: 1.0000 - val_recall: 1.0000\n",
      "Epoch 21/70\n",
      "\u001b[1m1/1\u001b[0m \u001b[32m━━━━━━━━━━━━━━━━━━━━\u001b[0m\u001b[37m\u001b[0m \u001b[1m2s\u001b[0m 2s/step - accuracy: 0.6936 - auc: 0.7323 - loss: 0.6300 - precision: 0.7509 - recall: 0.600\n",
      "Epoch 21: Precision=1.0000, Recall=0.8889, F1 Score=0.9412\n",
      "\n",
      "Epoch 21: val_loss improved from 0.58798 to 0.58469, saving model to best_VGG16_BC_model.h5\n"
     ]
    },
    {
     "name": "stderr",
     "output_type": "stream",
     "text": [
      "WARNING:absl:You are saving your model as an HDF5 file via `model.save()` or `keras.saving.save_model(model)`. This file format is considered legacy. We recommend using instead the native Keras format, e.g. `model.save('my_model.keras')` or `keras.saving.save_model(model, 'my_model.keras')`. \n"
     ]
    },
    {
     "name": "stdout",
     "output_type": "stream",
     "text": [
      "\u001b[1m3/3\u001b[0m \u001b[32m━━━━━━━━━━━━━━━━━━━━\u001b[0m\u001b[37m\u001b[0m \u001b[1m13s\u001b[0m 4s/step - accuracy: 0.6967 - auc: 0.7334 - loss: 0.6294 - precision: 0.7555 - recall: 0.5974 - val_accuracy: 0.9444 - val_auc: 1.0000 - val_loss: 0.5847 - val_precision: 1.0000 - val_recall: 0.8889\n",
      "Epoch 22/70\n",
      "\u001b[1m1/1\u001b[0m \u001b[32m━━━━━━━━━━━━━━━━━━━━\u001b[0m\u001b[37m\u001b[0m \u001b[1m2s\u001b[0m 2s/step - accuracy: 0.5289 - auc: 0.6321 - loss: 0.6732 - precision: 0.5370 - recall: 0.2708  \n",
      "Epoch 22: Precision=1.0000, Recall=0.3333, F1 Score=0.5000\n",
      "\n",
      "Epoch 22: val_loss did not improve from 0.58469\n",
      "\u001b[1m3/3\u001b[0m \u001b[32m━━━━━━━━━━━━━━━━━━━━\u001b[0m\u001b[37m\u001b[0m \u001b[1m13s\u001b[0m 4s/step - accuracy: 0.5217 - auc: 0.6205 - loss: 0.6802 - precision: 0.5278 - recall: 0.2546 - val_accuracy: 0.6667 - val_auc: 1.0000 - val_loss: 0.5893 - val_precision: 1.0000 - val_recall: 0.3333\n",
      "Epoch 23/70\n",
      "\u001b[1m1/1\u001b[0m \u001b[32m━━━━━━━━━━━━━━━━━━━━\u001b[0m\u001b[37m\u001b[0m \u001b[1m2s\u001b[0m 2s/step - accuracy: 0.6284 - auc: 0.7580 - loss: 0.6030 - precision: 0.7222 - recall: 0.245\n",
      "Epoch 23: Precision=1.0000, Recall=0.4444, F1 Score=0.6154\n",
      "\n",
      "Epoch 23: val_loss improved from 0.58469 to 0.58182, saving model to best_VGG16_BC_model.h5\n"
     ]
    },
    {
     "name": "stderr",
     "output_type": "stream",
     "text": [
      "WARNING:absl:You are saving your model as an HDF5 file via `model.save()` or `keras.saving.save_model(model)`. This file format is considered legacy. We recommend using instead the native Keras format, e.g. `model.save('my_model.keras')` or `keras.saving.save_model(model, 'my_model.keras')`. \n"
     ]
    },
    {
     "name": "stdout",
     "output_type": "stream",
     "text": [
      "\u001b[1m3/3\u001b[0m \u001b[32m━━━━━━━━━━━━━━━━━━━━\u001b[0m\u001b[37m\u001b[0m \u001b[1m13s\u001b[0m 5s/step - accuracy: 0.6183 - auc: 0.7517 - loss: 0.6120 - precision: 0.7292 - recall: 0.2504 - val_accuracy: 0.7222 - val_auc: 1.0000 - val_loss: 0.5818 - val_precision: 1.0000 - val_recall: 0.4444\n",
      "Epoch 24/70\n",
      "\u001b[1m1/1\u001b[0m \u001b[32m━━━━━━━━━━━━━━━━━━━━\u001b[0m\u001b[37m\u001b[0m \u001b[1m2s\u001b[0m 2s/step - accuracy: 0.6124 - auc: 0.7084 - loss: 0.6444 - precision: 0.6910 - recall: 0.392\n",
      "Epoch 24: Precision=1.0000, Recall=1.0000, F1 Score=1.0000\n",
      "\n",
      "Epoch 24: val_loss improved from 0.58182 to 0.57171, saving model to best_VGG16_BC_model.h5\n"
     ]
    },
    {
     "name": "stderr",
     "output_type": "stream",
     "text": [
      "WARNING:absl:You are saving your model as an HDF5 file via `model.save()` or `keras.saving.save_model(model)`. This file format is considered legacy. We recommend using instead the native Keras format, e.g. `model.save('my_model.keras')` or `keras.saving.save_model(model, 'my_model.keras')`. \n"
     ]
    },
    {
     "name": "stdout",
     "output_type": "stream",
     "text": [
      "\u001b[1m3/3\u001b[0m \u001b[32m━━━━━━━━━━━━━━━━━━━━\u001b[0m\u001b[37m\u001b[0m \u001b[1m13s\u001b[0m 5s/step - accuracy: 0.6101 - auc: 0.6990 - loss: 0.6480 - precision: 0.6893 - recall: 0.3897 - val_accuracy: 1.0000 - val_auc: 1.0000 - val_loss: 0.5717 - val_precision: 1.0000 - val_recall: 1.0000\n",
      "Epoch 25/70\n",
      "\u001b[1m1/1\u001b[0m \u001b[32m━━━━━━━━━━━━━━━━━━━━\u001b[0m\u001b[37m\u001b[0m \u001b[1m2s\u001b[0m 2s/step - accuracy: 0.7353 - auc: 0.8553 - loss: 0.5710 - precision: 0.8564 - recall: 0.5850\n",
      "Epoch 25: Precision=0.8182, Recall=1.0000, F1 Score=0.9000\n",
      "\n",
      "Epoch 25: val_loss improved from 0.57171 to 0.57122, saving model to best_VGG16_BC_model.h5\n"
     ]
    },
    {
     "name": "stderr",
     "output_type": "stream",
     "text": [
      "WARNING:absl:You are saving your model as an HDF5 file via `model.save()` or `keras.saving.save_model(model)`. This file format is considered legacy. We recommend using instead the native Keras format, e.g. `model.save('my_model.keras')` or `keras.saving.save_model(model, 'my_model.keras')`. \n"
     ]
    },
    {
     "name": "stdout",
     "output_type": "stream",
     "text": [
      "\u001b[1m3/3\u001b[0m \u001b[32m━━━━━━━━━━━━━━━━━━━━\u001b[0m\u001b[37m\u001b[0m \u001b[1m13s\u001b[0m 6s/step - accuracy: 0.7279 - auc: 0.8365 - loss: 0.5800 - precision: 0.8346 - recall: 0.5858 - val_accuracy: 0.8889 - val_auc: 1.0000 - val_loss: 0.5712 - val_precision: 0.8182 - val_recall: 1.0000\n",
      "Epoch 26/70\n",
      "\u001b[1m1/1\u001b[0m \u001b[32m━━━━━━━━━━━━━━━━━━━━\u001b[0m\u001b[37m\u001b[0m \u001b[1m2s\u001b[0m 2s/step - accuracy: 0.6229 - auc: 0.6939 - loss: 0.6358 - precision: 0.6548 - recall: 0.601\n",
      "Epoch 26: Precision=0.7500, Recall=1.0000, F1 Score=0.8571\n",
      "\n",
      "Epoch 26: val_loss did not improve from 0.57122\n",
      "\u001b[1m3/3\u001b[0m \u001b[32m━━━━━━━━━━━━━━━━━━━━\u001b[0m\u001b[37m\u001b[0m \u001b[1m13s\u001b[0m 5s/step - accuracy: 0.6179 - auc: 0.6845 - loss: 0.6378 - precision: 0.6426 - recall: 0.5984 - val_accuracy: 0.8333 - val_auc: 1.0000 - val_loss: 0.5723 - val_precision: 0.7500 - val_recall: 1.0000\n",
      "Epoch 27/70\n",
      "\u001b[1m1/1\u001b[0m \u001b[32m━━━━━━━━━━━━━━━━━━━━\u001b[0m\u001b[37m\u001b[0m \u001b[1m2s\u001b[0m 2s/step - accuracy: 0.7696 - auc: 0.7043 - loss: 0.6240 - precision: 0.8653 - recall: 0.6770\n",
      "Epoch 27: Precision=0.7500, Recall=1.0000, F1 Score=0.8571\n",
      "\n",
      "Epoch 27: val_loss did not improve from 0.57122\n",
      "\u001b[1m3/3\u001b[0m \u001b[32m━━━━━━━━━━━━━━━━━━━━\u001b[0m\u001b[37m\u001b[0m \u001b[1m14s\u001b[0m 7s/step - accuracy: 0.7794 - auc: 0.7344 - loss: 0.6099 - precision: 0.8535 - recall: 0.7063 - val_accuracy: 0.8333 - val_auc: 1.0000 - val_loss: 0.5739 - val_precision: 0.7500 - val_recall: 1.0000\n",
      "Epoch 28/70\n",
      "\u001b[1m1/1\u001b[0m \u001b[32m━━━━━━━━━━━━━━━━━━━━\u001b[0m\u001b[37m\u001b[0m \u001b[1m2s\u001b[0m 2s/step - accuracy: 0.7288 - auc: 0.5889 - loss: 0.5997 - precision: 0.5392 - recall: 0.5732            \n",
      "Epoch 28: Precision=0.9000, Recall=1.0000, F1 Score=0.9474\n",
      "\n",
      "Epoch 28: val_loss improved from 0.57122 to 0.56341, saving model to best_VGG16_BC_model.h5\n"
     ]
    },
    {
     "name": "stderr",
     "output_type": "stream",
     "text": [
      "WARNING:absl:You are saving your model as an HDF5 file via `model.save()` or `keras.saving.save_model(model)`. This file format is considered legacy. We recommend using instead the native Keras format, e.g. `model.save('my_model.keras')` or `keras.saving.save_model(model, 'my_model.keras')`. \n"
     ]
    },
    {
     "name": "stdout",
     "output_type": "stream",
     "text": [
      "\u001b[1m3/3\u001b[0m \u001b[32m━━━━━━━━━━━━━━━━━━━━\u001b[0m\u001b[37m\u001b[0m \u001b[1m13s\u001b[0m 6s/step - accuracy: 0.7598 - auc: 0.6615 - loss: 0.5892 - precision: 0.6176 - recall: 0.6431 - val_accuracy: 0.9444 - val_auc: 1.0000 - val_loss: 0.5634 - val_precision: 0.9000 - val_recall: 1.0000\n",
      "Epoch 29/70\n",
      "\u001b[1m1/1\u001b[0m \u001b[32m━━━━━━━━━━━━━━━━━━━━\u001b[0m\u001b[37m\u001b[0m \u001b[1m2s\u001b[0m 2s/step - accuracy: 0.8723 - auc: 0.9357 - loss: 0.5299 - precision: 0.9010 - recall: 0.8303  \n",
      "Epoch 29: Precision=1.0000, Recall=1.0000, F1 Score=1.0000\n",
      "\n",
      "Epoch 29: val_loss improved from 0.56341 to 0.55772, saving model to best_VGG16_BC_model.h5\n"
     ]
    },
    {
     "name": "stderr",
     "output_type": "stream",
     "text": [
      "WARNING:absl:You are saving your model as an HDF5 file via `model.save()` or `keras.saving.save_model(model)`. This file format is considered legacy. We recommend using instead the native Keras format, e.g. `model.save('my_model.keras')` or `keras.saving.save_model(model, 'my_model.keras')`. \n"
     ]
    },
    {
     "name": "stdout",
     "output_type": "stream",
     "text": [
      "\u001b[1m3/3\u001b[0m \u001b[32m━━━━━━━━━━━━━━━━━━━━\u001b[0m\u001b[37m\u001b[0m \u001b[1m14s\u001b[0m 5s/step - accuracy: 0.8528 - auc: 0.9218 - loss: 0.5367 - precision: 0.8841 - recall: 0.8065 - val_accuracy: 1.0000 - val_auc: 1.0000 - val_loss: 0.5577 - val_precision: 1.0000 - val_recall: 1.0000\n",
      "Epoch 30/70\n",
      "\u001b[1m1/1\u001b[0m \u001b[32m━━━━━━━━━━━━━━━━━━━━\u001b[0m\u001b[37m\u001b[0m \u001b[1m2s\u001b[0m 2s/step - accuracy: 0.7702 - auc: 0.8209 - loss: 0.5781 - precision: 0.7911 - recall: 0.7696  \n",
      "Epoch 30: Precision=0.8182, Recall=1.0000, F1 Score=0.9000\n",
      "\n",
      "Epoch 30: val_loss improved from 0.55772 to 0.55636, saving model to best_VGG16_BC_model.h5\n"
     ]
    },
    {
     "name": "stderr",
     "output_type": "stream",
     "text": [
      "WARNING:absl:You are saving your model as an HDF5 file via `model.save()` or `keras.saving.save_model(model)`. This file format is considered legacy. We recommend using instead the native Keras format, e.g. `model.save('my_model.keras')` or `keras.saving.save_model(model, 'my_model.keras')`. \n"
     ]
    },
    {
     "name": "stdout",
     "output_type": "stream",
     "text": [
      "\u001b[1m3/3\u001b[0m \u001b[32m━━━━━━━━━━━━━━━━━━━━\u001b[0m\u001b[37m\u001b[0m \u001b[1m14s\u001b[0m 5s/step - accuracy: 0.7725 - auc: 0.8213 - loss: 0.5781 - precision: 0.7862 - recall: 0.7757 - val_accuracy: 0.8889 - val_auc: 1.0000 - val_loss: 0.5564 - val_precision: 0.8182 - val_recall: 1.0000\n",
      "Epoch 31/70\n",
      "\u001b[1m1/1\u001b[0m \u001b[32m━━━━━━━━━━━━━━━━━━━━\u001b[0m\u001b[37m\u001b[0m \u001b[1m2s\u001b[0m 2s/step - accuracy: 0.8110 - auc: 0.9273 - loss: 0.5217 - precision: 0.8932 - recall: 0.6938\n",
      "Epoch 31: Precision=0.7500, Recall=1.0000, F1 Score=0.8571\n",
      "\n",
      "Epoch 31: val_loss did not improve from 0.55636\n",
      "\u001b[1m3/3\u001b[0m \u001b[32m━━━━━━━━━━━━━━━━━━━━\u001b[0m\u001b[37m\u001b[0m \u001b[1m13s\u001b[0m 6s/step - accuracy: 0.8068 - auc: 0.9085 - loss: 0.5311 - precision: 0.8782 - recall: 0.7042 - val_accuracy: 0.8333 - val_auc: 1.0000 - val_loss: 0.5619 - val_precision: 0.7500 - val_recall: 1.0000\n",
      "Epoch 32/70\n",
      "\u001b[1m1/1\u001b[0m \u001b[32m━━━━━━━━━━━━━━━━━━━━\u001b[0m\u001b[37m\u001b[0m \u001b[1m2s\u001b[0m 2s/step - accuracy: 0.7292 - auc: 0.8690 - loss: 0.5628 - precision: 0.6573 - recall: 0.890\n",
      "Epoch 32: Precision=0.6429, Recall=1.0000, F1 Score=0.7826\n",
      "\n",
      "Epoch 32: val_loss did not improve from 0.55636\n",
      "\u001b[1m3/3\u001b[0m \u001b[32m━━━━━━━━━━━━━━━━━━━━\u001b[0m\u001b[37m\u001b[0m \u001b[1m14s\u001b[0m 5s/step - accuracy: 0.7344 - auc: 0.8708 - loss: 0.5619 - precision: 0.6652 - recall: 0.8960 - val_accuracy: 0.7222 - val_auc: 1.0000 - val_loss: 0.5649 - val_precision: 0.6429 - val_recall: 1.0000\n",
      "Epoch 33/70\n",
      "\u001b[1m1/1\u001b[0m \u001b[32m━━━━━━━━━━━━━━━━━━━━\u001b[0m\u001b[37m\u001b[0m \u001b[1m2s\u001b[0m 2s/step - accuracy: 0.6518 - auc: 0.7931 - loss: 0.6051 - precision: 0.5937 - recall: 0.8249  \n",
      "Epoch 33: Precision=0.6429, Recall=1.0000, F1 Score=0.7826\n",
      "\n",
      "Epoch 33: val_loss did not improve from 0.55636\n",
      "\u001b[1m3/3\u001b[0m \u001b[32m━━━━━━━━━━━━━━━━━━━━\u001b[0m\u001b[37m\u001b[0m \u001b[1m13s\u001b[0m 5s/step - accuracy: 0.6469 - auc: 0.7830 - loss: 0.6072 - precision: 0.5977 - recall: 0.8025 - val_accuracy: 0.7222 - val_auc: 1.0000 - val_loss: 0.5647 - val_precision: 0.6429 - val_recall: 1.0000\n",
      "Epoch 34/70\n",
      "\u001b[1m1/1\u001b[0m \u001b[32m━━━━━━━━━━━━━━━━━━━━\u001b[0m\u001b[37m\u001b[0m \u001b[1m2s\u001b[0m 2s/step - accuracy: 0.7309 - auc: 0.8568 - loss: 0.5868 - precision: 0.6355 - recall: 0.8612\n",
      "Epoch 34: Precision=0.7500, Recall=1.0000, F1 Score=0.8571\n",
      "\n",
      "Epoch 34: val_loss improved from 0.55636 to 0.54925, saving model to best_VGG16_BC_model.h5\n"
     ]
    },
    {
     "name": "stderr",
     "output_type": "stream",
     "text": [
      "WARNING:absl:You are saving your model as an HDF5 file via `model.save()` or `keras.saving.save_model(model)`. This file format is considered legacy. We recommend using instead the native Keras format, e.g. `model.save('my_model.keras')` or `keras.saving.save_model(model, 'my_model.keras')`. \n"
     ]
    },
    {
     "name": "stdout",
     "output_type": "stream",
     "text": [
      "\u001b[1m3/3\u001b[0m \u001b[32m━━━━━━━━━━━━━━━━━━━━\u001b[0m\u001b[37m\u001b[0m \u001b[1m15s\u001b[0m 7s/step - accuracy: 0.7283 - auc: 0.8436 - loss: 0.5876 - precision: 0.6497 - recall: 0.8444 - val_accuracy: 0.8333 - val_auc: 1.0000 - val_loss: 0.5492 - val_precision: 0.7500 - val_recall: 1.0000\n",
      "Epoch 35/70\n",
      "\u001b[1m1/1\u001b[0m \u001b[32m━━━━━━━━━━━━━━━━━━━━\u001b[0m\u001b[37m\u001b[0m \u001b[1m2s\u001b[0m 2s/step - accuracy: 0.8090 - auc: 0.8881 - loss: 0.5284 - precision: 0.7645 - recall: 0.8808  \n",
      "Epoch 35: Precision=0.7500, Recall=1.0000, F1 Score=0.8571\n",
      "\n",
      "Epoch 35: val_loss improved from 0.54925 to 0.53784, saving model to best_VGG16_BC_model.h5\n"
     ]
    },
    {
     "name": "stderr",
     "output_type": "stream",
     "text": [
      "WARNING:absl:You are saving your model as an HDF5 file via `model.save()` or `keras.saving.save_model(model)`. This file format is considered legacy. We recommend using instead the native Keras format, e.g. `model.save('my_model.keras')` or `keras.saving.save_model(model, 'my_model.keras')`. \n"
     ]
    },
    {
     "name": "stdout",
     "output_type": "stream",
     "text": [
      "\u001b[1m3/3\u001b[0m \u001b[32m━━━━━━━━━━━━━━━━━━━━\u001b[0m\u001b[37m\u001b[0m \u001b[1m14s\u001b[0m 5s/step - accuracy: 0.7943 - auc: 0.8812 - loss: 0.5327 - precision: 0.7591 - recall: 0.8518 - val_accuracy: 0.8333 - val_auc: 1.0000 - val_loss: 0.5378 - val_precision: 0.7500 - val_recall: 1.0000\n",
      "Epoch 36/70\n",
      "\u001b[1m1/1\u001b[0m \u001b[32m━━━━━━━━━━━━━━━━━━━━\u001b[0m\u001b[37m\u001b[0m \u001b[1m2s\u001b[0m 2s/step - accuracy: 0.7130 - auc: 0.8813 - loss: 0.5752 - precision: 0.7192 - recall: 0.8065\n",
      "Epoch 36: Precision=0.7500, Recall=1.0000, F1 Score=0.8571\n",
      "\n",
      "Epoch 36: val_loss improved from 0.53784 to 0.53439, saving model to best_VGG16_BC_model.h5\n"
     ]
    },
    {
     "name": "stderr",
     "output_type": "stream",
     "text": [
      "WARNING:absl:You are saving your model as an HDF5 file via `model.save()` or `keras.saving.save_model(model)`. This file format is considered legacy. We recommend using instead the native Keras format, e.g. `model.save('my_model.keras')` or `keras.saving.save_model(model, 'my_model.keras')`. \n"
     ]
    },
    {
     "name": "stdout",
     "output_type": "stream",
     "text": [
      "\u001b[1m3/3\u001b[0m \u001b[32m━━━━━━━━━━━━━━━━━━━━\u001b[0m\u001b[37m\u001b[0m \u001b[1m14s\u001b[0m 6s/step - accuracy: 0.7222 - auc: 0.8742 - loss: 0.5734 - precision: 0.7288 - recall: 0.7887 - val_accuracy: 0.8333 - val_auc: 1.0000 - val_loss: 0.5344 - val_precision: 0.7500 - val_recall: 1.0000\n",
      "Epoch 37/70\n",
      "\u001b[1m1/1\u001b[0m \u001b[32m━━━━━━━━━━━━━━━━━━━━\u001b[0m\u001b[37m\u001b[0m \u001b[1m2s\u001b[0m 2s/step - accuracy: 0.8115 - auc: 0.9512 - loss: 0.5354 - precision: 0.9190 - recall: 0.7004\n",
      "Epoch 37: Precision=0.7500, Recall=1.0000, F1 Score=0.8571\n",
      "\n",
      "Epoch 37: val_loss improved from 0.53439 to 0.53087, saving model to best_VGG16_BC_model.h5\n"
     ]
    },
    {
     "name": "stderr",
     "output_type": "stream",
     "text": [
      "WARNING:absl:You are saving your model as an HDF5 file via `model.save()` or `keras.saving.save_model(model)`. This file format is considered legacy. We recommend using instead the native Keras format, e.g. `model.save('my_model.keras')` or `keras.saving.save_model(model, 'my_model.keras')`. \n"
     ]
    },
    {
     "name": "stdout",
     "output_type": "stream",
     "text": [
      "\u001b[1m3/3\u001b[0m \u001b[32m━━━━━━━━━━━━━━━━━━━━\u001b[0m\u001b[37m\u001b[0m \u001b[1m13s\u001b[0m 6s/step - accuracy: 0.8145 - auc: 0.9400 - loss: 0.5338 - precision: 0.8951 - recall: 0.7312 - val_accuracy: 0.8333 - val_auc: 1.0000 - val_loss: 0.5309 - val_precision: 0.7500 - val_recall: 1.0000\n",
      "Epoch 38/70\n",
      "\u001b[1m1/1\u001b[0m \u001b[32m━━━━━━━━━━━━━━━━━━━━\u001b[0m\u001b[37m\u001b[0m \u001b[1m2s\u001b[0m 2s/step - accuracy: 0.8827 - auc: 0.9379 - loss: 0.5255 - precision: 0.8333 - recall: 0.9357  \n",
      "Epoch 38: Precision=0.7500, Recall=1.0000, F1 Score=0.8571\n",
      "\n",
      "Epoch 38: val_loss improved from 0.53087 to 0.52264, saving model to best_VGG16_BC_model.h5\n"
     ]
    },
    {
     "name": "stderr",
     "output_type": "stream",
     "text": [
      "WARNING:absl:You are saving your model as an HDF5 file via `model.save()` or `keras.saving.save_model(model)`. This file format is considered legacy. We recommend using instead the native Keras format, e.g. `model.save('my_model.keras')` or `keras.saving.save_model(model, 'my_model.keras')`. \n"
     ]
    },
    {
     "name": "stdout",
     "output_type": "stream",
     "text": [
      "\u001b[1m3/3\u001b[0m \u001b[32m━━━━━━━━━━━━━━━━━━━━\u001b[0m\u001b[37m\u001b[0m \u001b[1m14s\u001b[0m 5s/step - accuracy: 0.8753 - auc: 0.9301 - loss: 0.5291 - precision: 0.8250 - recall: 0.9371 - val_accuracy: 0.8333 - val_auc: 1.0000 - val_loss: 0.5226 - val_precision: 0.7500 - val_recall: 1.0000\n",
      "Epoch 39/70\n",
      "\u001b[1m1/1\u001b[0m \u001b[32m━━━━━━━━━━━━━━━━━━━━\u001b[0m\u001b[37m\u001b[0m \u001b[1m2s\u001b[0m 2s/step - accuracy: 0.8243 - auc: 0.9436 - loss: 0.4984 - precision: 0.7968 - recall: 0.9099  \n",
      "Epoch 39: Precision=0.8182, Recall=1.0000, F1 Score=0.9000\n",
      "\n",
      "Epoch 39: val_loss improved from 0.52264 to 0.51095, saving model to best_VGG16_BC_model.h5\n"
     ]
    },
    {
     "name": "stderr",
     "output_type": "stream",
     "text": [
      "WARNING:absl:You are saving your model as an HDF5 file via `model.save()` or `keras.saving.save_model(model)`. This file format is considered legacy. We recommend using instead the native Keras format, e.g. `model.save('my_model.keras')` or `keras.saving.save_model(model, 'my_model.keras')`. \n"
     ]
    },
    {
     "name": "stdout",
     "output_type": "stream",
     "text": [
      "\u001b[1m3/3\u001b[0m \u001b[32m━━━━━━━━━━━━━━━━━━━━\u001b[0m\u001b[37m\u001b[0m \u001b[1m14s\u001b[0m 5s/step - accuracy: 0.8241 - auc: 0.9392 - loss: 0.4998 - precision: 0.7949 - recall: 0.9030 - val_accuracy: 0.8889 - val_auc: 1.0000 - val_loss: 0.5110 - val_precision: 0.8182 - val_recall: 1.0000\n",
      "Epoch 40/70\n",
      "\u001b[1m1/1\u001b[0m \u001b[32m━━━━━━━━━━━━━━━━━━━━\u001b[0m\u001b[37m\u001b[0m \u001b[1m2s\u001b[0m 2s/step - accuracy: 0.7352 - auc: 0.8318 - loss: 0.5640 - precision: 0.9487 - recall: 0.5194  \n",
      "Epoch 40: Precision=0.8182, Recall=1.0000, F1 Score=0.9000\n",
      "\n",
      "Epoch 40: val_loss improved from 0.51095 to 0.50598, saving model to best_VGG16_BC_model.h5\n"
     ]
    },
    {
     "name": "stderr",
     "output_type": "stream",
     "text": [
      "WARNING:absl:You are saving your model as an HDF5 file via `model.save()` or `keras.saving.save_model(model)`. This file format is considered legacy. We recommend using instead the native Keras format, e.g. `model.save('my_model.keras')` or `keras.saving.save_model(model, 'my_model.keras')`. \n"
     ]
    },
    {
     "name": "stdout",
     "output_type": "stream",
     "text": [
      "\u001b[1m3/3\u001b[0m \u001b[32m━━━━━━━━━━━━━━━━━━━━\u001b[0m\u001b[37m\u001b[0m \u001b[1m13s\u001b[0m 5s/step - accuracy: 0.7426 - auc: 0.8296 - loss: 0.5631 - precision: 0.9231 - recall: 0.5513 - val_accuracy: 0.8889 - val_auc: 1.0000 - val_loss: 0.5060 - val_precision: 0.8182 - val_recall: 1.0000\n",
      "Epoch 41/70\n",
      "\u001b[1m1/1\u001b[0m \u001b[32m━━━━━━━━━━━━━━━━━━━━\u001b[0m\u001b[37m\u001b[0m \u001b[1m2s\u001b[0m 2s/step - accuracy: 0.8729 - auc: 0.9652 - loss: 0.5027 - precision: 0.8993 - recall: 0.818\n",
      "Epoch 41: Precision=0.7500, Recall=1.0000, F1 Score=0.8571\n",
      "\n",
      "Epoch 41: val_loss did not improve from 0.50598\n",
      "\u001b[1m3/3\u001b[0m \u001b[32m━━━━━━━━━━━━━━━━━━━━\u001b[0m\u001b[37m\u001b[0m \u001b[1m13s\u001b[0m 5s/step - accuracy: 0.8679 - auc: 0.9623 - loss: 0.5044 - precision: 0.9066 - recall: 0.8051 - val_accuracy: 0.8333 - val_auc: 1.0000 - val_loss: 0.5063 - val_precision: 0.7500 - val_recall: 1.0000\n",
      "Epoch 42/70\n",
      "\u001b[1m1/1\u001b[0m \u001b[32m━━━━━━━━━━━━━━━━━━━━\u001b[0m\u001b[37m\u001b[0m \u001b[1m2s\u001b[0m 2s/step - accuracy: 0.8807 - auc: 0.9509 - loss: 0.5175 - precision: 0.9111 - recall: 0.8535\n",
      "Epoch 42: Precision=0.6429, Recall=1.0000, F1 Score=0.7826\n",
      "\n",
      "Epoch 42: val_loss did not improve from 0.50598\n",
      "\u001b[1m3/3\u001b[0m \u001b[32m━━━━━━━━━━━━━━━━━━━━\u001b[0m\u001b[37m\u001b[0m \u001b[1m13s\u001b[0m 6s/step - accuracy: 0.8627 - auc: 0.9375 - loss: 0.5208 - precision: 0.8833 - recall: 0.8460 - val_accuracy: 0.7222 - val_auc: 1.0000 - val_loss: 0.5274 - val_precision: 0.6429 - val_recall: 1.0000\n",
      "Epoch 43/70\n",
      "\u001b[1m1/1\u001b[0m \u001b[32m━━━━━━━━━━━━━━━━━━━━\u001b[0m\u001b[37m\u001b[0m \u001b[1m2s\u001b[0m 2s/step - accuracy: 0.7887 - auc: 0.9738 - loss: 0.5156 - precision: 0.7004 - recall: 0.9804  \n",
      "Epoch 43: Precision=0.6000, Recall=1.0000, F1 Score=0.7500\n",
      "\n",
      "Epoch 43: val_loss did not improve from 0.50598\n",
      "\u001b[1m3/3\u001b[0m \u001b[32m━━━━━━━━━━━━━━━━━━━━\u001b[0m\u001b[37m\u001b[0m \u001b[1m14s\u001b[0m 5s/step - accuracy: 0.7864 - auc: 0.9677 - loss: 0.5171 - precision: 0.7031 - recall: 0.9706 - val_accuracy: 0.6667 - val_auc: 1.0000 - val_loss: 0.5304 - val_precision: 0.6000 - val_recall: 1.0000\n",
      "Epoch 44/70\n",
      "\u001b[1m1/1\u001b[0m \u001b[32m━━━━━━━━━━━━━━━━━━━━\u001b[0m\u001b[37m\u001b[0m \u001b[1m2s\u001b[0m 2s/step - accuracy: 0.7881 - auc: 0.8466 - loss: 0.5288 - precision: 0.7362 - recall: 0.9257\n",
      "Epoch 44: Precision=0.7500, Recall=1.0000, F1 Score=0.8571\n",
      "\n",
      "Epoch 44: val_loss did not improve from 0.50598\n",
      "\u001b[1m3/3\u001b[0m \u001b[32m━━━━━━━━━━━━━━━━━━━━\u001b[0m\u001b[37m\u001b[0m \u001b[1m13s\u001b[0m 6s/step - accuracy: 0.7933 - auc: 0.8559 - loss: 0.5254 - precision: 0.7445 - recall: 0.9149 - val_accuracy: 0.8333 - val_auc: 1.0000 - val_loss: 0.5145 - val_precision: 0.7500 - val_recall: 1.0000\n",
      "Epoch 45/70\n",
      "\u001b[1m1/1\u001b[0m \u001b[32m━━━━━━━━━━━━━━━━━━━━\u001b[0m\u001b[37m\u001b[0m \u001b[1m2s\u001b[0m 2s/step - accuracy: 0.8777 - auc: 0.9308 - loss: 0.5049 - precision: 0.8641 - recall: 0.9049  \n",
      "Epoch 45: Precision=0.7500, Recall=1.0000, F1 Score=0.8571\n",
      "\n",
      "Epoch 45: val_loss did not improve from 0.50598\n",
      "\u001b[1m3/3\u001b[0m \u001b[32m━━━━━━━━━━━━━━━━━━━━\u001b[0m\u001b[37m\u001b[0m \u001b[1m13s\u001b[0m 5s/step - accuracy: 0.8826 - auc: 0.9335 - loss: 0.5028 - precision: 0.8754 - recall: 0.8992 - val_accuracy: 0.8333 - val_auc: 1.0000 - val_loss: 0.5068 - val_precision: 0.7500 - val_recall: 1.0000\n",
      "\n",
      "Training completed in 587.64 seconds (9.79 minutes).\n"
     ]
    }
   ],
   "source": [
    "# start timer\n",
    "start_time = time.time()\n",
    "# --- Train the Model ---\n",
    "history = model.fit(\n",
    "    train_generator,\n",
    "    epochs=EPOCHS,\n",
    "    validation_data=val_generator,\n",
    "    callbacks=[metrics_callback,early_stop,checkpoint]\n",
    ")\n",
    "# End timer\n",
    "end_time = time.time()\n",
    "# Calculate and print elapsed time\n",
    "elapsed_time = end_time - start_time\n",
    "print(f\"\\nTraining completed in {elapsed_time:.2f} seconds ({elapsed_time / 60:.2f} minutes).\")"
   ]
  },
  {
   "cell_type": "code",
   "execution_count": 10,
   "id": "a2eb3b95",
   "metadata": {},
   "outputs": [
    {
     "name": "stdout",
     "output_type": "stream",
     "text": [
      "Training results saved to /Users/reamy/Desktop/THESIS/VGG-16_MC/training_results_vgg16.csv\n"
     ]
    }
   ],
   "source": [
    "# --- Save Metrics to CSV ---\n",
    "results_df = pd.DataFrame(metrics_callback.results)\n",
    "results_file_path = os.path.join(os.getcwd(), 'training_results_vgg16.csv')\n",
    "results_df.to_csv(results_file_path, index=False)\n",
    "print(f\"Training results saved to {results_file_path}\")"
   ]
  },
  {
   "cell_type": "code",
   "execution_count": 11,
   "id": "0c9da6c6",
   "metadata": {},
   "outputs": [
    {
     "name": "stdout",
     "output_type": "stream",
     "text": [
      "All VGG16 transfer learning plots saved successfully.\n"
     ]
    }
   ],
   "source": [
    "# --- Plotting Metrics ---\n",
    "metrics = ['Precision', 'Recall', 'F1 Score', 'Training Accuracy', 'Validation Accuracy', 'Training Loss', 'Validation Loss']\n",
    "titles = ['Precision', 'Recall', 'F1 Score', 'Training Accuracy', 'Validation Accuracy', 'Training Loss', 'Validation Loss']\n",
    "file_names = ['vgg16_precision.png', 'vgg16_recall.png', 'vgg16_f1.png',\n",
    "              'vgg16_train_acc.png', 'vgg16_val_acc.png', 'vgg16_train_loss.png', 'vgg16_val_loss.png']\n",
    "\n",
    "for i, metric in enumerate(metrics):\n",
    "    plt.figure(figsize=(8, 5))\n",
    "    plt.plot(results_df[metric], label=metric, linewidth=2, color='salmon')\n",
    "    plt.title(titles[i], fontsize=14)\n",
    "    plt.xlabel(\"Epoch\", fontsize=12)\n",
    "    plt.ylabel(metric, fontsize=12)\n",
    "    plt.grid(True, linestyle='--', alpha=0.6)\n",
    "    plt.legend(fontsize=10)\n",
    "\n",
    "    # Annotate last value\n",
    "    last_epoch = len(results_df[metric]) - 1\n",
    "    last_value = results_df[metric].iloc[-1]\n",
    "    plt.annotate(f\"{last_value:.4f}\",\n",
    "                 xy=(last_epoch, last_value),\n",
    "                 xytext=(last_epoch, last_value + 0.02),\n",
    "                 ha='center',\n",
    "                 fontsize=10,\n",
    "                 bbox=dict(boxstyle=\"round,pad=0.3\", fc=\"yellow\", ec=\"black\", lw=1))\n",
    "\n",
    "    plt.tight_layout()\n",
    "    plt.savefig(file_names[i], dpi=300)\n",
    "    plt.close()\n",
    "\n",
    "print(\"All VGG16 transfer learning plots saved successfully.\")"
   ]
  },
  {
   "cell_type": "code",
   "execution_count": 16,
   "id": "150d5464",
   "metadata": {},
   "outputs": [
    {
     "name": "stdout",
     "output_type": "stream",
     "text": [
      "Combined accuracy and loss plots saved successfully.\n"
     ]
    }
   ],
   "source": [
    "\n",
    "\n",
    "\n",
    "# --- Plot Accuracy (Training + Validation) ---\n",
    "plt.figure(figsize=(8, 5))\n",
    "plt.plot(results_df['Training Accuracy'], label='Training Accuracy', linewidth=2, color='blue')\n",
    "plt.plot(results_df['Validation Accuracy'], label='Validation Accuracy', linewidth=2, color='orange')\n",
    "plt.title('Training and Validation Accuracy', fontsize=14)\n",
    "plt.xlabel('Epoch', fontsize=12)\n",
    "plt.ylabel('Accuracy', fontsize=12)\n",
    "plt.grid(True, linestyle='--', alpha=0.6)\n",
    "plt.legend(fontsize=10)\n",
    "\n",
    "# Annotate last values\n",
    "for label in ['Training Accuracy', 'Validation Accuracy']:\n",
    "    last_epoch = len(results_df[label]) - 1\n",
    "    last_value = results_df[label].iloc[-1]\n",
    "    plt.annotate(f\"{last_value:.4f}\",\n",
    "                 xy=(last_epoch, last_value),\n",
    "                 xytext=(last_epoch, last_value + 0.02),\n",
    "                 ha='center',\n",
    "                 fontsize=10,\n",
    "                 bbox=dict(boxstyle=\"round,pad=0.3\", fc=\"yellow\", ec=\"black\", lw=1))\n",
    "\n",
    "plt.tight_layout()\n",
    "plt.savefig('sdcnn2_accuracy_combined.png', dpi=300)\n",
    "plt.close()\n",
    "# --- Plot Loss (Training + Validation) ---\n",
    "plt.figure(figsize=(8, 5))\n",
    "plt.plot(results_df['Training Loss'], label='Training Loss', linewidth=2, color='seagreen')\n",
    "plt.plot(results_df['Validation Loss'], label='Validation Loss', linewidth=2, color='firebrick')\n",
    "plt.title('Training and Validation Loss', fontsize=14)\n",
    "plt.xlabel('Epoch', fontsize=12)\n",
    "plt.ylabel('Loss', fontsize=12)\n",
    "plt.grid(True, linestyle='--', alpha=0.6)\n",
    "plt.legend(fontsize=10)\n",
    "\n",
    "# Annotate last values\n",
    "# Improved annotation to prevent overlap\n",
    "labels = ['Training Loss', 'Validation Loss']\n",
    "offsets = [0.02, -0.03]  # One above, one below\n",
    "\n",
    "for label, offset in zip(labels, offsets):\n",
    "    last_epoch = len(results_df[label]) - 1\n",
    "    last_value = results_df[label].iloc[-1]\n",
    "    plt.annotate(f\"{last_value:.4f}\",\n",
    "                 xy=(last_epoch, last_value),\n",
    "                 xytext=(last_epoch, last_value + offset),\n",
    "                 ha='center',\n",
    "                 fontsize=10,\n",
    "                 bbox=dict(boxstyle=\"round,pad=0.3\", fc=\"yellow\", ec=\"black\", lw=1))\n",
    "\n",
    "plt.tight_layout()\n",
    "plt.savefig('vgg16_loss_combined.png', dpi=300)\n",
    "plt.close()\n",
    "\n",
    "print(\"Combined accuracy and loss plots saved successfully.\")"
   ]
  },
  {
   "cell_type": "code",
   "execution_count": 12,
   "id": "c7ce34a2",
   "metadata": {},
   "outputs": [
    {
     "name": "stdout",
     "output_type": "stream",
     "text": [
      "\u001b[1m1/1\u001b[0m \u001b[32m━━━━━━━━━━━━━━━━━━━━\u001b[0m\u001b[37m\u001b[0m \u001b[1m2s\u001b[0m 2s/step\n"
     ]
    },
    {
     "data": {
      "image/png": "[encoded data removed]",
      "text/plain": [
       "<Figure size 640x480 with 2 Axes>"
      ]
     },
     "metadata": {},
     "output_type": "display_data"
    }
   ],
   "source": [
    "# --- Confusion Matrix ---\n",
    "predictions = model.predict(val_generator)\n",
    "y_pred = (predictions > 0.5).astype(int).reshape(-1)\n",
    "cm = confusion_matrix(val_labels, y_pred)\n",
    "disp = ConfusionMatrixDisplay(confusion_matrix=cm, display_labels=val_generator.class_indices.keys())\n",
    "disp.plot(cmap=plt.cm.Oranges)\n",
    "plt.title(\"VGG16 Confusion Matrix\")\n",
    "plt.savefig(\"vgg16_confusion_matrix.png\", dpi=300)\n",
    "plt.show()"
   ]
  },
  {
   "cell_type": "code",
   "execution_count": null,
   "id": "e715c4d8",
   "metadata": {},
   "outputs": [],
   "source": [
    "model.save('VGG-16_BC_model.h5')  # Save the trained model"
   ]
  },
  {
   "cell_type": "code",
   "execution_count": null,
   "id": "938859a7",
   "metadata": {},
   "outputs": [],
   "source": []
  }
 ],
 "metadata": {
  "kernelspec": {
   "display_name": ".venv",
   "language": "python",
   "name": "python3"
  },
  "language_info": {
   "codemirror_mode": {
    "name": "ipython",
    "version": 3
   },
   "file_extension": ".py",
   "mimetype": "text/x-python",
   "name": "python",
   "nbconvert_exporter": "python",
   "pygments_lexer": "ipython3",
   "version": "3.12.7"
  }
 },
 "nbformat": 4,
 "nbformat_minor": 5
}
