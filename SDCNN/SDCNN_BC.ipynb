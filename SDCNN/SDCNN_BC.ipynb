{
 "cells": [
  {
   "cell_type": "code",
   "execution_count": 13,
   "id": "3fd1134b",
   "metadata": {},
   "outputs": [],
   "source": [
    "# IRT Fault Detection: Binary Classification with Custom Metrics and Clear Plots\n",
    "\n",
    "import os\n",
    "import numpy as np\n",
    "import pandas as pd\n",
    "import tensorflow as tf\n",
    "import matplotlib.pyplot as plt\n",
    "from sklearn.metrics import precision_score, recall_score, f1_score, confusion_matrix, ConfusionMatrixDisplay\n",
    "from tensorflow.keras.preprocessing.image import ImageDataGenerator\n",
    "from tensorflow.keras.metrics import Precision, Recall, AUC\n",
    "from sklearn.model_selection import train_test_split\n",
    "import shutil\n",
    "from tensorflow.keras.utils import plot_model\n",
    "from IPython.display import Image\n",
    "import pandas as pd\n",
    "import io\n",
    "from sklearn.metrics import confusion_matrix, ConfusionMatrixDisplay\n",
    "import io\n"
   ]
  },
  {
   "cell_type": "code",
   "execution_count": 2,
   "id": "166904a9",
   "metadata": {},
   "outputs": [],
   "source": [
    "# --- Setup ---\n",
    "IMAGE_SIZE = (224, 224)\n",
    "BATCH_SIZE = 32\n",
    "EPOCHS = 50"
   ]
  },
  {
   "cell_type": "code",
   "execution_count": 3,
   "id": "af60f138",
   "metadata": {},
   "outputs": [],
   "source": [
    "# --- Organize Dataset ---\n",
    "original_data_dir = '/Users/reamy/Desktop/try/solar'  # Contains 'faulty/' and 'non_faulty/' folders\n",
    "base_dir = 'data/processed'\n",
    "train_dir = os.path.join(base_dir, 'train')\n",
    "val_dir = os.path.join(base_dir, 'val')"
   ]
  },
  {
   "cell_type": "code",
   "execution_count": 4,
   "id": "0a43b542",
   "metadata": {},
   "outputs": [],
   "source": [
    "# Create directories\n",
    "for split in ['train', 'val']:\n",
    "    for cls in ['faulty', 'non-faulty']:\n",
    "        os.makedirs(os.path.join(base_dir, split, cls), exist_ok=True)\n",
    "\n",
    "# Split and copy images\n",
    "for cls in ['faulty', 'non-faulty']:\n",
    "    cls_dir = os.path.join(original_data_dir, cls)\n",
    "    images = os.listdir(cls_dir)\n",
    "    train_images, val_images = train_test_split(images, test_size=0.2, random_state=42)\n",
    "\n",
    "    for img in train_images:\n",
    "        shutil.copy(os.path.join(cls_dir, img), os.path.join(train_dir, cls, img))\n",
    "    for img in val_images:\n",
    "        shutil.copy(os.path.join(cls_dir, img), os.path.join(val_dir, cls, img))\n"
   ]
  },
  {
   "cell_type": "code",
   "execution_count": 5,
   "id": "d37dc4f7",
   "metadata": {},
   "outputs": [
    {
     "name": "stdout",
     "output_type": "stream",
     "text": [
      "Found 182 images belonging to 2 classes.\n",
      "Found 46 images belonging to 2 classes.\n"
     ]
    }
   ],
   "source": [
    "# --- Data Augmentation and Generators ---\n",
    "train_datagen = ImageDataGenerator(\n",
    "    rescale=1./255,\n",
    "    rotation_range=20,\n",
    "    width_shift_range=0.2,\n",
    "    height_shift_range=0.2,\n",
    "    shear_range=0.2,\n",
    "    zoom_range=0.2,\n",
    "    horizontal_flip=True,\n",
    "    fill_mode='nearest'\n",
    ")\n",
    "\n",
    "val_datagen = ImageDataGenerator(rescale=1./255)\n",
    "\n",
    "train_generator = train_datagen.flow_from_directory(\n",
    "    train_dir,\n",
    "    target_size=IMAGE_SIZE,\n",
    "    batch_size=BATCH_SIZE,\n",
    "    class_mode='binary'\n",
    ")\n",
    "\n",
    "val_generator = val_datagen.flow_from_directory(\n",
    "    val_dir,\n",
    "    target_size=IMAGE_SIZE,\n",
    "    batch_size=BATCH_SIZE,\n",
    "    class_mode='binary',\n",
    "    shuffle=False\n",
    ")"
   ]
  },
  {
   "cell_type": "code",
   "execution_count": null,
   "id": "c82817f3",
   "metadata": {},
   "outputs": [],
   "source": [
    "# Create directories\n",
    "for split in ['train', 'val']:\n",
    "    for cls in ['faulty', 'non-faulty']:\n",
    "        os.makedirs(os.path.join(base_dir, split, cls), exist_ok=True)\n",
    "\n",
    "# Split and copy images\n",
    "for cls in ['faulty', 'non-faulty']:\n",
    "    cls_dir = os.path.join(original_data_dir, cls)\n",
    "    images = os.listdir(cls_dir)\n",
    "    train_images, val_images = train_test_split(images, test_size=0.2, random_state=42)\n",
    "\n",
    "    for img in train_images:\n",
    "        shutil.copy(os.path.join(cls_dir, img), os.path.join(train_dir, cls, img))\n",
    "    for img in val_images:\n",
    "        shutil.copy(os.path.join(cls_dir, img), os.path.join(val_dir, cls, img))\n"
   ]
  },
  {
   "cell_type": "code",
   "execution_count": 8,
   "id": "34d50777",
   "metadata": {},
   "outputs": [
    {
     "name": "stderr",
     "output_type": "stream",
     "text": [
      "/Users/reamy/Desktop/try/.venv/lib/python3.12/site-packages/keras/src/layers/convolutional/base_conv.py:113: UserWarning: Do not pass an `input_shape`/`input_dim` argument to a layer. When using Sequential models, prefer using an `Input(shape)` object as the first layer in the model instead.\n",
      "  super().__init__(activity_regularizer=activity_regularizer, **kwargs)\n"
     ]
    },
    {
     "data": {
      "text/html": [
       "<pre style=\"white-space:pre;overflow-x:auto;line-height:normal;font-family:Menlo,'DejaVu Sans Mono',consolas,'Courier New',monospace\"><span style=\"font-weight: bold\">Model: \"sequential_1\"</span>\n",
       "</pre>\n"
      ],
      "text/plain": [
       "\u001b[1mModel: \"sequential_1\"\u001b[0m\n"
      ]
     },
     "metadata": {},
     "output_type": "display_data"
    },
    {
     "data": {
      "text/html": [
       "<pre style=\"white-space:pre;overflow-x:auto;line-height:normal;font-family:Menlo,'DejaVu Sans Mono',consolas,'Courier New',monospace\">┏━━━━━━━━━━━━━━━━━━━━━━━━━━━━━━━━━┳━━━━━━━━━━━━━━━━━━━━━━━━┳━━━━━━━━━━━━━━━┓\n",
       "┃<span style=\"font-weight: bold\"> Layer (type)                    </span>┃<span style=\"font-weight: bold\"> Output Shape           </span>┃<span style=\"font-weight: bold\">       Param # </span>┃\n",
       "┡━━━━━━━━━━━━━━━━━━━━━━━━━━━━━━━━━╇━━━━━━━━━━━━━━━━━━━━━━━━╇━━━━━━━━━━━━━━━┩\n",
       "│ conv2d_3 (<span style=\"color: #0087ff; text-decoration-color: #0087ff\">Conv2D</span>)               │ (<span style=\"color: #00d7ff; text-decoration-color: #00d7ff\">None</span>, <span style=\"color: #00af00; text-decoration-color: #00af00\">222</span>, <span style=\"color: #00af00; text-decoration-color: #00af00\">222</span>, <span style=\"color: #00af00; text-decoration-color: #00af00\">32</span>)   │           <span style=\"color: #00af00; text-decoration-color: #00af00\">896</span> │\n",
       "├─────────────────────────────────┼────────────────────────┼───────────────┤\n",
       "│ max_pooling2d_3 (<span style=\"color: #0087ff; text-decoration-color: #0087ff\">MaxPooling2D</span>)  │ (<span style=\"color: #00d7ff; text-decoration-color: #00d7ff\">None</span>, <span style=\"color: #00af00; text-decoration-color: #00af00\">111</span>, <span style=\"color: #00af00; text-decoration-color: #00af00\">111</span>, <span style=\"color: #00af00; text-decoration-color: #00af00\">32</span>)   │             <span style=\"color: #00af00; text-decoration-color: #00af00\">0</span> │\n",
       "├─────────────────────────────────┼────────────────────────┼───────────────┤\n",
       "│ conv2d_4 (<span style=\"color: #0087ff; text-decoration-color: #0087ff\">Conv2D</span>)               │ (<span style=\"color: #00d7ff; text-decoration-color: #00d7ff\">None</span>, <span style=\"color: #00af00; text-decoration-color: #00af00\">109</span>, <span style=\"color: #00af00; text-decoration-color: #00af00\">109</span>, <span style=\"color: #00af00; text-decoration-color: #00af00\">64</span>)   │        <span style=\"color: #00af00; text-decoration-color: #00af00\">18,496</span> │\n",
       "├─────────────────────────────────┼────────────────────────┼───────────────┤\n",
       "│ max_pooling2d_4 (<span style=\"color: #0087ff; text-decoration-color: #0087ff\">MaxPooling2D</span>)  │ (<span style=\"color: #00d7ff; text-decoration-color: #00d7ff\">None</span>, <span style=\"color: #00af00; text-decoration-color: #00af00\">54</span>, <span style=\"color: #00af00; text-decoration-color: #00af00\">54</span>, <span style=\"color: #00af00; text-decoration-color: #00af00\">64</span>)     │             <span style=\"color: #00af00; text-decoration-color: #00af00\">0</span> │\n",
       "├─────────────────────────────────┼────────────────────────┼───────────────┤\n",
       "│ conv2d_5 (<span style=\"color: #0087ff; text-decoration-color: #0087ff\">Conv2D</span>)               │ (<span style=\"color: #00d7ff; text-decoration-color: #00d7ff\">None</span>, <span style=\"color: #00af00; text-decoration-color: #00af00\">52</span>, <span style=\"color: #00af00; text-decoration-color: #00af00\">52</span>, <span style=\"color: #00af00; text-decoration-color: #00af00\">128</span>)    │        <span style=\"color: #00af00; text-decoration-color: #00af00\">73,856</span> │\n",
       "├─────────────────────────────────┼────────────────────────┼───────────────┤\n",
       "│ max_pooling2d_5 (<span style=\"color: #0087ff; text-decoration-color: #0087ff\">MaxPooling2D</span>)  │ (<span style=\"color: #00d7ff; text-decoration-color: #00d7ff\">None</span>, <span style=\"color: #00af00; text-decoration-color: #00af00\">26</span>, <span style=\"color: #00af00; text-decoration-color: #00af00\">26</span>, <span style=\"color: #00af00; text-decoration-color: #00af00\">128</span>)    │             <span style=\"color: #00af00; text-decoration-color: #00af00\">0</span> │\n",
       "├─────────────────────────────────┼────────────────────────┼───────────────┤\n",
       "│ flatten_1 (<span style=\"color: #0087ff; text-decoration-color: #0087ff\">Flatten</span>)             │ (<span style=\"color: #00d7ff; text-decoration-color: #00d7ff\">None</span>, <span style=\"color: #00af00; text-decoration-color: #00af00\">86528</span>)          │             <span style=\"color: #00af00; text-decoration-color: #00af00\">0</span> │\n",
       "├─────────────────────────────────┼────────────────────────┼───────────────┤\n",
       "│ dense_2 (<span style=\"color: #0087ff; text-decoration-color: #0087ff\">Dense</span>)                 │ (<span style=\"color: #00d7ff; text-decoration-color: #00d7ff\">None</span>, <span style=\"color: #00af00; text-decoration-color: #00af00\">128</span>)            │    <span style=\"color: #00af00; text-decoration-color: #00af00\">11,075,712</span> │\n",
       "├─────────────────────────────────┼────────────────────────┼───────────────┤\n",
       "│ dense_3 (<span style=\"color: #0087ff; text-decoration-color: #0087ff\">Dense</span>)                 │ (<span style=\"color: #00d7ff; text-decoration-color: #00d7ff\">None</span>, <span style=\"color: #00af00; text-decoration-color: #00af00\">1</span>)              │           <span style=\"color: #00af00; text-decoration-color: #00af00\">129</span> │\n",
       "└─────────────────────────────────┴────────────────────────┴───────────────┘\n",
       "</pre>\n"
      ],
      "text/plain": [
       "┏━━━━━━━━━━━━━━━━━━━━━━━━━━━━━━━━━┳━━━━━━━━━━━━━━━━━━━━━━━━┳━━━━━━━━━━━━━━━┓\n",
       "┃\u001b[1m \u001b[0m\u001b[1mLayer (type)                   \u001b[0m\u001b[1m \u001b[0m┃\u001b[1m \u001b[0m\u001b[1mOutput Shape          \u001b[0m\u001b[1m \u001b[0m┃\u001b[1m \u001b[0m\u001b[1m      Param #\u001b[0m\u001b[1m \u001b[0m┃\n",
       "┡━━━━━━━━━━━━━━━━━━━━━━━━━━━━━━━━━╇━━━━━━━━━━━━━━━━━━━━━━━━╇━━━━━━━━━━━━━━━┩\n",
       "│ conv2d_3 (\u001b[38;5;33mConv2D\u001b[0m)               │ (\u001b[38;5;45mNone\u001b[0m, \u001b[38;5;34m222\u001b[0m, \u001b[38;5;34m222\u001b[0m, \u001b[38;5;34m32\u001b[0m)   │           \u001b[38;5;34m896\u001b[0m │\n",
       "├─────────────────────────────────┼────────────────────────┼───────────────┤\n",
       "│ max_pooling2d_3 (\u001b[38;5;33mMaxPooling2D\u001b[0m)  │ (\u001b[38;5;45mNone\u001b[0m, \u001b[38;5;34m111\u001b[0m, \u001b[38;5;34m111\u001b[0m, \u001b[38;5;34m32\u001b[0m)   │             \u001b[38;5;34m0\u001b[0m │\n",
       "├─────────────────────────────────┼────────────────────────┼───────────────┤\n",
       "│ conv2d_4 (\u001b[38;5;33mConv2D\u001b[0m)               │ (\u001b[38;5;45mNone\u001b[0m, \u001b[38;5;34m109\u001b[0m, \u001b[38;5;34m109\u001b[0m, \u001b[38;5;34m64\u001b[0m)   │        \u001b[38;5;34m18,496\u001b[0m │\n",
       "├─────────────────────────────────┼────────────────────────┼───────────────┤\n",
       "│ max_pooling2d_4 (\u001b[38;5;33mMaxPooling2D\u001b[0m)  │ (\u001b[38;5;45mNone\u001b[0m, \u001b[38;5;34m54\u001b[0m, \u001b[38;5;34m54\u001b[0m, \u001b[38;5;34m64\u001b[0m)     │             \u001b[38;5;34m0\u001b[0m │\n",
       "├─────────────────────────────────┼────────────────────────┼───────────────┤\n",
       "│ conv2d_5 (\u001b[38;5;33mConv2D\u001b[0m)               │ (\u001b[38;5;45mNone\u001b[0m, \u001b[38;5;34m52\u001b[0m, \u001b[38;5;34m52\u001b[0m, \u001b[38;5;34m128\u001b[0m)    │        \u001b[38;5;34m73,856\u001b[0m │\n",
       "├─────────────────────────────────┼────────────────────────┼───────────────┤\n",
       "│ max_pooling2d_5 (\u001b[38;5;33mMaxPooling2D\u001b[0m)  │ (\u001b[38;5;45mNone\u001b[0m, \u001b[38;5;34m26\u001b[0m, \u001b[38;5;34m26\u001b[0m, \u001b[38;5;34m128\u001b[0m)    │             \u001b[38;5;34m0\u001b[0m │\n",
       "├─────────────────────────────────┼────────────────────────┼───────────────┤\n",
       "│ flatten_1 (\u001b[38;5;33mFlatten\u001b[0m)             │ (\u001b[38;5;45mNone\u001b[0m, \u001b[38;5;34m86528\u001b[0m)          │             \u001b[38;5;34m0\u001b[0m │\n",
       "├─────────────────────────────────┼────────────────────────┼───────────────┤\n",
       "│ dense_2 (\u001b[38;5;33mDense\u001b[0m)                 │ (\u001b[38;5;45mNone\u001b[0m, \u001b[38;5;34m128\u001b[0m)            │    \u001b[38;5;34m11,075,712\u001b[0m │\n",
       "├─────────────────────────────────┼────────────────────────┼───────────────┤\n",
       "│ dense_3 (\u001b[38;5;33mDense\u001b[0m)                 │ (\u001b[38;5;45mNone\u001b[0m, \u001b[38;5;34m1\u001b[0m)              │           \u001b[38;5;34m129\u001b[0m │\n",
       "└─────────────────────────────────┴────────────────────────┴───────────────┘\n"
      ]
     },
     "metadata": {},
     "output_type": "display_data"
    },
    {
     "data": {
      "text/html": [
       "<pre style=\"white-space:pre;overflow-x:auto;line-height:normal;font-family:Menlo,'DejaVu Sans Mono',consolas,'Courier New',monospace\"><span style=\"font-weight: bold\"> Total params: </span><span style=\"color: #00af00; text-decoration-color: #00af00\">11,169,089</span> (42.61 MB)\n",
       "</pre>\n"
      ],
      "text/plain": [
       "\u001b[1m Total params: \u001b[0m\u001b[38;5;34m11,169,089\u001b[0m (42.61 MB)\n"
      ]
     },
     "metadata": {},
     "output_type": "display_data"
    },
    {
     "data": {
      "text/html": [
       "<pre style=\"white-space:pre;overflow-x:auto;line-height:normal;font-family:Menlo,'DejaVu Sans Mono',consolas,'Courier New',monospace\"><span style=\"font-weight: bold\"> Trainable params: </span><span style=\"color: #00af00; text-decoration-color: #00af00\">11,169,089</span> (42.61 MB)\n",
       "</pre>\n"
      ],
      "text/plain": [
       "\u001b[1m Trainable params: \u001b[0m\u001b[38;5;34m11,169,089\u001b[0m (42.61 MB)\n"
      ]
     },
     "metadata": {},
     "output_type": "display_data"
    },
    {
     "data": {
      "text/html": [
       "<pre style=\"white-space:pre;overflow-x:auto;line-height:normal;font-family:Menlo,'DejaVu Sans Mono',consolas,'Courier New',monospace\"><span style=\"font-weight: bold\"> Non-trainable params: </span><span style=\"color: #00af00; text-decoration-color: #00af00\">0</span> (0.00 B)\n",
       "</pre>\n"
      ],
      "text/plain": [
       "\u001b[1m Non-trainable params: \u001b[0m\u001b[38;5;34m0\u001b[0m (0.00 B)\n"
      ]
     },
     "metadata": {},
     "output_type": "display_data"
    },
    {
     "data": {
      "text/html": [
       "<pre style=\"white-space:pre;overflow-x:auto;line-height:normal;font-family:Menlo,'DejaVu Sans Mono',consolas,'Courier New',monospace\"></pre>\n"
      ],
      "text/plain": []
     },
     "metadata": {},
     "output_type": "display_data"
    },
    {
     "name": "stdout",
     "output_type": "stream",
     "text": [
      "Model summary saved to /Users/reamy/Desktop/try/model_summary.txt\n"
     ]
    }
   ],
   "source": [
    "# --- Get True Labels for Callback ---\n",
    "val_labels = np.concatenate([val_generator[i][1] for i in range(len(val_generator))])\n",
    "\n",
    "# --- Build Simple CNN Model ---\n",
    "model = tf.keras.Sequential([\n",
    "    tf.keras.layers.Conv2D(32, (3,3), activation='relu', input_shape=(224, 224, 3)),\n",
    "    tf.keras.layers.MaxPooling2D(2,2),\n",
    "    tf.keras.layers.Conv2D(64, (3,3), activation='relu'),\n",
    "    tf.keras.layers.MaxPooling2D(2,2),\n",
    "    tf.keras.layers.Conv2D(128, (3,3), activation='relu'),\n",
    "    tf.keras.layers.MaxPooling2D(2,2),\n",
    "    tf.keras.layers.Flatten(),\n",
    "    tf.keras.layers.Dense(128, activation='relu'),\n",
    "    tf.keras.layers.Dense(1, activation='sigmoid')\n",
    "])\n",
    "model.summary()\n",
    "\n",
    "# Capture the model summary output\n",
    "summary_output = io.StringIO()\n",
    "model.summary(print_fn=lambda x: summary_output.write(x + \"\\n\"))\n",
    "summary_text = summary_output.getvalue()\n",
    "\n",
    "# Save the summary to a text file\n",
    "summary_file_path = os.path.join(os.getcwd(), 'model_summary.txt')\n",
    "with open(summary_file_path, 'w') as f:\n",
    "    f.write(summary_text)\n",
    "\n",
    "print(f\"Model summary saved to {summary_file_path}\")"
   ]
  },
  {
   "cell_type": "code",
   "execution_count": 9,
   "id": "886d1d55",
   "metadata": {},
   "outputs": [],
   "source": [
    "\n",
    "# --- Compile Model ---\n",
    "model.compile(\n",
    "    optimizer='adamW',\n",
    "    loss='binary_crossentropy',\n",
    "    metrics=['accuracy', Precision(), Recall(), AUC()]\n",
    ")"
   ]
  },
  {
   "cell_type": "code",
   "execution_count": 14,
   "id": "28152a37",
   "metadata": {},
   "outputs": [
    {
     "data": {
      "image/png": "[encoded data removed]",
      "text/plain": [
       "<IPython.core.display.Image object>"
      ]
     },
     "execution_count": 14,
     "metadata": {},
     "output_type": "execute_result"
    }
   ],
   "source": [
    "# Save the architecture as an image file in the current working directory\n",
    "output_path = os.path.join(os.getcwd(), 'model_architecture.png')\n",
    "plot_model(model, to_file=output_path, show_shapes=True, show_layer_names=True, dpi=50)\n",
    "\n",
    "# Display the architecture in the notebook\n",
    "Image(filename=output_path)"
   ]
  },
  {
   "cell_type": "code",
   "execution_count": 15,
   "id": "5f32afd6",
   "metadata": {},
   "outputs": [],
   "source": [
    "# --- Custom Callback to Track Metrics ---\n",
    "class MetricsCallback(tf.keras.callbacks.Callback):\n",
    "    def __init__(self, val_generator, val_labels):\n",
    "        self.val_generator = val_generator\n",
    "        self.val_labels = val_labels.reshape(-1).astype(int)\n",
    "        self.results = []\n",
    "\n",
    "    def on_epoch_end(self, epoch, logs=None):\n",
    "        val_predictions = model.predict(self.val_generator)\n",
    "        val_predictions = (val_predictions > 0.5).astype(int).reshape(-1)\n",
    "\n",
    "        precision = precision_score(self.val_labels, val_predictions)\n",
    "        recall = recall_score(self.val_labels, val_predictions)\n",
    "        f1 = f1_score(self.val_labels, val_predictions)\n",
    "\n",
    "        self.results.append({\n",
    "            'Epoch': epoch + 1,\n",
    "            'Training Accuracy': logs['accuracy'],\n",
    "            'Validation Accuracy': logs['val_accuracy'],\n",
    "            'Training Loss': logs['loss'],\n",
    "            'Validation Loss': logs['val_loss'],\n",
    "            'Precision': precision,\n",
    "            'Recall': recall,\n",
    "            'F1 Score': f1\n",
    "        })\n",
    "\n",
    "        print(f\"Epoch {epoch + 1}: Precision={precision:.4f}, Recall={recall:.4f}, F1 Score={f1:.4f}\")\n",
    "\n",
    "metrics_callback = MetricsCallback(val_generator, val_labels)"
   ]
  },
  {
   "cell_type": "code",
   "execution_count": 16,
   "id": "cdaed1a7",
   "metadata": {},
   "outputs": [
    {
     "name": "stderr",
     "output_type": "stream",
     "text": [
      "/Users/reamy/Desktop/try/.venv/lib/python3.12/site-packages/keras/src/trainers/data_adapters/py_dataset_adapter.py:121: UserWarning: Your `PyDataset` class should call `super().__init__(**kwargs)` in its constructor. `**kwargs` can include `workers`, `use_multiprocessing`, `max_queue_size`. Do not pass these arguments to `fit()`, as they will be ignored.\n",
      "  self._warn_if_super_not_called()\n"
     ]
    },
    {
     "name": "stdout",
     "output_type": "stream",
     "text": [
      "Epoch 1/50\n",
      "\u001b[1m2/2\u001b[0m \u001b[32m━━━━━━━━━━━━━━━━━━━━\u001b[0m\u001b[37m\u001b[0m \u001b[1m0s\u001b[0m 89ms/step  - accuracy: 0.5144 - auc: 0.5571 - loss: 1.3252 - precision: 0.4834 - recall: 0.23\n",
      "Epoch 1: Precision=0.5111, Recall=1.0000, F1 Score=0.6765\n",
      "\u001b[1m6/6\u001b[0m \u001b[32m━━━━━━━━━━━━━━━━━━━━\u001b[0m\u001b[37m\u001b[0m \u001b[1m5s\u001b[0m 722ms/step - accuracy: 0.5233 - auc: 0.5611 - loss: 1.2929 - precision: 0.5085 - recall: 0.2463 - val_accuracy: 0.5217 - val_auc: 0.8771 - val_loss: 0.6579 - val_precision: 0.5111 - val_recall: 1.0000\n",
      "Epoch 2/50\n",
      "\u001b[1m2/2\u001b[0m \u001b[32m━━━━━━━━━━━━━━━━━━━━\u001b[0m\u001b[37m\u001b[0m \u001b[1m0s\u001b[0m 64ms/step  - accuracy: 0.6191 - auc: 0.7430 - loss: 0.6402 - precision: 0.5862 - recall: 0.8\n",
      "Epoch 2: Precision=0.7500, Recall=0.2609, F1 Score=0.3871\n",
      "\u001b[1m6/6\u001b[0m \u001b[32m━━━━━━━━━━━━━━━━━━━━\u001b[0m\u001b[37m\u001b[0m \u001b[1m4s\u001b[0m 632ms/step - accuracy: 0.6264 - auc: 0.7412 - loss: 0.6382 - precision: 0.5931 - recall: 0.8571 - val_accuracy: 0.5870 - val_auc: 0.8629 - val_loss: 0.5506 - val_precision: 0.7500 - val_recall: 0.2609\n",
      "Epoch 3/50\n",
      "\u001b[1m2/2\u001b[0m \u001b[32m━━━━━━━━━━━━━━━━━━━━\u001b[0m\u001b[37m\u001b[0m \u001b[1m0s\u001b[0m 64ms/step  - accuracy: 0.7564 - auc: 0.7970 - loss: 0.5719 - precision: 0.7788 - recall: 0.7\n",
      "Epoch 3: Precision=0.8571, Recall=0.5217, F1 Score=0.6486\n",
      "\u001b[1m6/6\u001b[0m \u001b[32m━━━━━━━━━━━━━━━━━━━━\u001b[0m\u001b[37m\u001b[0m \u001b[1m4s\u001b[0m 618ms/step - accuracy: 0.7519 - auc: 0.7924 - loss: 0.5727 - precision: 0.7685 - recall: 0.7475 - val_accuracy: 0.7174 - val_auc: 0.9168 - val_loss: 0.4553 - val_precision: 0.8571 - val_recall: 0.5217\n",
      "Epoch 4/50\n",
      "\u001b[1m2/2\u001b[0m \u001b[32m━━━━━━━━━━━━━━━━━━━━\u001b[0m\u001b[37m\u001b[0m \u001b[1m0s\u001b[0m 64ms/step  - accuracy: 0.7865 - auc: 0.8569 - loss: 0.4944 - precision: 0.8411 - recall: 0.7\n",
      "Epoch 4: Precision=0.8519, Recall=1.0000, F1 Score=0.9200\n",
      "\u001b[1m6/6\u001b[0m \u001b[32m━━━━━━━━━━━━━━━━━━━━\u001b[0m\u001b[37m\u001b[0m \u001b[1m4s\u001b[0m 620ms/step - accuracy: 0.7856 - auc: 0.8492 - loss: 0.4939 - precision: 0.8264 - recall: 0.7711 - val_accuracy: 0.9130 - val_auc: 0.9338 - val_loss: 0.3324 - val_precision: 0.8519 - val_recall: 1.0000\n",
      "Epoch 5/50\n",
      "\u001b[1m2/2\u001b[0m \u001b[32m━━━━━━━━━━━━━━━━━━━━\u001b[0m\u001b[37m\u001b[0m \u001b[1m0s\u001b[0m 64ms/step  - accuracy: 0.8128 - auc: 0.8751 - loss: 0.4067 - precision: 0.7944 - recall: 0.8\n",
      "Epoch 5: Precision=0.9130, Recall=0.9130, F1 Score=0.9130\n",
      "\u001b[1m6/6\u001b[0m \u001b[32m━━━━━━━━━━━━━━━━━━━━\u001b[0m\u001b[37m\u001b[0m \u001b[1m4s\u001b[0m 621ms/step - accuracy: 0.8136 - auc: 0.8741 - loss: 0.4059 - precision: 0.7900 - recall: 0.8968 - val_accuracy: 0.9130 - val_auc: 0.9405 - val_loss: 0.3023 - val_precision: 0.9130 - val_recall: 0.9130\n",
      "Epoch 6/50\n",
      "\u001b[1m2/2\u001b[0m \u001b[32m━━━━━━━━━━━━━━━━━━━━\u001b[0m\u001b[37m\u001b[0m \u001b[1m0s\u001b[0m 65ms/step  - accuracy: 0.7886 - auc: 0.8345 - loss: 0.4630 - precision: 0.7411 - recall: 0.8\n",
      "Epoch 6: Precision=0.8214, Recall=1.0000, F1 Score=0.9020\n",
      "\u001b[1m6/6\u001b[0m \u001b[32m━━━━━━━━━━━━━━━━━━━━\u001b[0m\u001b[37m\u001b[0m \u001b[1m4s\u001b[0m 621ms/step - accuracy: 0.7921 - auc: 0.8396 - loss: 0.4550 - precision: 0.7427 - recall: 0.9043 - val_accuracy: 0.8913 - val_auc: 0.9490 - val_loss: 0.2952 - val_precision: 0.8214 - val_recall: 1.0000\n",
      "Epoch 7/50\n",
      "\u001b[1m2/2\u001b[0m \u001b[32m━━━━━━━━━━━━━━━━━━━━\u001b[0m\u001b[37m\u001b[0m \u001b[1m0s\u001b[0m 71ms/step  - accuracy: 0.7807 - auc: 0.8885 - loss: 0.3951 - precision: 0.7419 - recall: 0.8\n",
      "Epoch 7: Precision=0.8800, Recall=0.9565, F1 Score=0.9167\n",
      "\u001b[1m6/6\u001b[0m \u001b[32m━━━━━━━━━━━━━━━━━━━━\u001b[0m\u001b[37m\u001b[0m \u001b[1m4s\u001b[0m 673ms/step - accuracy: 0.7869 - auc: 0.8903 - loss: 0.3915 - precision: 0.7453 - recall: 0.8879 - val_accuracy: 0.9130 - val_auc: 0.9471 - val_loss: 0.2599 - val_precision: 0.8800 - val_recall: 0.9565\n",
      "Epoch 8/50\n",
      "\u001b[1m2/2\u001b[0m \u001b[32m━━━━━━━━━━━━━━━━━━━━\u001b[0m\u001b[37m\u001b[0m \u001b[1m0s\u001b[0m 65ms/step  - accuracy: 0.8844 - auc: 0.9107 - loss: 0.3663 - precision: 0.8362 - recall: 0.9\n",
      "Epoch 8: Precision=0.7419, Recall=1.0000, F1 Score=0.8519\n",
      "\u001b[1m6/6\u001b[0m \u001b[32m━━━━━━━━━━━━━━━━━━━━\u001b[0m\u001b[37m\u001b[0m \u001b[1m4s\u001b[0m 633ms/step - accuracy: 0.8797 - auc: 0.9096 - loss: 0.3683 - precision: 0.8313 - recall: 0.9468 - val_accuracy: 0.8261 - val_auc: 0.9187 - val_loss: 0.3932 - val_precision: 0.7419 - val_recall: 1.0000\n",
      "Epoch 9/50\n",
      "\u001b[1m2/2\u001b[0m \u001b[32m━━━━━━━━━━━━━━━━━━━━\u001b[0m\u001b[37m\u001b[0m \u001b[1m0s\u001b[0m 67ms/step  - accuracy: 0.7925 - auc: 0.8545 - loss: 0.4631 - precision: 0.7308 - recall: 0.9\n",
      "Epoch 9: Precision=0.8182, Recall=0.7826, F1 Score=0.8000\n",
      "\u001b[1m6/6\u001b[0m \u001b[32m━━━━━━━━━━━━━━━━━━━━\u001b[0m\u001b[37m\u001b[0m \u001b[1m4s\u001b[0m 691ms/step - accuracy: 0.7939 - auc: 0.8536 - loss: 0.4591 - precision: 0.7320 - recall: 0.9714 - val_accuracy: 0.8043 - val_auc: 0.9310 - val_loss: 0.3656 - val_precision: 0.8182 - val_recall: 0.7826\n",
      "Epoch 10/50\n",
      "\u001b[1m2/2\u001b[0m \u001b[32m━━━━━━━━━━━━━━━━━━━━\u001b[0m\u001b[37m\u001b[0m \u001b[1m0s\u001b[0m 68ms/step  - accuracy: 0.8003 - auc: 0.8773 - loss: 0.4378 - precision: 0.8035 - recall: 0.8\n",
      "Epoch 10: Precision=0.8462, Recall=0.9565, F1 Score=0.8980\n",
      "\u001b[1m6/6\u001b[0m \u001b[32m━━━━━━━━━━━━━━━━━━━━\u001b[0m\u001b[37m\u001b[0m \u001b[1m4s\u001b[0m 697ms/step - accuracy: 0.8037 - auc: 0.8803 - loss: 0.4309 - precision: 0.8027 - recall: 0.8118 - val_accuracy: 0.8913 - val_auc: 0.9093 - val_loss: 0.2925 - val_precision: 0.8462 - val_recall: 0.9565\n",
      "Epoch 11/50\n",
      "\u001b[1m2/2\u001b[0m \u001b[32m━━━━━━━━━━━━━━━━━━━━\u001b[0m\u001b[37m\u001b[0m \u001b[1m0s\u001b[0m 69ms/step  - accuracy: 0.7802 - auc: 0.8343 - loss: 0.4486 - precision: 0.7270 - recall: 0.8\n",
      "Epoch 11: Precision=0.8800, Recall=0.9565, F1 Score=0.9167\n",
      "\u001b[1m6/6\u001b[0m \u001b[32m━━━━━━━━━━━━━━━━━━━━\u001b[0m\u001b[37m\u001b[0m \u001b[1m4s\u001b[0m 644ms/step - accuracy: 0.7841 - auc: 0.8383 - loss: 0.4426 - precision: 0.7303 - recall: 0.8970 - val_accuracy: 0.9130 - val_auc: 0.9216 - val_loss: 0.2835 - val_precision: 0.8800 - val_recall: 0.9565\n",
      "Epoch 12/50\n",
      "\u001b[1m2/2\u001b[0m \u001b[32m━━━━━━━━━━━━━━━━━━━━\u001b[0m\u001b[37m\u001b[0m \u001b[1m0s\u001b[0m 69ms/step  - accuracy: 0.7865 - auc: 0.8398 - loss: 0.4378 - precision: 0.7403 - recall: 0.8\n",
      "Epoch 12: Precision=0.8462, Recall=0.9565, F1 Score=0.8980\n",
      "\u001b[1m6/6\u001b[0m \u001b[32m━━━━━━━━━━━━━━━━━━━━\u001b[0m\u001b[37m\u001b[0m \u001b[1m4s\u001b[0m 654ms/step - accuracy: 0.7903 - auc: 0.8466 - loss: 0.4305 - precision: 0.7455 - recall: 0.8826 - val_accuracy: 0.8913 - val_auc: 0.9329 - val_loss: 0.2722 - val_precision: 0.8462 - val_recall: 0.9565\n",
      "Epoch 13/50\n",
      "\u001b[1m2/2\u001b[0m \u001b[32m━━━━━━━━━━━━━━━━━━━━\u001b[0m\u001b[37m\u001b[0m \u001b[1m0s\u001b[0m 70ms/step  - accuracy: 0.8568 - auc: 0.9315 - loss: 0.3140 - precision: 0.7750 - recall: 1.0\n",
      "Epoch 13: Precision=0.8214, Recall=1.0000, F1 Score=0.9020\n",
      "\u001b[1m6/6\u001b[0m \u001b[32m━━━━━━━━━━━━━━━━━━━━\u001b[0m\u001b[37m\u001b[0m \u001b[1m4s\u001b[0m 656ms/step - accuracy: 0.8514 - auc: 0.9268 - loss: 0.3229 - precision: 0.7691 - recall: 1.0000 - val_accuracy: 0.8913 - val_auc: 0.9263 - val_loss: 0.2763 - val_precision: 0.8214 - val_recall: 1.0000\n",
      "Epoch 14/50\n",
      "\u001b[1m2/2\u001b[0m \u001b[32m━━━━━━━━━━━━━━━━━━━━\u001b[0m\u001b[37m\u001b[0m \u001b[1m0s\u001b[0m 71ms/step  - accuracy: 0.8692 - auc: 0.9074 - loss: 0.3436 - precision: 0.8407 - recall: 0.9\n",
      "Epoch 14: Precision=0.8462, Recall=0.9565, F1 Score=0.8980\n",
      "\u001b[1m6/6\u001b[0m \u001b[32m━━━━━━━━━━━━━━━━━━━━\u001b[0m\u001b[37m\u001b[0m \u001b[1m4s\u001b[0m 693ms/step - accuracy: 0.8651 - auc: 0.9041 - loss: 0.3487 - precision: 0.8363 - recall: 0.9173 - val_accuracy: 0.8913 - val_auc: 0.9282 - val_loss: 0.2826 - val_precision: 0.8462 - val_recall: 0.9565\n",
      "Epoch 15/50\n",
      "\u001b[1m2/2\u001b[0m \u001b[32m━━━━━━━━━━━━━━━━━━━━\u001b[0m\u001b[37m\u001b[0m \u001b[1m0s\u001b[0m 71ms/step  - accuracy: 0.8432 - auc: 0.9118 - loss: 0.3479 - precision: 0.8031 - recall: 0.9\n",
      "Epoch 15: Precision=0.8519, Recall=1.0000, F1 Score=0.9200\n",
      "\u001b[1m6/6\u001b[0m \u001b[32m━━━━━━━━━━━━━━━━━━━━\u001b[0m\u001b[37m\u001b[0m \u001b[1m4s\u001b[0m 667ms/step - accuracy: 0.8460 - auc: 0.9129 - loss: 0.3460 - precision: 0.8035 - recall: 0.9130 - val_accuracy: 0.9130 - val_auc: 0.9253 - val_loss: 0.2700 - val_precision: 0.8519 - val_recall: 1.0000\n",
      "Epoch 16/50\n",
      "\u001b[1m2/2\u001b[0m \u001b[32m━━━━━━━━━━━━━━━━━━━━\u001b[0m\u001b[37m\u001b[0m \u001b[1m0s\u001b[0m 72ms/step  - accuracy: 0.9002 - auc: 0.9228 - loss: 0.2982 - precision: 0.8519 - recall: 0.9\n",
      "Epoch 16: Precision=0.8214, Recall=1.0000, F1 Score=0.9020\n",
      "\u001b[1m6/6\u001b[0m \u001b[32m━━━━━━━━━━━━━━━━━━━━\u001b[0m\u001b[37m\u001b[0m \u001b[1m4s\u001b[0m 675ms/step - accuracy: 0.8956 - auc: 0.9218 - loss: 0.3029 - precision: 0.8472 - recall: 0.9603 - val_accuracy: 0.8913 - val_auc: 0.9367 - val_loss: 0.2733 - val_precision: 0.8214 - val_recall: 1.0000\n",
      "Epoch 17/50\n",
      "\u001b[1m2/2\u001b[0m \u001b[32m━━━━━━━━━━━━━━━━━━━━\u001b[0m\u001b[37m\u001b[0m \u001b[1m0s\u001b[0m 77ms/step  - accuracy: 0.8819 - auc: 0.9260 - loss: 0.3204 - precision: 0.8235 - recall: 0.9\n",
      "Epoch 17: Precision=0.8519, Recall=1.0000, F1 Score=0.9200\n",
      "\u001b[1m6/6\u001b[0m \u001b[32m━━━━━━━━━━━━━━━━━━━━\u001b[0m\u001b[37m\u001b[0m \u001b[1m4s\u001b[0m 708ms/step - accuracy: 0.8776 - auc: 0.9240 - loss: 0.3248 - precision: 0.8212 - recall: 0.9538 - val_accuracy: 0.9130 - val_auc: 0.9386 - val_loss: 0.2574 - val_precision: 0.8519 - val_recall: 1.0000\n",
      "Epoch 18/50\n",
      "\u001b[1m2/2\u001b[0m \u001b[32m━━━━━━━━━━━━━━━━━━━━\u001b[0m\u001b[37m\u001b[0m \u001b[1m0s\u001b[0m 72ms/step  - accuracy: 0.8474 - auc: 0.9365 - loss: 0.3045 - precision: 0.7843 - recall: 0.9\n",
      "Epoch 18: Precision=0.9048, Recall=0.8261, F1 Score=0.8636\n",
      "\u001b[1m6/6\u001b[0m \u001b[32m━━━━━━━━━━━━━━━━━━━━\u001b[0m\u001b[37m\u001b[0m \u001b[1m4s\u001b[0m 712ms/step - accuracy: 0.8433 - auc: 0.9325 - loss: 0.3119 - precision: 0.7807 - recall: 0.9640 - val_accuracy: 0.8696 - val_auc: 0.9537 - val_loss: 0.3111 - val_precision: 0.9048 - val_recall: 0.8261\n",
      "Epoch 19/50\n",
      "\u001b[1m2/2\u001b[0m \u001b[32m━━━━━━━━━━━━━━━━━━━━\u001b[0m\u001b[37m\u001b[0m \u001b[1m0s\u001b[0m 73ms/step  - accuracy: 0.8376 - auc: 0.9162 - loss: 0.3628 - precision: 0.8326 - recall: 0.8\n",
      "Epoch 19: Precision=0.8846, Recall=1.0000, F1 Score=0.9388\n",
      "\u001b[1m6/6\u001b[0m \u001b[32m━━━━━━━━━━━━━━━━━━━━\u001b[0m\u001b[37m\u001b[0m \u001b[1m4s\u001b[0m 692ms/step - accuracy: 0.8396 - auc: 0.9150 - loss: 0.3640 - precision: 0.8327 - recall: 0.8314 - val_accuracy: 0.9348 - val_auc: 0.9612 - val_loss: 0.2278 - val_precision: 0.8846 - val_recall: 1.0000\n",
      "Epoch 20/50\n",
      "\u001b[1m2/2\u001b[0m \u001b[32m━━━━━━━━━━━━━━━━━━━━\u001b[0m\u001b[37m\u001b[0m \u001b[1m0s\u001b[0m 74ms/step  - accuracy: 0.7965 - auc: 0.8984 - loss: 0.3812 - precision: 0.7386 - recall: 0.9\n",
      "Epoch 20: Precision=0.8519, Recall=1.0000, F1 Score=0.9200\n",
      "\u001b[1m6/6\u001b[0m \u001b[32m━━━━━━━━━━━━━━━━━━━━\u001b[0m\u001b[37m\u001b[0m \u001b[1m4s\u001b[0m 734ms/step - accuracy: 0.7996 - auc: 0.9014 - loss: 0.3767 - precision: 0.7409 - recall: 0.9531 - val_accuracy: 0.9130 - val_auc: 0.9565 - val_loss: 0.2316 - val_precision: 0.8519 - val_recall: 1.0000\n",
      "Epoch 21/50\n",
      "\u001b[1m2/2\u001b[0m \u001b[32m━━━━━━━━━━━━━━━━━━━━\u001b[0m\u001b[37m\u001b[0m \u001b[1m0s\u001b[0m 73ms/step  - accuracy: 0.9092 - auc: 0.9430 - loss: 0.2774 - precision: 0.8807 - recall: 0.9\n",
      "Epoch 21: Precision=0.9130, Recall=0.9130, F1 Score=0.9130\n",
      "\u001b[1m6/6\u001b[0m \u001b[32m━━━━━━━━━━━━━━━━━━━━\u001b[0m\u001b[37m\u001b[0m \u001b[1m4s\u001b[0m 700ms/step - accuracy: 0.9049 - auc: 0.9400 - loss: 0.2843 - precision: 0.8751 - recall: 0.9602 - val_accuracy: 0.9130 - val_auc: 0.9773 - val_loss: 0.2077 - val_precision: 0.9130 - val_recall: 0.9130\n",
      "Epoch 22/50\n",
      "\u001b[1m2/2\u001b[0m \u001b[32m━━━━━━━━━━━━━━━━━━━━\u001b[0m\u001b[37m\u001b[0m \u001b[1m0s\u001b[0m 74ms/step  - accuracy: 0.8536 - auc: 0.9025 - loss: 0.3674 - precision: 0.8057 - recall: 0.9\n",
      "Epoch 22: Precision=0.8214, Recall=1.0000, F1 Score=0.9020\n",
      "\u001b[1m6/6\u001b[0m \u001b[32m━━━━━━━━━━━━━━━━━━━━\u001b[0m\u001b[37m\u001b[0m \u001b[1m4s\u001b[0m 698ms/step - accuracy: 0.8534 - auc: 0.9036 - loss: 0.3648 - precision: 0.8087 - recall: 0.9136 - val_accuracy: 0.8913 - val_auc: 0.9612 - val_loss: 0.2430 - val_precision: 0.8214 - val_recall: 1.0000\n",
      "Epoch 23/50\n",
      "\u001b[1m2/2\u001b[0m \u001b[32m━━━━━━━━━━━━━━━━━━━━\u001b[0m\u001b[37m\u001b[0m \u001b[1m0s\u001b[0m 74ms/step  - accuracy: 0.8170 - auc: 0.9208 - loss: 0.3495 - precision: 0.7261 - recall: 0.9\n",
      "Epoch 23: Precision=0.8846, Recall=1.0000, F1 Score=0.9388\n",
      "\u001b[1m6/6\u001b[0m \u001b[32m━━━━━━━━━━━━━━━━━━━━\u001b[0m\u001b[37m\u001b[0m \u001b[1m4s\u001b[0m 706ms/step - accuracy: 0.8188 - auc: 0.9197 - loss: 0.3501 - precision: 0.7314 - recall: 0.9624 - val_accuracy: 0.9348 - val_auc: 0.9650 - val_loss: 0.2232 - val_precision: 0.8846 - val_recall: 1.0000\n",
      "Epoch 24/50\n",
      "\u001b[1m2/2\u001b[0m \u001b[32m━━━━━━━━━━━━━━━━━━━━\u001b[0m\u001b[37m\u001b[0m \u001b[1m0s\u001b[0m 74ms/step  - accuracy: 0.8775 - auc: 0.9547 - loss: 0.2781 - precision: 0.8591 - recall: 0.9\n",
      "Epoch 24: Precision=0.9091, Recall=0.8696, F1 Score=0.8889\n",
      "\u001b[1m6/6\u001b[0m \u001b[32m━━━━━━━━━━━━━━━━━━━━\u001b[0m\u001b[37m\u001b[0m \u001b[1m4s\u001b[0m 700ms/step - accuracy: 0.8761 - auc: 0.9509 - loss: 0.2836 - precision: 0.8561 - recall: 0.9199 - val_accuracy: 0.8913 - val_auc: 0.9716 - val_loss: 0.2557 - val_precision: 0.9091 - val_recall: 0.8696\n",
      "Epoch 25/50\n",
      "\u001b[1m2/2\u001b[0m \u001b[32m━━━━━━━━━━━━━━━━━━━━\u001b[0m\u001b[37m\u001b[0m \u001b[1m0s\u001b[0m 74ms/step  - accuracy: 0.8848 - auc: 0.9395 - loss: 0.3169 - precision: 0.8546 - recall: 0.9\n",
      "Epoch 25: Precision=0.8519, Recall=1.0000, F1 Score=0.9200\n",
      "\u001b[1m6/6\u001b[0m \u001b[32m━━━━━━━━━━━━━━━━━━━━\u001b[0m\u001b[37m\u001b[0m \u001b[1m4s\u001b[0m 705ms/step - accuracy: 0.8856 - auc: 0.9388 - loss: 0.3154 - precision: 0.8542 - recall: 0.9263 - val_accuracy: 0.9130 - val_auc: 0.9641 - val_loss: 0.2102 - val_precision: 0.8519 - val_recall: 1.0000\n",
      "Epoch 26/50\n",
      "\u001b[1m2/2\u001b[0m \u001b[32m━━━━━━━━━━━━━━━━━━━━\u001b[0m\u001b[37m\u001b[0m \u001b[1m0s\u001b[0m 86ms/step  - accuracy: 0.8680 - auc: 0.9421 - loss: 0.2889 - precision: 0.8243 - recall: 0.9\n",
      "Epoch 26: Precision=0.9500, Recall=0.8261, F1 Score=0.8837\n",
      "\u001b[1m6/6\u001b[0m \u001b[32m━━━━━━━━━━━━━━━━━━━━\u001b[0m\u001b[37m\u001b[0m \u001b[1m5s\u001b[0m 758ms/step - accuracy: 0.8681 - auc: 0.9394 - loss: 0.2957 - precision: 0.8227 - recall: 0.9669 - val_accuracy: 0.8913 - val_auc: 0.9830 - val_loss: 0.2663 - val_precision: 0.9500 - val_recall: 0.8261\n",
      "Epoch 27/50\n",
      "\u001b[1m2/2\u001b[0m \u001b[32m━━━━━━━━━━━━━━━━━━━━\u001b[0m\u001b[37m\u001b[0m \u001b[1m0s\u001b[0m 75ms/step  - accuracy: 0.8613 - auc: 0.9438 - loss: 0.3114 - precision: 0.8257 - recall: 0.8\n",
      "Epoch 27: Precision=0.9545, Recall=0.9130, F1 Score=0.9333\n",
      "\u001b[1m6/6\u001b[0m \u001b[32m━━━━━━━━━━━━━━━━━━━━\u001b[0m\u001b[37m\u001b[0m \u001b[1m5s\u001b[0m 774ms/step - accuracy: 0.8615 - auc: 0.9434 - loss: 0.3101 - precision: 0.8263 - recall: 0.9017 - val_accuracy: 0.9348 - val_auc: 0.9849 - val_loss: 0.1779 - val_precision: 0.9545 - val_recall: 0.9130\n",
      "Epoch 28/50\n",
      "\u001b[1m2/2\u001b[0m \u001b[32m━━━━━━━━━━━━━━━━━━━━\u001b[0m\u001b[37m\u001b[0m \u001b[1m0s\u001b[0m 77ms/step  - accuracy: 0.8130 - auc: 0.9087 - loss: 0.3551 - precision: 0.7649 - recall: 0.8\n",
      "Epoch 28: Precision=0.9167, Recall=0.9565, F1 Score=0.9362\n",
      "\u001b[1m6/6\u001b[0m \u001b[32m━━━━━━━━━━━━━━━━━━━━\u001b[0m\u001b[37m\u001b[0m \u001b[1m4s\u001b[0m 709ms/step - accuracy: 0.8193 - auc: 0.9109 - loss: 0.3516 - precision: 0.7740 - recall: 0.8717 - val_accuracy: 0.9348 - val_auc: 0.9905 - val_loss: 0.1730 - val_precision: 0.9167 - val_recall: 0.9565\n",
      "Epoch 29/50\n",
      "\u001b[1m2/2\u001b[0m \u001b[32m━━━━━━━━━━━━━━━━━━━━\u001b[0m\u001b[37m\u001b[0m \u001b[1m0s\u001b[0m 76ms/step  - accuracy: 0.8826 - auc: 0.9517 - loss: 0.2763 - precision: 0.8207 - recall: 0.9\n",
      "Epoch 29: Precision=0.9167, Recall=0.9565, F1 Score=0.9362\n",
      "\u001b[1m6/6\u001b[0m \u001b[32m━━━━━━━━━━━━━━━━━━━━\u001b[0m\u001b[37m\u001b[0m \u001b[1m4s\u001b[0m 743ms/step - accuracy: 0.8861 - auc: 0.9503 - loss: 0.2767 - precision: 0.8257 - recall: 0.9727 - val_accuracy: 0.9348 - val_auc: 0.9868 - val_loss: 0.1908 - val_precision: 0.9167 - val_recall: 0.9565\n",
      "Epoch 30/50\n",
      "\u001b[1m2/2\u001b[0m \u001b[32m━━━━━━━━━━━━━━━━━━━━\u001b[0m\u001b[37m\u001b[0m \u001b[1m0s\u001b[0m 77ms/step  - accuracy: 0.8789 - auc: 0.9584 - loss: 0.2560 - precision: 0.8386 - recall: 0.9\n",
      "Epoch 30: Precision=0.9130, Recall=0.9130, F1 Score=0.9130\n",
      "\u001b[1m6/6\u001b[0m \u001b[32m━━━━━━━━━━━━━━━━━━━━\u001b[0m\u001b[37m\u001b[0m \u001b[1m4s\u001b[0m 709ms/step - accuracy: 0.8773 - auc: 0.9575 - loss: 0.2605 - precision: 0.8376 - recall: 0.9312 - val_accuracy: 0.9130 - val_auc: 0.9868 - val_loss: 0.1861 - val_precision: 0.9130 - val_recall: 0.9130\n",
      "Epoch 31/50\n",
      "\u001b[1m2/2\u001b[0m \u001b[32m━━━━━━━━━━━━━━━━━━━━\u001b[0m\u001b[37m\u001b[0m \u001b[1m0s\u001b[0m 77ms/step  - accuracy: 0.8919 - auc: 0.9362 - loss: 0.2838 - precision: 0.8614 - recall: 0.9\n",
      "Epoch 31: Precision=0.9091, Recall=0.8696, F1 Score=0.8889\n",
      "\u001b[1m6/6\u001b[0m \u001b[32m━━━━━━━━━━━━━━━━━━━━\u001b[0m\u001b[37m\u001b[0m \u001b[1m4s\u001b[0m 706ms/step - accuracy: 0.8885 - auc: 0.9363 - loss: 0.2878 - precision: 0.8623 - recall: 0.9280 - val_accuracy: 0.8913 - val_auc: 0.9802 - val_loss: 0.2139 - val_precision: 0.9091 - val_recall: 0.8696\n",
      "Epoch 32/50\n",
      "\u001b[1m2/2\u001b[0m \u001b[32m━━━━━━━━━━━━━━━━━━━━\u001b[0m\u001b[37m\u001b[0m \u001b[1m0s\u001b[0m 77ms/step  - accuracy: 0.8214 - auc: 0.9146 - loss: 0.3646 - precision: 0.7507 - recall: 0.9\n",
      "Epoch 32: Precision=0.9444, Recall=0.7391, F1 Score=0.8293\n",
      "\u001b[1m6/6\u001b[0m \u001b[32m━━━━━━━━━━━━━━━━━━━━\u001b[0m\u001b[37m\u001b[0m \u001b[1m4s\u001b[0m 706ms/step - accuracy: 0.8249 - auc: 0.9173 - loss: 0.3578 - precision: 0.7569 - recall: 0.9392 - val_accuracy: 0.8478 - val_auc: 0.9849 - val_loss: 0.2648 - val_precision: 0.9444 - val_recall: 0.7391\n",
      "Epoch 33/50\n",
      "\u001b[1m2/2\u001b[0m \u001b[32m━━━━━━━━━━━━━━━━━━━━\u001b[0m\u001b[37m\u001b[0m \u001b[1m0s\u001b[0m 82ms/step  - accuracy: 0.8681 - auc: 0.9505 - loss: 0.2827 - precision: 0.8675 - recall: 0.8\n",
      "Epoch 33: Precision=0.9545, Recall=0.9130, F1 Score=0.9333\n",
      "\u001b[1m6/6\u001b[0m \u001b[32m━━━━━━━━━━━━━━━━━━━━\u001b[0m\u001b[37m\u001b[0m \u001b[1m5s\u001b[0m 756ms/step - accuracy: 0.8681 - auc: 0.9503 - loss: 0.2820 - precision: 0.8644 - recall: 0.8852 - val_accuracy: 0.9348 - val_auc: 0.9849 - val_loss: 0.1674 - val_precision: 0.9545 - val_recall: 0.9130\n",
      "Epoch 34/50\n",
      "\u001b[1m2/2\u001b[0m \u001b[32m━━━━━━━━━━━━━━━━━━━━\u001b[0m\u001b[37m\u001b[0m \u001b[1m0s\u001b[0m 78ms/step  - accuracy: 0.8700 - auc: 0.9609 - loss: 0.2457 - precision: 0.8362 - recall: 0.9\n",
      "Epoch 34: Precision=1.0000, Recall=0.6087, F1 Score=0.7568\n",
      "\u001b[1m6/6\u001b[0m \u001b[32m━━━━━━━━━━━━━━━━━━━━\u001b[0m\u001b[37m\u001b[0m \u001b[1m4s\u001b[0m 725ms/step - accuracy: 0.8689 - auc: 0.9588 - loss: 0.2513 - precision: 0.8326 - recall: 0.9392 - val_accuracy: 0.8043 - val_auc: 0.9584 - val_loss: 0.6979 - val_precision: 1.0000 - val_recall: 0.6087\n",
      "Epoch 35/50\n",
      "\u001b[1m2/2\u001b[0m \u001b[32m━━━━━━━━━━━━━━━━━━━━\u001b[0m\u001b[37m\u001b[0m \u001b[1m0s\u001b[0m 77ms/step  - accuracy: 0.8489 - auc: 0.9514 - loss: 0.2884 - precision: 0.8537 - recall: 0.8\n",
      "Epoch 35: Precision=0.8800, Recall=0.9565, F1 Score=0.9167\n",
      "\u001b[1m6/6\u001b[0m \u001b[32m━━━━━━━━━━━━━━━━━━━━\u001b[0m\u001b[37m\u001b[0m \u001b[1m4s\u001b[0m 751ms/step - accuracy: 0.8524 - auc: 0.9506 - loss: 0.2873 - precision: 0.8560 - recall: 0.8147 - val_accuracy: 0.9130 - val_auc: 0.9830 - val_loss: 0.1788 - val_precision: 0.8800 - val_recall: 0.9565\n",
      "Epoch 36/50\n",
      "\u001b[1m2/2\u001b[0m \u001b[32m━━━━━━━━━━━━━━━━━━━━\u001b[0m\u001b[37m\u001b[0m \u001b[1m0s\u001b[0m 76ms/step  - accuracy: 0.8126 - auc: 0.9381 - loss: 0.3642 - precision: 0.7328 - recall: 0.9\n",
      "Epoch 36: Precision=1.0000, Recall=0.5652, F1 Score=0.7222\n",
      "\u001b[1m6/6\u001b[0m \u001b[32m━━━━━━━━━━━━━━━━━━━━\u001b[0m\u001b[37m\u001b[0m \u001b[1m5s\u001b[0m 728ms/step - accuracy: 0.8198 - auc: 0.9366 - loss: 0.3573 - precision: 0.7432 - recall: 0.9517 - val_accuracy: 0.7826 - val_auc: 0.9802 - val_loss: 0.4977 - val_precision: 1.0000 - val_recall: 0.5652\n",
      "Epoch 37/50\n",
      "\u001b[1m2/2\u001b[0m \u001b[32m━━━━━━━━━━━━━━━━━━━━\u001b[0m\u001b[37m\u001b[0m \u001b[1m0s\u001b[0m 78ms/step  - accuracy: 0.8545 - auc: 0.9351 - loss: 0.3363 - precision: 0.8676 - recall: 0.8\n",
      "Epoch 37: Precision=0.9524, Recall=0.8696, F1 Score=0.9091\n",
      "\u001b[1m6/6\u001b[0m \u001b[32m━━━━━━━━━━━━━━━━━━━━\u001b[0m\u001b[37m\u001b[0m \u001b[1m5s\u001b[0m 829ms/step - accuracy: 0.8549 - auc: 0.9358 - loss: 0.3319 - precision: 0.8585 - recall: 0.8773 - val_accuracy: 0.9130 - val_auc: 0.9858 - val_loss: 0.2192 - val_precision: 0.9524 - val_recall: 0.8696\n",
      "Epoch 38/50\n",
      "\u001b[1m2/2\u001b[0m \u001b[32m━━━━━━━━━━━━━━━━━━━━\u001b[0m\u001b[37m\u001b[0m \u001b[1m0s\u001b[0m 80ms/step  - accuracy: 0.8841 - auc: 0.9469 - loss: 0.2917 - precision: 0.8509 - recall: 0.9\n",
      "Epoch 38: Precision=0.9130, Recall=0.9130, F1 Score=0.9130\n",
      "\u001b[1m6/6\u001b[0m \u001b[32m━━━━━━━━━━━━━━━━━━━━\u001b[0m\u001b[37m\u001b[0m \u001b[1m4s\u001b[0m 727ms/step - accuracy: 0.8834 - auc: 0.9472 - loss: 0.2909 - precision: 0.8538 - recall: 0.9272 - val_accuracy: 0.9130 - val_auc: 0.9887 - val_loss: 0.1776 - val_precision: 0.9130 - val_recall: 0.9130\n",
      "Epoch 39/50\n",
      "\u001b[1m2/2\u001b[0m \u001b[32m━━━━━━━━━━━━━━━━━━━━\u001b[0m\u001b[37m\u001b[0m \u001b[1m0s\u001b[0m 82ms/step  - accuracy: 0.8885 - auc: 0.9560 - loss: 0.2637 - precision: 0.8182 - recall: 0.9\n",
      "Epoch 39: Precision=1.0000, Recall=0.8696, F1 Score=0.9302\n",
      "\u001b[1m6/6\u001b[0m \u001b[32m━━━━━━━━━━━━━━━━━━━━\u001b[0m\u001b[37m\u001b[0m \u001b[1m4s\u001b[0m 732ms/step - accuracy: 0.8880 - auc: 0.9560 - loss: 0.2640 - precision: 0.8199 - recall: 0.9886 - val_accuracy: 0.9348 - val_auc: 0.9868 - val_loss: 0.2817 - val_precision: 1.0000 - val_recall: 0.8696\n",
      "Epoch 40/50\n",
      "\u001b[1m2/2\u001b[0m \u001b[32m━━━━━━━━━━━━━━━━━━━━\u001b[0m\u001b[37m\u001b[0m \u001b[1m0s\u001b[0m 77ms/step  - accuracy: 0.8921 - auc: 0.9603 - loss: 0.2557 - precision: 0.8710 - recall: 0.9\n",
      "Epoch 40: Precision=0.9167, Recall=0.9565, F1 Score=0.9362\n",
      "\u001b[1m6/6\u001b[0m \u001b[32m━━━━━━━━━━━━━━━━━━━━\u001b[0m\u001b[37m\u001b[0m \u001b[1m4s\u001b[0m 722ms/step - accuracy: 0.8895 - auc: 0.9582 - loss: 0.2584 - precision: 0.8686 - recall: 0.9241 - val_accuracy: 0.9348 - val_auc: 0.9905 - val_loss: 0.1485 - val_precision: 0.9167 - val_recall: 0.9565\n",
      "Epoch 41/50\n",
      "\u001b[1m2/2\u001b[0m \u001b[32m━━━━━━━━━━━━━━━━━━━━\u001b[0m\u001b[37m\u001b[0m \u001b[1m0s\u001b[0m 78ms/step  - accuracy: 0.8853 - auc: 0.9482 - loss: 0.2755 - precision: 0.8350 - recall: 0.9\n",
      "Epoch 41: Precision=1.0000, Recall=0.6957, F1 Score=0.8205\n",
      "\u001b[1m6/6\u001b[0m \u001b[32m━━━━━━━━━━━━━━━━━━━━\u001b[0m\u001b[37m\u001b[0m \u001b[1m4s\u001b[0m 753ms/step - accuracy: 0.8860 - auc: 0.9494 - loss: 0.2743 - precision: 0.8345 - recall: 0.9827 - val_accuracy: 0.8478 - val_auc: 0.9820 - val_loss: 0.3523 - val_precision: 1.0000 - val_recall: 0.6957\n",
      "Epoch 42/50\n",
      "\u001b[1m2/2\u001b[0m \u001b[32m━━━━━━━━━━━━━━━━━━━━\u001b[0m\u001b[37m\u001b[0m \u001b[1m0s\u001b[0m 78ms/step  - accuracy: 0.8681 - auc: 0.9611 - loss: 0.2529 - precision: 0.8748 - recall: 0.8\n",
      "Epoch 42: Precision=0.9130, Recall=0.9130, F1 Score=0.9130\n",
      "\u001b[1m6/6\u001b[0m \u001b[32m━━━━━━━━━━━━━━━━━━━━\u001b[0m\u001b[37m\u001b[0m \u001b[1m4s\u001b[0m 759ms/step - accuracy: 0.8713 - auc: 0.9625 - loss: 0.2483 - precision: 0.8782 - recall: 0.8654 - val_accuracy: 0.9130 - val_auc: 0.9868 - val_loss: 0.1675 - val_precision: 0.9130 - val_recall: 0.9130\n",
      "Epoch 43/50\n",
      "\u001b[1m2/2\u001b[0m \u001b[32m━━━━━━━━━━━━━━━━━━━━\u001b[0m\u001b[37m\u001b[0m \u001b[1m0s\u001b[0m 77ms/step  - accuracy: 0.8737 - auc: 0.9356 - loss: 0.3577 - precision: 0.8461 - recall: 0.9\n",
      "Epoch 43: Precision=0.9545, Recall=0.9130, F1 Score=0.9333\n",
      "\u001b[1m6/6\u001b[0m \u001b[32m━━━━━━━━━━━━━━━━━━━━\u001b[0m\u001b[37m\u001b[0m \u001b[1m4s\u001b[0m 723ms/step - accuracy: 0.8729 - auc: 0.9341 - loss: 0.3615 - precision: 0.8492 - recall: 0.9107 - val_accuracy: 0.9348 - val_auc: 0.9868 - val_loss: 0.1892 - val_precision: 0.9545 - val_recall: 0.9130\n",
      "Epoch 44/50\n",
      "\u001b[1m2/2\u001b[0m \u001b[32m━━━━━━━━━━━━━━━━━━━━\u001b[0m\u001b[37m\u001b[0m \u001b[1m1s\u001b[0m 79ms/step  - accuracy: 0.8549 - auc: 0.9415 - loss: 0.3369 - precision: 0.7886 - recall: 0.9\n",
      "Epoch 44: Precision=0.9130, Recall=0.9130, F1 Score=0.9130\n",
      "\u001b[1m6/6\u001b[0m \u001b[32m━━━━━━━━━━━━━━━━━━━━\u001b[0m\u001b[37m\u001b[0m \u001b[1m5s\u001b[0m 773ms/step - accuracy: 0.8568 - auc: 0.9399 - loss: 0.3400 - precision: 0.7929 - recall: 0.9467 - val_accuracy: 0.9130 - val_auc: 0.9641 - val_loss: 0.2469 - val_precision: 0.9130 - val_recall: 0.9130\n",
      "Epoch 45/50\n",
      "\u001b[1m2/2\u001b[0m \u001b[32m━━━━━━━━━━━━━━━━━━━━\u001b[0m\u001b[37m\u001b[0m \u001b[1m0s\u001b[0m 78ms/step  - accuracy: 0.8818 - auc: 0.9350 - loss: 0.3149 - precision: 0.8613 - recall: 0.9\n",
      "Epoch 45: Precision=0.9167, Recall=0.4783, F1 Score=0.6286\n",
      "\u001b[1m6/6\u001b[0m \u001b[32m━━━━━━━━━━━━━━━━━━━━\u001b[0m\u001b[37m\u001b[0m \u001b[1m5s\u001b[0m 739ms/step - accuracy: 0.8830 - auc: 0.9364 - loss: 0.3116 - precision: 0.8599 - recall: 0.9419 - val_accuracy: 0.7174 - val_auc: 0.9669 - val_loss: 0.4772 - val_precision: 0.9167 - val_recall: 0.4783\n",
      "Epoch 46/50\n",
      "\u001b[1m2/2\u001b[0m \u001b[32m━━━━━━━━━━━━━━━━━━━━\u001b[0m\u001b[37m\u001b[0m \u001b[1m0s\u001b[0m 77ms/step  - accuracy: 0.8113 - auc: 0.9328 - loss: 0.4347 - precision: 0.8834 - recall: 0.7\n",
      "Epoch 46: Precision=0.9474, Recall=0.7826, F1 Score=0.8571\n",
      "\u001b[1m6/6\u001b[0m \u001b[32m━━━━━━━━━━━━━━━━━━━━\u001b[0m\u001b[37m\u001b[0m \u001b[1m4s\u001b[0m 724ms/step - accuracy: 0.8147 - auc: 0.9290 - loss: 0.4320 - precision: 0.8765 - recall: 0.7237 - val_accuracy: 0.8696 - val_auc: 0.9792 - val_loss: 0.3620 - val_precision: 0.9474 - val_recall: 0.7826\n",
      "Epoch 47/50\n",
      "\u001b[1m2/2\u001b[0m \u001b[32m━━━━━━━━━━━━━━━━━━━━\u001b[0m\u001b[37m\u001b[0m \u001b[1m0s\u001b[0m 78ms/step  - accuracy: 0.8093 - auc: 0.8826 - loss: 0.4320 - precision: 0.8168 - recall: 0.8\n",
      "Epoch 47: Precision=0.9412, Recall=0.6957, F1 Score=0.8000\n",
      "\u001b[1m6/6\u001b[0m \u001b[32m━━━━━━━━━━━━━━━━━━━━\u001b[0m\u001b[37m\u001b[0m \u001b[1m4s\u001b[0m 730ms/step - accuracy: 0.8075 - auc: 0.8846 - loss: 0.4297 - precision: 0.8073 - recall: 0.8564 - val_accuracy: 0.8261 - val_auc: 0.9726 - val_loss: 0.3361 - val_precision: 0.9412 - val_recall: 0.6957\n",
      "Epoch 48/50\n",
      "\u001b[1m2/2\u001b[0m \u001b[32m━━━━━━━━━━━━━━━━━━━━\u001b[0m\u001b[37m\u001b[0m \u001b[1m0s\u001b[0m 77ms/step  - accuracy: 0.8358 - auc: 0.9214 - loss: 0.3938 - precision: 0.9047 - recall: 0.7\n",
      "Epoch 48: Precision=0.8519, Recall=1.0000, F1 Score=0.9200\n",
      "\u001b[1m6/6\u001b[0m \u001b[32m━━━━━━━━━━━━━━━━━━━━\u001b[0m\u001b[37m\u001b[0m \u001b[1m4s\u001b[0m 723ms/step - accuracy: 0.8412 - auc: 0.9243 - loss: 0.3857 - precision: 0.9047 - recall: 0.7826 - val_accuracy: 0.9130 - val_auc: 0.9783 - val_loss: 0.2041 - val_precision: 0.8519 - val_recall: 1.0000\n",
      "Epoch 49/50\n",
      "\u001b[1m2/2\u001b[0m \u001b[32m━━━━━━━━━━━━━━━━━━━━\u001b[0m\u001b[37m\u001b[0m \u001b[1m0s\u001b[0m 78ms/step  - accuracy: 0.8594 - auc: 0.9405 - loss: 0.3057 - precision: 0.8126 - recall: 0.9\n",
      "Epoch 49: Precision=0.9500, Recall=0.8261, F1 Score=0.8837\n",
      "\u001b[1m6/6\u001b[0m \u001b[32m━━━━━━━━━━━━━━━━━━━━\u001b[0m\u001b[37m\u001b[0m \u001b[1m4s\u001b[0m 719ms/step - accuracy: 0.8614 - auc: 0.9403 - loss: 0.3053 - precision: 0.8138 - recall: 0.9341 - val_accuracy: 0.8913 - val_auc: 0.9764 - val_loss: 0.2557 - val_precision: 0.9500 - val_recall: 0.8261\n",
      "Epoch 50/50\n",
      "\u001b[1m2/2\u001b[0m \u001b[32m━━━━━━━━━━━━━━━━━━━━\u001b[0m\u001b[37m\u001b[0m \u001b[1m0s\u001b[0m 78ms/step  - accuracy: 0.8484 - auc: 0.9461 - loss: 0.3005 - precision: 0.9173 - recall: 0.6\n",
      "Epoch 50: Precision=0.8214, Recall=1.0000, F1 Score=0.9020\n",
      "\u001b[1m6/6\u001b[0m \u001b[32m━━━━━━━━━━━━━━━━━━━━\u001b[0m\u001b[37m\u001b[0m \u001b[1m4s\u001b[0m 727ms/step - accuracy: 0.8473 - auc: 0.9448 - loss: 0.3043 - precision: 0.9117 - recall: 0.6980 - val_accuracy: 0.8913 - val_auc: 0.9792 - val_loss: 0.2475 - val_precision: 0.8214 - val_recall: 1.0000\n"
     ]
    }
   ],
   "source": [
    "# --- Train the Model ---\n",
    "history = model.fit(\n",
    "    train_generator,\n",
    "    epochs=EPOCHS,\n",
    "    validation_data=val_generator,\n",
    "    callbacks=[metrics_callback]\n",
    ")"
   ]
  },
  {
   "cell_type": "code",
   "execution_count": 17,
   "id": "4f868844",
   "metadata": {},
   "outputs": [
    {
     "name": "stdout",
     "output_type": "stream",
     "text": [
      "Training results saved to /Users/reamy/Desktop/try/training_results.csv\n",
      "All plots saved successfully.\n"
     ]
    }
   ],
   "source": [
    "# --- Save Metrics to CSV ---\n",
    "results_df = pd.DataFrame(metrics_callback.results)\n",
    "results_file_path = os.path.join(os.getcwd(), 'training_results.csv')\n",
    "results_df.to_csv(results_file_path, index=False)\n",
    "print(f\"Training results saved to {results_file_path}\")\n",
    "\n",
    "# --- Plotting Metrics ---\n",
    "metrics = ['Precision', 'Recall', 'F1 Score', 'Training Accuracy', 'Validation Accuracy', 'Training Loss', 'Validation Loss']\n",
    "titles = ['Precision', 'Recall', 'F1 Score', 'Training Accuracy', 'Validation Accuracy', 'Training Loss', 'Validation Loss']\n",
    "file_names = ['precision_plot.png', 'recall_plot.png', 'f1_score_plot.png',\n",
    "              'training_accuracy_plot.png', 'validation_accuracy_plot.png',\n",
    "              'training_loss_plot.png', 'validation_loss_plot.png']\n",
    "\n",
    "for i, metric in enumerate(metrics):\n",
    "    plt.figure(figsize=(8, 5))\n",
    "    plt.plot(results_df[metric], label=metric, linewidth=2, color='blue', marker='o')\n",
    "    plt.title(titles[i], fontsize=14)\n",
    "    plt.xlabel(\"Epoch\", fontsize=12)\n",
    "    plt.ylabel(metric, fontsize=12)\n",
    "    plt.grid(True, linestyle='--', alpha=0.6)\n",
    "    plt.legend(fontsize=10)\n",
    "\n",
    "    # Annotate last value\n",
    "    last_epoch = len(results_df[metric]) - 1\n",
    "    last_value = results_df[metric].iloc[-1]\n",
    "    plt.annotate(f\"{last_value:.4f}\",\n",
    "                 xy=(last_epoch, last_value),\n",
    "                 xytext=(last_epoch, last_value + 0.02),\n",
    "                 ha='center',\n",
    "                 fontsize=10,\n",
    "                 bbox=dict(boxstyle=\"round,pad=0.3\", fc=\"yellow\", ec=\"black\", lw=1))\n",
    "\n",
    "    plt.tight_layout()\n",
    "    plt.savefig(file_names[i], dpi=300)\n",
    "    plt.close()\n",
    "\n",
    "print(\"All plots saved successfully.\")"
   ]
  },
  {
   "cell_type": "code",
   "execution_count": 18,
   "id": "033cdcfc",
   "metadata": {},
   "outputs": [
    {
     "name": "stdout",
     "output_type": "stream",
     "text": [
      "\u001b[1m2/2\u001b[0m \u001b[32m━━━━━━━━━━━━━━━━━━━━\u001b[0m\u001b[37m\u001b[0m \u001b[1m0s\u001b[0m 69ms/step\n"
     ]
    },
    {
     "data": {
      "image/png": "[encoded data removed]",
      "text/plain": [
       "<Figure size 640x480 with 2 Axes>"
      ]
     },
     "metadata": {},
     "output_type": "display_data"
    }
   ],
   "source": [
    "# --- Confusion Matrix ---\n",
    "predictions = model.predict(val_generator)\n",
    "y_pred = (predictions > 0.5).astype(int).reshape(-1)\n",
    "cm = confusion_matrix(val_labels, y_pred)\n",
    "disp = ConfusionMatrixDisplay(confusion_matrix=cm, display_labels=val_generator.class_indices.keys())\n",
    "disp.plot(cmap=plt.cm.Blues)\n",
    "plt.title(\"Confusion Matrix\")\n",
    "plt.savefig(\"confusion_matrix.png\", dpi=300)\n",
    "plt.show()\n"
   ]
  },
  {
   "cell_type": "code",
   "execution_count": 19,
   "id": "90f78a9f",
   "metadata": {},
   "outputs": [
    {
     "name": "stderr",
     "output_type": "stream",
     "text": [
      "WARNING:absl:You are saving your model as an HDF5 file via `model.save()` or `keras.saving.save_model(model)`. This file format is considered legacy. We recommend using instead the native Keras format, e.g. `model.save('my_model.keras')` or `keras.saving.save_model(model, 'my_model.keras')`. \n"
     ]
    }
   ],
   "source": [
    "model.save('SDCNN_BC_model.h5')  # Save the trained model"
   ]
  },
  {
   "cell_type": "code",
   "execution_count": null,
   "id": "87412900",
   "metadata": {},
   "outputs": [],
   "source": []
  }
 ],
 "metadata": {
  "kernelspec": {
   "display_name": ".venv",
   "language": "python",
   "name": "python3"
  },
  "language_info": {
   "codemirror_mode": {
    "name": "ipython",
    "version": 3
   },
   "file_extension": ".py",
   "mimetype": "text/x-python",
   "name": "python",
   "nbconvert_exporter": "python",
   "pygments_lexer": "ipython3",
   "version": "3.12.7"
  }
 },
 "nbformat": 4,
 "nbformat_minor": 5
}
