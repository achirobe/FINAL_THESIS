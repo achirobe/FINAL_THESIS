{
 "cells": [
  {
   "cell_type": "code",
   "execution_count": 2,
   "id": "6d4ef5b2",
   "metadata": {},
   "outputs": [],
   "source": [
    "\n",
    "# IRT Fault Detection Using Transfer Learning with VGG-16\n",
    "\n",
    "import os\n",
    "import numpy as np\n",
    "import pandas as pd\n",
    "import tensorflow as tf\n",
    "import matplotlib.pyplot as plt\n",
    "from sklearn.metrics import precision_score, recall_score, f1_score, confusion_matrix, ConfusionMatrixDisplay\n",
    "from tensorflow.keras.preprocessing.image import ImageDataGenerator\n",
    "from tensorflow.keras.metrics import Precision, Recall, AUC\n",
    "from sklearn.model_selection import train_test_split\n",
    "import shutil\n",
    "from tensorflow.keras.utils import plot_model\n",
    "from IPython.display import Image\n",
    "import pandas as pd\n",
    "import io\n",
    "from sklearn.metrics import confusion_matrix, ConfusionMatrixDisplay\n",
    "import io"
   ]
  },
  {
   "cell_type": "code",
   "execution_count": 3,
   "id": "d0dc5769",
   "metadata": {},
   "outputs": [],
   "source": [
    "# --- Setup ---\n",
    "IMAGE_SIZE = (224, 224)\n",
    "BATCH_SIZE = 32\n",
    "EPOCHS = 50"
   ]
  },
  {
   "cell_type": "code",
   "execution_count": 5,
   "id": "475f7234",
   "metadata": {},
   "outputs": [],
   "source": [
    "# --- Organize Dataset ---\n",
    "original_data_dir = '/Users/reamy/Desktop/THESIS/solar'  # Contains 'faulty/' and 'non_faulty/' folders\n",
    "base_dir = 'data/processed'\n",
    "train_dir = os.path.join(base_dir, 'train')\n",
    "val_dir = os.path.join(base_dir, 'val')\n",
    "\n",
    "# Create directories\n",
    "for split in ['train', 'val']:\n",
    "    for cls in ['faulty', 'non-faulty']:\n",
    "        os.makedirs(os.path.join(base_dir, split, cls), exist_ok=True)\n",
    "\n",
    "# Split and copy images\n",
    "for cls in ['faulty', 'non-faulty']:\n",
    "    cls_dir = os.path.join(original_data_dir, cls)\n",
    "    images = os.listdir(cls_dir)\n",
    "    train_images, val_images = train_test_split(images, test_size=0.2, random_state=42)\n",
    "\n",
    "    for img in train_images:\n",
    "        shutil.copy(os.path.join(cls_dir, img), os.path.join(train_dir, cls, img))\n",
    "    for img in val_images:\n",
    "        shutil.copy(os.path.join(cls_dir, img), os.path.join(val_dir, cls, img))"
   ]
  },
  {
   "cell_type": "code",
   "execution_count": 6,
   "id": "61c4c820",
   "metadata": {},
   "outputs": [
    {
     "name": "stdout",
     "output_type": "stream",
     "text": [
      "Found 182 images belonging to 2 classes.\n",
      "Found 46 images belonging to 2 classes.\n"
     ]
    }
   ],
   "source": [
    "# --- Data Augmentation and Generators ---\n",
    "train_datagen = ImageDataGenerator(\n",
    "    rescale=1./255,\n",
    "    rotation_range=20,\n",
    "    width_shift_range=0.2,\n",
    "    height_shift_range=0.2,\n",
    "    shear_range=0.2,\n",
    "    zoom_range=0.2,\n",
    "    horizontal_flip=True,\n",
    "    fill_mode='nearest'\n",
    ")\n",
    "\n",
    "val_datagen = ImageDataGenerator(rescale=1./255)\n",
    "\n",
    "train_generator = train_datagen.flow_from_directory(\n",
    "    train_dir,\n",
    "    target_size=IMAGE_SIZE,\n",
    "    batch_size=BATCH_SIZE,\n",
    "    class_mode='binary'\n",
    ")\n",
    "\n",
    "val_generator = val_datagen.flow_from_directory(\n",
    "    val_dir,\n",
    "    target_size=IMAGE_SIZE,\n",
    "    batch_size=BATCH_SIZE,\n",
    "    class_mode='binary',\n",
    "    shuffle=False\n",
    ")"
   ]
  },
  {
   "cell_type": "code",
   "execution_count": 7,
   "id": "41e31751",
   "metadata": {},
   "outputs": [],
   "source": [
    "# --- Get True Labels for Callback ---\n",
    "val_labels = np.concatenate([val_generator[i][1] for i in range(len(val_generator))])\n",
    "\n",
    "# --- Load VGG16 base model (without top) ---\n",
    "base_model = tf.keras.applications.VGG16(weights='imagenet', include_top=False, input_shape=(224, 224, 3))\n",
    "base_model.trainable = False  # Freeze base model\n",
    "\n",
    "# --- Add custom classification head ---\n",
    "model = tf.keras.Sequential([\n",
    "    base_model,\n",
    "    tf.keras.layers.GlobalAveragePooling2D(),\n",
    "    tf.keras.layers.Dense(128, activation='relu'),\n",
    "    tf.keras.layers.Dropout(0.5),\n",
    "    tf.keras.layers.Dense(1, activation='sigmoid')\n",
    "])"
   ]
  },
  {
   "cell_type": "code",
   "execution_count": 9,
   "id": "7fd462c2",
   "metadata": {},
   "outputs": [
    {
     "data": {
      "text/html": [
       "<pre style=\"white-space:pre;overflow-x:auto;line-height:normal;font-family:Menlo,'DejaVu Sans Mono',consolas,'Courier New',monospace\"><span style=\"font-weight: bold\">Model: \"sequential\"</span>\n",
       "</pre>\n"
      ],
      "text/plain": [
       "\u001b[1mModel: \"sequential\"\u001b[0m\n"
      ]
     },
     "metadata": {},
     "output_type": "display_data"
    },
    {
     "data": {
      "text/html": [
       "<pre style=\"white-space:pre;overflow-x:auto;line-height:normal;font-family:Menlo,'DejaVu Sans Mono',consolas,'Courier New',monospace\">┏━━━━━━━━━━━━━━━━━━━━━━━━━━━━━━━━━┳━━━━━━━━━━━━━━━━━━━━━━━━┳━━━━━━━━━━━━━━━┓\n",
       "┃<span style=\"font-weight: bold\"> Layer (type)                    </span>┃<span style=\"font-weight: bold\"> Output Shape           </span>┃<span style=\"font-weight: bold\">       Param # </span>┃\n",
       "┡━━━━━━━━━━━━━━━━━━━━━━━━━━━━━━━━━╇━━━━━━━━━━━━━━━━━━━━━━━━╇━━━━━━━━━━━━━━━┩\n",
       "│ vgg16 (<span style=\"color: #0087ff; text-decoration-color: #0087ff\">Functional</span>)              │ (<span style=\"color: #00d7ff; text-decoration-color: #00d7ff\">None</span>, <span style=\"color: #00af00; text-decoration-color: #00af00\">7</span>, <span style=\"color: #00af00; text-decoration-color: #00af00\">7</span>, <span style=\"color: #00af00; text-decoration-color: #00af00\">512</span>)      │    <span style=\"color: #00af00; text-decoration-color: #00af00\">14,714,688</span> │\n",
       "├─────────────────────────────────┼────────────────────────┼───────────────┤\n",
       "│ global_average_pooling2d        │ (<span style=\"color: #00d7ff; text-decoration-color: #00d7ff\">None</span>, <span style=\"color: #00af00; text-decoration-color: #00af00\">512</span>)            │             <span style=\"color: #00af00; text-decoration-color: #00af00\">0</span> │\n",
       "│ (<span style=\"color: #0087ff; text-decoration-color: #0087ff\">GlobalAveragePooling2D</span>)        │                        │               │\n",
       "├─────────────────────────────────┼────────────────────────┼───────────────┤\n",
       "│ dense (<span style=\"color: #0087ff; text-decoration-color: #0087ff\">Dense</span>)                   │ (<span style=\"color: #00d7ff; text-decoration-color: #00d7ff\">None</span>, <span style=\"color: #00af00; text-decoration-color: #00af00\">128</span>)            │        <span style=\"color: #00af00; text-decoration-color: #00af00\">65,664</span> │\n",
       "├─────────────────────────────────┼────────────────────────┼───────────────┤\n",
       "│ dropout (<span style=\"color: #0087ff; text-decoration-color: #0087ff\">Dropout</span>)               │ (<span style=\"color: #00d7ff; text-decoration-color: #00d7ff\">None</span>, <span style=\"color: #00af00; text-decoration-color: #00af00\">128</span>)            │             <span style=\"color: #00af00; text-decoration-color: #00af00\">0</span> │\n",
       "├─────────────────────────────────┼────────────────────────┼───────────────┤\n",
       "│ dense_1 (<span style=\"color: #0087ff; text-decoration-color: #0087ff\">Dense</span>)                 │ (<span style=\"color: #00d7ff; text-decoration-color: #00d7ff\">None</span>, <span style=\"color: #00af00; text-decoration-color: #00af00\">1</span>)              │           <span style=\"color: #00af00; text-decoration-color: #00af00\">129</span> │\n",
       "└─────────────────────────────────┴────────────────────────┴───────────────┘\n",
       "</pre>\n"
      ],
      "text/plain": [
       "┏━━━━━━━━━━━━━━━━━━━━━━━━━━━━━━━━━┳━━━━━━━━━━━━━━━━━━━━━━━━┳━━━━━━━━━━━━━━━┓\n",
       "┃\u001b[1m \u001b[0m\u001b[1mLayer (type)                   \u001b[0m\u001b[1m \u001b[0m┃\u001b[1m \u001b[0m\u001b[1mOutput Shape          \u001b[0m\u001b[1m \u001b[0m┃\u001b[1m \u001b[0m\u001b[1m      Param #\u001b[0m\u001b[1m \u001b[0m┃\n",
       "┡━━━━━━━━━━━━━━━━━━━━━━━━━━━━━━━━━╇━━━━━━━━━━━━━━━━━━━━━━━━╇━━━━━━━━━━━━━━━┩\n",
       "│ vgg16 (\u001b[38;5;33mFunctional\u001b[0m)              │ (\u001b[38;5;45mNone\u001b[0m, \u001b[38;5;34m7\u001b[0m, \u001b[38;5;34m7\u001b[0m, \u001b[38;5;34m512\u001b[0m)      │    \u001b[38;5;34m14,714,688\u001b[0m │\n",
       "├─────────────────────────────────┼────────────────────────┼───────────────┤\n",
       "│ global_average_pooling2d        │ (\u001b[38;5;45mNone\u001b[0m, \u001b[38;5;34m512\u001b[0m)            │             \u001b[38;5;34m0\u001b[0m │\n",
       "│ (\u001b[38;5;33mGlobalAveragePooling2D\u001b[0m)        │                        │               │\n",
       "├─────────────────────────────────┼────────────────────────┼───────────────┤\n",
       "│ dense (\u001b[38;5;33mDense\u001b[0m)                   │ (\u001b[38;5;45mNone\u001b[0m, \u001b[38;5;34m128\u001b[0m)            │        \u001b[38;5;34m65,664\u001b[0m │\n",
       "├─────────────────────────────────┼────────────────────────┼───────────────┤\n",
       "│ dropout (\u001b[38;5;33mDropout\u001b[0m)               │ (\u001b[38;5;45mNone\u001b[0m, \u001b[38;5;34m128\u001b[0m)            │             \u001b[38;5;34m0\u001b[0m │\n",
       "├─────────────────────────────────┼────────────────────────┼───────────────┤\n",
       "│ dense_1 (\u001b[38;5;33mDense\u001b[0m)                 │ (\u001b[38;5;45mNone\u001b[0m, \u001b[38;5;34m1\u001b[0m)              │           \u001b[38;5;34m129\u001b[0m │\n",
       "└─────────────────────────────────┴────────────────────────┴───────────────┘\n"
      ]
     },
     "metadata": {},
     "output_type": "display_data"
    },
    {
     "data": {
      "text/html": [
       "<pre style=\"white-space:pre;overflow-x:auto;line-height:normal;font-family:Menlo,'DejaVu Sans Mono',consolas,'Courier New',monospace\"><span style=\"font-weight: bold\"> Total params: </span><span style=\"color: #00af00; text-decoration-color: #00af00\">14,780,481</span> (56.38 MB)\n",
       "</pre>\n"
      ],
      "text/plain": [
       "\u001b[1m Total params: \u001b[0m\u001b[38;5;34m14,780,481\u001b[0m (56.38 MB)\n"
      ]
     },
     "metadata": {},
     "output_type": "display_data"
    },
    {
     "data": {
      "text/html": [
       "<pre style=\"white-space:pre;overflow-x:auto;line-height:normal;font-family:Menlo,'DejaVu Sans Mono',consolas,'Courier New',monospace\"><span style=\"font-weight: bold\"> Trainable params: </span><span style=\"color: #00af00; text-decoration-color: #00af00\">65,793</span> (257.00 KB)\n",
       "</pre>\n"
      ],
      "text/plain": [
       "\u001b[1m Trainable params: \u001b[0m\u001b[38;5;34m65,793\u001b[0m (257.00 KB)\n"
      ]
     },
     "metadata": {},
     "output_type": "display_data"
    },
    {
     "data": {
      "text/html": [
       "<pre style=\"white-space:pre;overflow-x:auto;line-height:normal;font-family:Menlo,'DejaVu Sans Mono',consolas,'Courier New',monospace\"><span style=\"font-weight: bold\"> Non-trainable params: </span><span style=\"color: #00af00; text-decoration-color: #00af00\">14,714,688</span> (56.13 MB)\n",
       "</pre>\n"
      ],
      "text/plain": [
       "\u001b[1m Non-trainable params: \u001b[0m\u001b[38;5;34m14,714,688\u001b[0m (56.13 MB)\n"
      ]
     },
     "metadata": {},
     "output_type": "display_data"
    },
    {
     "data": {
      "text/html": [
       "<pre style=\"white-space:pre;overflow-x:auto;line-height:normal;font-family:Menlo,'DejaVu Sans Mono',consolas,'Courier New',monospace\"></pre>\n"
      ],
      "text/plain": []
     },
     "metadata": {},
     "output_type": "display_data"
    },
    {
     "name": "stdout",
     "output_type": "stream",
     "text": [
      "Model summary saved to /Users/reamy/Desktop/THESIS/VGG-16/vgg16_model_summary.txt\n"
     ]
    }
   ],
   "source": [
    "# --- Compile Model ---\n",
    "model.compile(\n",
    "    optimizer='adamW',\n",
    "    loss='binary_crossentropy',\n",
    "    metrics=['accuracy', Precision(), Recall(), AUC()]\n",
    ")\n",
    "model.summary()\n",
    "\n",
    "# Save model summary to file\n",
    "summary_file_path = os.path.join(os.getcwd(), 'vgg16_model_summary.txt')\n",
    "with io.StringIO() as buf:\n",
    "    model.summary(print_fn=lambda x: buf.write(x + '\\n'))\n",
    "    summary_text = buf.getvalue()\n",
    "\n",
    "with open(summary_file_path, 'w') as f:\n",
    "    f.write(summary_text)\n",
    "\n",
    "print(f\"Model summary saved to {summary_file_path}\")"
   ]
  },
  {
   "cell_type": "code",
   "execution_count": 10,
   "id": "121c2202",
   "metadata": {},
   "outputs": [
    {
     "data": {
      "image/png": "[encoded data removed]",
      "text/plain": [
       "<IPython.core.display.Image object>"
      ]
     },
     "execution_count": 10,
     "metadata": {},
     "output_type": "execute_result"
    }
   ],
   "source": [
    "# Save the architecture as an image file in the current working directory\n",
    "output_path = os.path.join(os.getcwd(), 'vgg16_model_architecture.png')\n",
    "plot_model(model, to_file=output_path, show_shapes=True, show_layer_names=True, dpi=50)\n",
    "\n",
    "# Display the architecture in the notebook\n",
    "Image(filename=output_path)"
   ]
  },
  {
   "cell_type": "code",
   "execution_count": 11,
   "id": "fc5b1e22",
   "metadata": {},
   "outputs": [],
   "source": [
    "# --- Custom Callback to Track Metrics ---\n",
    "class MetricsCallback(tf.keras.callbacks.Callback):\n",
    "    def __init__(self, val_generator, val_labels):\n",
    "        self.val_generator = val_generator\n",
    "        self.val_labels = val_labels.reshape(-1).astype(int)\n",
    "        self.results = []\n",
    "\n",
    "    def on_epoch_end(self, epoch, logs=None):\n",
    "        val_predictions = model.predict(self.val_generator)\n",
    "        val_predictions = (val_predictions > 0.5).astype(int).reshape(-1)\n",
    "\n",
    "        precision = precision_score(self.val_labels, val_predictions)\n",
    "        recall = recall_score(self.val_labels, val_predictions)\n",
    "        f1 = f1_score(self.val_labels, val_predictions)\n",
    "\n",
    "        self.results.append({\n",
    "            'Epoch': epoch + 1,\n",
    "            'Training Accuracy': logs['accuracy'],\n",
    "            'Validation Accuracy': logs['val_accuracy'],\n",
    "            'Training Loss': logs['loss'],\n",
    "            'Validation Loss': logs['val_loss'],\n",
    "            'Precision': precision,\n",
    "            'Recall': recall,\n",
    "            'F1 Score': f1\n",
    "        })\n",
    "\n",
    "        print(f\"Epoch {epoch + 1}: Precision={precision:.4f}, Recall={recall:.4f}, F1 Score={f1:.4f}\")\n",
    "\n",
    "metrics_callback = MetricsCallback(val_generator, val_labels)"
   ]
  },
  {
   "cell_type": "code",
   "execution_count": 12,
   "id": "a87914a4",
   "metadata": {},
   "outputs": [
    {
     "name": "stderr",
     "output_type": "stream",
     "text": [
      "/Users/reamy/Desktop/THESIS/.venv/lib/python3.12/site-packages/keras/src/trainers/data_adapters/py_dataset_adapter.py:121: UserWarning: Your `PyDataset` class should call `super().__init__(**kwargs)` in its constructor. `**kwargs` can include `workers`, `use_multiprocessing`, `max_queue_size`. Do not pass these arguments to `fit()`, as they will be ignored.\n",
      "  self._warn_if_super_not_called()\n"
     ]
    },
    {
     "name": "stdout",
     "output_type": "stream",
     "text": [
      "Epoch 1/50\n",
      "\u001b[1m2/2\u001b[0m \u001b[32m━━━━━━━━━━━━━━━━━━━━\u001b[0m\u001b[37m\u001b[0m \u001b[1m5s\u001b[0m 1s/step - accuracy: 0.5097 - auc_1: 0.5311 - loss: 0.7366 - precision_1: 0.4958 - recall_1: 0.41\n",
      "Epoch 1: Precision=0.6111, Recall=0.9565, F1 Score=0.7458\n",
      "\u001b[1m6/6\u001b[0m \u001b[32m━━━━━━━━━━━━━━━━━━━━\u001b[0m\u001b[37m\u001b[0m \u001b[1m27s\u001b[0m 5s/step - accuracy: 0.5099 - auc_1: 0.5329 - loss: 0.7360 - precision_1: 0.4979 - recall_1: 0.4300 - val_accuracy: 0.6739 - val_auc_1: 0.8365 - val_loss: 0.6726 - val_precision_1: 0.6111 - val_recall_1: 0.9565\n",
      "Epoch 2/50\n",
      "\u001b[1m2/2\u001b[0m \u001b[32m━━━━━━━━━━━━━━━━━━━━\u001b[0m\u001b[37m\u001b[0m \u001b[1m5s\u001b[0m 2s/step - accuracy: 0.5040 - auc_1: 0.5220 - loss: 0.7297 - precision_1: 0.4887 - recall_1: 0.53\n",
      "Epoch 2: Precision=0.9167, Recall=0.4783, F1 Score=0.6286\n",
      "\u001b[1m6/6\u001b[0m \u001b[32m━━━━━━━━━━━━━━━━━━━━\u001b[0m\u001b[37m\u001b[0m \u001b[1m29s\u001b[0m 5s/step - accuracy: 0.5113 - auc_1: 0.5256 - loss: 0.7266 - precision_1: 0.4988 - recall_1: 0.5291 - val_accuracy: 0.7174 - val_auc_1: 0.8875 - val_loss: 0.6612 - val_precision_1: 0.9167 - val_recall_1: 0.4783\n",
      "Epoch 3/50\n",
      "\u001b[1m2/2\u001b[0m \u001b[32m━━━━━━━━━━━━━━━━━━━━\u001b[0m\u001b[37m\u001b[0m \u001b[1m5s\u001b[0m 2s/step - accuracy: 0.5622 - auc_1: 0.6271 - loss: 0.6680 - precision_1: 0.5694 - recall_1: 0.59\n",
      "Epoch 3: Precision=0.6471, Recall=0.9565, F1 Score=0.7719\n",
      "\u001b[1m6/6\u001b[0m \u001b[32m━━━━━━━━━━━━━━━━━━━━\u001b[0m\u001b[37m\u001b[0m \u001b[1m31s\u001b[0m 6s/step - accuracy: 0.5627 - auc_1: 0.6222 - loss: 0.6703 - precision_1: 0.5690 - recall_1: 0.5872 - val_accuracy: 0.7174 - val_auc_1: 0.9064 - val_loss: 0.6494 - val_precision_1: 0.6471 - val_recall_1: 0.9565\n",
      "Epoch 4/50\n",
      "\u001b[1m2/2\u001b[0m \u001b[32m━━━━━━━━━━━━━━━━━━━━\u001b[0m\u001b[37m\u001b[0m \u001b[1m5s\u001b[0m 2s/step - accuracy: 0.5869 - auc_1: 0.6076 - loss: 0.6857 - precision_1: 0.5840 - recall_1: 0.65\n",
      "Epoch 4: Precision=0.9333, Recall=0.6087, F1 Score=0.7368\n",
      "\u001b[1m6/6\u001b[0m \u001b[32m━━━━━━━━━━━━━━━━━━━━\u001b[0m\u001b[37m\u001b[0m \u001b[1m32s\u001b[0m 6s/step - accuracy: 0.5863 - auc_1: 0.6099 - loss: 0.6839 - precision_1: 0.5830 - recall_1: 0.6461 - val_accuracy: 0.7826 - val_auc_1: 0.8998 - val_loss: 0.6387 - val_precision_1: 0.9333 - val_recall_1: 0.6087\n",
      "Epoch 5/50\n",
      "\u001b[1m2/2\u001b[0m \u001b[32m━━━━━━━━━━━━━━━━━━━━\u001b[0m\u001b[37m\u001b[0m \u001b[1m6s\u001b[0m 2s/step - accuracy: 0.5382 - auc_1: 0.5541 - loss: 0.7081 - precision_1: 0.5395 - recall_1: 0.55\n",
      "Epoch 5: Precision=0.9000, Recall=0.7826, F1 Score=0.8372\n",
      "\u001b[1m6/6\u001b[0m \u001b[32m━━━━━━━━━━━━━━━━━━━━\u001b[0m\u001b[37m\u001b[0m \u001b[1m35s\u001b[0m 6s/step - accuracy: 0.5422 - auc_1: 0.5604 - loss: 0.7049 - precision_1: 0.5430 - recall_1: 0.5552 - val_accuracy: 0.8478 - val_auc_1: 0.9017 - val_loss: 0.6264 - val_precision_1: 0.9000 - val_recall_1: 0.7826\n",
      "Epoch 6/50\n",
      "\u001b[1m2/2\u001b[0m \u001b[32m━━━━━━━━━━━━━━━━━━━━\u001b[0m\u001b[37m\u001b[0m \u001b[1m6s\u001b[0m 2s/step - accuracy: 0.6300 - auc_1: 0.7088 - loss: 0.6279 - precision_1: 0.5974 - recall_1: 0.67\n",
      "Epoch 6: Precision=0.9286, Recall=0.5652, F1 Score=0.7027\n",
      "\u001b[1m6/6\u001b[0m \u001b[32m━━━━━━━━━━━━━━━━━━━━\u001b[0m\u001b[37m\u001b[0m \u001b[1m35s\u001b[0m 6s/step - accuracy: 0.6311 - auc_1: 0.7081 - loss: 0.6285 - precision_1: 0.6035 - recall_1: 0.6641 - val_accuracy: 0.7609 - val_auc_1: 0.9064 - val_loss: 0.6214 - val_precision_1: 0.9286 - val_recall_1: 0.5652\n",
      "Epoch 7/50\n",
      "\u001b[1m2/2\u001b[0m \u001b[32m━━━━━━━━━━━━━━━━━━━━\u001b[0m\u001b[37m\u001b[0m \u001b[1m6s\u001b[0m 2s/step - accuracy: 0.6464 - auc_1: 0.7035 - loss: 0.6348 - precision_1: 0.6633 - recall_1: 0.60\n",
      "Epoch 7: Precision=0.7500, Recall=0.9130, F1 Score=0.8235\n",
      "\u001b[1m6/6\u001b[0m \u001b[32m━━━━━━━━━━━━━━━━━━━━\u001b[0m\u001b[37m\u001b[0m \u001b[1m37s\u001b[0m 6s/step - accuracy: 0.6435 - auc_1: 0.7032 - loss: 0.6346 - precision_1: 0.6569 - recall_1: 0.6130 - val_accuracy: 0.8043 - val_auc_1: 0.9074 - val_loss: 0.6059 - val_precision_1: 0.7500 - val_recall_1: 0.9130\n",
      "Epoch 8/50\n",
      "\u001b[1m2/2\u001b[0m \u001b[32m━━━━━━━━━━━━━━━━━━━━\u001b[0m\u001b[37m\u001b[0m \u001b[1m7s\u001b[0m 2s/step - accuracy: 0.5999 - auc_1: 0.6657 - loss: 0.6530 - precision_1: 0.5595 - recall_1: 0.69\n",
      "Epoch 8: Precision=0.9444, Recall=0.7391, F1 Score=0.8293\n",
      "\u001b[1m6/6\u001b[0m \u001b[32m━━━━━━━━━━━━━━━━━━━━\u001b[0m\u001b[37m\u001b[0m \u001b[1m37s\u001b[0m 7s/step - accuracy: 0.6037 - auc_1: 0.6689 - loss: 0.6507 - precision_1: 0.5687 - recall_1: 0.6867 - val_accuracy: 0.8478 - val_auc_1: 0.9064 - val_loss: 0.6002 - val_precision_1: 0.9444 - val_recall_1: 0.7391\n",
      "Epoch 9/50\n",
      "\u001b[1m2/2\u001b[0m \u001b[32m━━━━━━━━━━━━━━━━━━━━\u001b[0m\u001b[37m\u001b[0m \u001b[1m6s\u001b[0m 2s/step - accuracy: 0.7236 - auc_1: 0.7574 - loss: 0.6072 - precision_1: 0.7395 - recall_1: 0.73\n",
      "Epoch 9: Precision=0.8571, Recall=0.7826, F1 Score=0.8182\n",
      "\u001b[1m6/6\u001b[0m \u001b[32m━━━━━━━━━━━━━━━━━━━━\u001b[0m\u001b[37m\u001b[0m \u001b[1m34s\u001b[0m 6s/step - accuracy: 0.7247 - auc_1: 0.7582 - loss: 0.6068 - precision_1: 0.7402 - recall_1: 0.7301 - val_accuracy: 0.8261 - val_auc_1: 0.9074 - val_loss: 0.5870 - val_precision_1: 0.8571 - val_recall_1: 0.7826\n",
      "Epoch 10/50\n",
      "\u001b[1m2/2\u001b[0m \u001b[32m━━━━━━━━━━━━━━━━━━━━\u001b[0m\u001b[37m\u001b[0m \u001b[1m6s\u001b[0m 2s/step - accuracy: 0.7395 - auc_1: 0.7901 - loss: 0.5922 - precision_1: 0.7174 - recall_1: 0.78\n",
      "Epoch 10: Precision=0.9000, Recall=0.7826, F1 Score=0.8372\n",
      "\u001b[1m6/6\u001b[0m \u001b[32m━━━━━━━━━━━━━━━━━━━━\u001b[0m\u001b[37m\u001b[0m \u001b[1m35s\u001b[0m 6s/step - accuracy: 0.7367 - auc_1: 0.7911 - loss: 0.5917 - precision_1: 0.7149 - recall_1: 0.7856 - val_accuracy: 0.8478 - val_auc_1: 0.9083 - val_loss: 0.5763 - val_precision_1: 0.9000 - val_recall_1: 0.7826\n",
      "Epoch 11/50\n",
      "\u001b[1m2/2\u001b[0m \u001b[32m━━━━━━━━━━━━━━━━━━━━\u001b[0m\u001b[37m\u001b[0m \u001b[1m6s\u001b[0m 2s/step - accuracy: 0.7982 - auc_1: 0.8697 - loss: 0.5514 - precision_1: 0.7686 - recall_1: 0.85\n",
      "Epoch 11: Precision=0.9412, Recall=0.6957, F1 Score=0.8000\n",
      "\u001b[1m6/6\u001b[0m \u001b[32m━━━━━━━━━━━━━━━━━━━━\u001b[0m\u001b[37m\u001b[0m \u001b[1m38s\u001b[0m 7s/step - accuracy: 0.7941 - auc_1: 0.8657 - loss: 0.5523 - precision_1: 0.7687 - recall_1: 0.8448 - val_accuracy: 0.8261 - val_auc_1: 0.9093 - val_loss: 0.5731 - val_precision_1: 0.9412 - val_recall_1: 0.6957\n",
      "Epoch 12/50\n",
      "\u001b[1m2/2\u001b[0m \u001b[32m━━━━━━━━━━━━━━━━━━━━\u001b[0m\u001b[37m\u001b[0m \u001b[1m6s\u001b[0m 2s/step - accuracy: 0.7726 - auc_1: 0.8322 - loss: 0.5719 - precision_1: 0.7651 - recall_1: 0.79\n",
      "Epoch 12: Precision=0.9231, Recall=0.5217, F1 Score=0.6667\n",
      "\u001b[1m6/6\u001b[0m \u001b[32m━━━━━━━━━━━━━━━━━━━━\u001b[0m\u001b[37m\u001b[0m \u001b[1m38s\u001b[0m 7s/step - accuracy: 0.7667 - auc_1: 0.8259 - loss: 0.5741 - precision_1: 0.7613 - recall_1: 0.7837 - val_accuracy: 0.7391 - val_auc_1: 0.9093 - val_loss: 0.5693 - val_precision_1: 0.9231 - val_recall_1: 0.5217\n",
      "Epoch 13/50\n",
      "\u001b[1m2/2\u001b[0m \u001b[32m━━━━━━━━━━━━━━━━━━━━\u001b[0m\u001b[37m\u001b[0m \u001b[1m6s\u001b[0m 2s/step - accuracy: 0.6927 - auc_1: 0.7942 - loss: 0.5712 - precision_1: 0.7193 - recall_1: 0.69\n",
      "Epoch 13: Precision=0.9000, Recall=0.7826, F1 Score=0.8372\n",
      "\u001b[1m6/6\u001b[0m \u001b[32m━━━━━━━━━━━━━━━━━━━━\u001b[0m\u001b[37m\u001b[0m \u001b[1m38s\u001b[0m 7s/step - accuracy: 0.6895 - auc_1: 0.7923 - loss: 0.5717 - precision_1: 0.7118 - recall_1: 0.6953 - val_accuracy: 0.8478 - val_auc_1: 0.9121 - val_loss: 0.5477 - val_precision_1: 0.9000 - val_recall_1: 0.7826\n",
      "Epoch 14/50\n",
      "\u001b[1m2/2\u001b[0m \u001b[32m━━━━━━━━━━━━━━━━━━━━\u001b[0m\u001b[37m\u001b[0m \u001b[1m6s\u001b[0m 2s/step - accuracy: 0.6813 - auc_1: 0.7486 - loss: 0.6008 - precision_1: 0.6914 - recall_1: 0.70\n",
      "Epoch 14: Precision=0.9444, Recall=0.7391, F1 Score=0.8293\n",
      "\u001b[1m6/6\u001b[0m \u001b[32m━━━━━━━━━━━━━━━━━━━━\u001b[0m\u001b[37m\u001b[0m \u001b[1m37s\u001b[0m 7s/step - accuracy: 0.6852 - auc_1: 0.7533 - loss: 0.5993 - precision_1: 0.6912 - recall_1: 0.7133 - val_accuracy: 0.8478 - val_auc_1: 0.9121 - val_loss: 0.5488 - val_precision_1: 0.9444 - val_recall_1: 0.7391\n",
      "Epoch 15/50\n",
      "\u001b[1m2/2\u001b[0m \u001b[32m━━━━━━━━━━━━━━━━━━━━\u001b[0m\u001b[37m\u001b[0m \u001b[1m6s\u001b[0m 2s/step - accuracy: 0.7023 - auc_1: 0.7897 - loss: 0.5817 - precision_1: 0.7242 - recall_1: 0.61\n",
      "Epoch 15: Precision=0.9444, Recall=0.7391, F1 Score=0.8293\n",
      "\u001b[1m6/6\u001b[0m \u001b[32m━━━━━━━━━━━━━━━━━━━━\u001b[0m\u001b[37m\u001b[0m \u001b[1m39s\u001b[0m 7s/step - accuracy: 0.7056 - auc_1: 0.7921 - loss: 0.5798 - precision_1: 0.7283 - recall_1: 0.6199 - val_accuracy: 0.8478 - val_auc_1: 0.9159 - val_loss: 0.5431 - val_precision_1: 0.9444 - val_recall_1: 0.7391\n",
      "Epoch 16/50\n",
      "\u001b[1m2/2\u001b[0m \u001b[32m━━━━━━━━━━━━━━━━━━━━\u001b[0m\u001b[37m\u001b[0m \u001b[1m6s\u001b[0m 2s/step - accuracy: 0.7737 - auc_1: 0.8281 - loss: 0.5570 - precision_1: 0.8034 - recall_1: 0.72\n",
      "Epoch 16: Precision=0.9048, Recall=0.8261, F1 Score=0.8636\n",
      "\u001b[1m6/6\u001b[0m \u001b[32m━━━━━━━━━━━━━━━━━━━━\u001b[0m\u001b[37m\u001b[0m \u001b[1m38s\u001b[0m 7s/step - accuracy: 0.7747 - auc_1: 0.8320 - loss: 0.5544 - precision_1: 0.8020 - recall_1: 0.7317 - val_accuracy: 0.8696 - val_auc_1: 0.9168 - val_loss: 0.5249 - val_precision_1: 0.9048 - val_recall_1: 0.8261\n",
      "Epoch 17/50\n",
      "\u001b[1m2/2\u001b[0m \u001b[32m━━━━━━━━━━━━━━━━━━━━\u001b[0m\u001b[37m\u001b[0m \u001b[1m6s\u001b[0m 2s/step - accuracy: 0.7449 - auc_1: 0.8294 - loss: 0.5456 - precision_1: 0.7010 - recall_1: 0.89\n",
      "Epoch 17: Precision=0.9000, Recall=0.7826, F1 Score=0.8372\n",
      "\u001b[1m6/6\u001b[0m \u001b[32m━━━━━━━━━━━━━━━━━━━━\u001b[0m\u001b[37m\u001b[0m \u001b[1m39s\u001b[0m 7s/step - accuracy: 0.7421 - auc_1: 0.8299 - loss: 0.5461 - precision_1: 0.6965 - recall_1: 0.8919 - val_accuracy: 0.8478 - val_auc_1: 0.9187 - val_loss: 0.5184 - val_precision_1: 0.9000 - val_recall_1: 0.7826\n",
      "Epoch 18/50\n",
      "\u001b[1m2/2\u001b[0m \u001b[32m━━━━━━━━━━━━━━━━━━━━\u001b[0m\u001b[37m\u001b[0m \u001b[1m6s\u001b[0m 2s/step - accuracy: 0.8096 - auc_1: 0.8649 - loss: 0.5220 - precision_1: 0.7842 - recall_1: 0.85\n",
      "Epoch 18: Precision=0.9412, Recall=0.6957, F1 Score=0.8000\n",
      "\u001b[1m6/6\u001b[0m \u001b[32m━━━━━━━━━━━━━━━━━━━━\u001b[0m\u001b[37m\u001b[0m \u001b[1m38s\u001b[0m 7s/step - accuracy: 0.8077 - auc_1: 0.8657 - loss: 0.5206 - precision_1: 0.7837 - recall_1: 0.8515 - val_accuracy: 0.8261 - val_auc_1: 0.9197 - val_loss: 0.5274 - val_precision_1: 0.9412 - val_recall_1: 0.6957\n",
      "Epoch 19/50\n",
      "\u001b[1m2/2\u001b[0m \u001b[32m━━━━━━━━━━━━━━━━━━━━\u001b[0m\u001b[37m\u001b[0m \u001b[1m6s\u001b[0m 2s/step - accuracy: 0.7871 - auc_1: 0.9031 - loss: 0.4895 - precision_1: 0.8292 - recall_1: 0.74\n",
      "Epoch 19: Precision=0.9474, Recall=0.7826, F1 Score=0.8571\n",
      "\u001b[1m6/6\u001b[0m \u001b[32m━━━━━━━━━━━━━━━━━━━━\u001b[0m\u001b[37m\u001b[0m \u001b[1m38s\u001b[0m 7s/step - accuracy: 0.7806 - auc_1: 0.8966 - loss: 0.4934 - precision_1: 0.8171 - recall_1: 0.7444 - val_accuracy: 0.8696 - val_auc_1: 0.9225 - val_loss: 0.5044 - val_precision_1: 0.9474 - val_recall_1: 0.7826\n",
      "Epoch 20/50\n",
      "\u001b[1m2/2\u001b[0m \u001b[32m━━━━━━━━━━━━━━━━━━━━\u001b[0m\u001b[37m\u001b[0m \u001b[1m6s\u001b[0m 2s/step - accuracy: 0.8549 - auc_1: 0.9006 - loss: 0.4815 - precision_1: 0.8627 - recall_1: 0.82\n",
      "Epoch 20: Precision=0.9048, Recall=0.8261, F1 Score=0.8636\n",
      "\u001b[1m6/6\u001b[0m \u001b[32m━━━━━━━━━━━━━━━━━━━━\u001b[0m\u001b[37m\u001b[0m \u001b[1m37s\u001b[0m 7s/step - accuracy: 0.8498 - auc_1: 0.8962 - loss: 0.4860 - precision_1: 0.8570 - recall_1: 0.8209 - val_accuracy: 0.8696 - val_auc_1: 0.9253 - val_loss: 0.4885 - val_precision_1: 0.9048 - val_recall_1: 0.8261\n",
      "Epoch 21/50\n",
      "\u001b[1m2/2\u001b[0m \u001b[32m━━━━━━━━━━━━━━━━━━━━\u001b[0m\u001b[37m\u001b[0m \u001b[1m7s\u001b[0m 2s/step - accuracy: 0.7301 - auc_1: 0.8870 - loss: 0.5270 - precision_1: 0.6538 - recall_1: 0.91\n",
      "Epoch 21: Precision=0.9474, Recall=0.7826, F1 Score=0.8571\n",
      "\u001b[1m6/6\u001b[0m \u001b[32m━━━━━━━━━━━━━━━━━━━━\u001b[0m\u001b[37m\u001b[0m \u001b[1m37s\u001b[0m 7s/step - accuracy: 0.7341 - auc_1: 0.8830 - loss: 0.5246 - precision_1: 0.6638 - recall_1: 0.9009 - val_accuracy: 0.8696 - val_auc_1: 0.9253 - val_loss: 0.4872 - val_precision_1: 0.9474 - val_recall_1: 0.7826\n",
      "Epoch 22/50\n",
      "\u001b[1m2/2\u001b[0m \u001b[32m━━━━━━━━━━━━━━━━━━━━\u001b[0m\u001b[37m\u001b[0m \u001b[1m6s\u001b[0m 2s/step - accuracy: 0.7385 - auc_1: 0.8375 - loss: 0.5195 - precision_1: 0.7139 - recall_1: 0.68\n",
      "Epoch 22: Precision=0.9474, Recall=0.7826, F1 Score=0.8571\n",
      "\u001b[1m6/6\u001b[0m \u001b[32m━━━━━━━━━━━━━━━━━━━━\u001b[0m\u001b[37m\u001b[0m \u001b[1m39s\u001b[0m 7s/step - accuracy: 0.7421 - auc_1: 0.8395 - loss: 0.5188 - precision_1: 0.7241 - recall_1: 0.6948 - val_accuracy: 0.8696 - val_auc_1: 0.9291 - val_loss: 0.4840 - val_precision_1: 0.9474 - val_recall_1: 0.7826\n",
      "Epoch 23/50\n",
      "\u001b[1m2/2\u001b[0m \u001b[32m━━━━━━━━━━━━━━━━━━━━\u001b[0m\u001b[37m\u001b[0m \u001b[1m7s\u001b[0m 2s/step - accuracy: 0.7977 - auc_1: 0.8389 - loss: 0.5289 - precision_1: 0.7739 - recall_1: 0.83\n",
      "Epoch 23: Precision=0.9048, Recall=0.8261, F1 Score=0.8636\n",
      "\u001b[1m6/6\u001b[0m \u001b[32m━━━━━━━━━━━━━━━━━━━━\u001b[0m\u001b[37m\u001b[0m \u001b[1m38s\u001b[0m 7s/step - accuracy: 0.7992 - auc_1: 0.8437 - loss: 0.5243 - precision_1: 0.7756 - recall_1: 0.8326 - val_accuracy: 0.8696 - val_auc_1: 0.9310 - val_loss: 0.4694 - val_precision_1: 0.9048 - val_recall_1: 0.8261\n",
      "Epoch 24/50\n",
      "\u001b[1m2/2\u001b[0m \u001b[32m━━━━━━━━━━━━━━━━━━━━\u001b[0m\u001b[37m\u001b[0m \u001b[1m7s\u001b[0m 2s/step - accuracy: 0.7666 - auc_1: 0.8715 - loss: 0.4993 - precision_1: 0.7373 - recall_1: 0.83\n",
      "Epoch 24: Precision=0.9474, Recall=0.7826, F1 Score=0.8571\n",
      "\u001b[1m6/6\u001b[0m \u001b[32m━━━━━━━━━━━━━━━━━━━━\u001b[0m\u001b[37m\u001b[0m \u001b[1m39s\u001b[0m 7s/step - accuracy: 0.7631 - auc_1: 0.8688 - loss: 0.5007 - precision_1: 0.7355 - recall_1: 0.8232 - val_accuracy: 0.8696 - val_auc_1: 0.9291 - val_loss: 0.4728 - val_precision_1: 0.9474 - val_recall_1: 0.7826\n",
      "Epoch 25/50\n",
      "\u001b[1m2/2\u001b[0m \u001b[32m━━━━━━━━━━━━━━━━━━━━\u001b[0m\u001b[37m\u001b[0m \u001b[1m6s\u001b[0m 2s/step - accuracy: 0.7991 - auc_1: 0.8776 - loss: 0.4820 - precision_1: 0.7805 - recall_1: 0.84\n",
      "Epoch 25: Precision=0.9500, Recall=0.8261, F1 Score=0.8837\n",
      "\u001b[1m6/6\u001b[0m \u001b[32m━━━━━━━━━━━━━━━━━━━━\u001b[0m\u001b[37m\u001b[0m \u001b[1m39s\u001b[0m 7s/step - accuracy: 0.7987 - auc_1: 0.8787 - loss: 0.4818 - precision_1: 0.7790 - recall_1: 0.8418 - val_accuracy: 0.8913 - val_auc_1: 0.9319 - val_loss: 0.4571 - val_precision_1: 0.9500 - val_recall_1: 0.8261\n",
      "Epoch 26/50\n",
      "\u001b[1m2/2\u001b[0m \u001b[32m━━━━━━━━━━━━━━━━━━━━\u001b[0m\u001b[37m\u001b[0m \u001b[1m7s\u001b[0m 2s/step - accuracy: 0.8185 - auc_1: 0.8847 - loss: 0.4616 - precision_1: 0.7677 - recall_1: 0.89\n",
      "Epoch 26: Precision=0.9444, Recall=0.7391, F1 Score=0.8293\n",
      "\u001b[1m6/6\u001b[0m \u001b[32m━━━━━━━━━━━━━━━━━━━━\u001b[0m\u001b[37m\u001b[0m \u001b[1m42s\u001b[0m 8s/step - accuracy: 0.8217 - auc_1: 0.8881 - loss: 0.4589 - precision_1: 0.7766 - recall_1: 0.8863 - val_accuracy: 0.8478 - val_auc_1: 0.9329 - val_loss: 0.4750 - val_precision_1: 0.9444 - val_recall_1: 0.7391\n",
      "Epoch 27/50\n",
      "\u001b[1m2/2\u001b[0m \u001b[32m━━━━━━━━━━━━━━━━━━━━\u001b[0m\u001b[37m\u001b[0m \u001b[1m7s\u001b[0m 2s/step - accuracy: 0.8138 - auc_1: 0.8970 - loss: 0.4625 - precision_1: 0.7734 - recall_1: 0.82\n",
      "Epoch 27: Precision=0.9500, Recall=0.8261, F1 Score=0.8837\n",
      "\u001b[1m6/6\u001b[0m \u001b[32m━━━━━━━━━━━━━━━━━━━━\u001b[0m\u001b[37m\u001b[0m \u001b[1m45s\u001b[0m 8s/step - accuracy: 0.8176 - auc_1: 0.8989 - loss: 0.4620 - precision_1: 0.7825 - recall_1: 0.8306 - val_accuracy: 0.8913 - val_auc_1: 0.9367 - val_loss: 0.4442 - val_precision_1: 0.9500 - val_recall_1: 0.8261\n",
      "Epoch 28/50\n",
      "\u001b[1m2/2\u001b[0m \u001b[32m━━━━━━━━━━━━━━━━━━━━\u001b[0m\u001b[37m\u001b[0m \u001b[1m7s\u001b[0m 2s/step - accuracy: 0.7277 - auc_1: 0.8512 - loss: 0.5017 - precision_1: 0.6885 - recall_1: 0.78\n",
      "Epoch 28: Precision=0.9048, Recall=0.8261, F1 Score=0.8636\n",
      "\u001b[1m6/6\u001b[0m \u001b[32m━━━━━━━━━━━━━━━━━━━━\u001b[0m\u001b[37m\u001b[0m \u001b[1m45s\u001b[0m 8s/step - accuracy: 0.7328 - auc_1: 0.8525 - loss: 0.4997 - precision_1: 0.6916 - recall_1: 0.8037 - val_accuracy: 0.8696 - val_auc_1: 0.9376 - val_loss: 0.4336 - val_precision_1: 0.9048 - val_recall_1: 0.8261\n",
      "Epoch 29/50\n",
      "\u001b[1m2/2\u001b[0m \u001b[32m━━━━━━━━━━━━━━━━━━━━\u001b[0m\u001b[37m\u001b[0m \u001b[1m7s\u001b[0m 2s/step - accuracy: 0.7943 - auc_1: 0.8818 - loss: 0.4701 - precision_1: 0.7685 - recall_1: 0.84\n",
      "Epoch 29: Precision=0.9474, Recall=0.7826, F1 Score=0.8571\n",
      "\u001b[1m6/6\u001b[0m \u001b[32m━━━━━━━━━━━━━━━━━━━━\u001b[0m\u001b[37m\u001b[0m \u001b[1m45s\u001b[0m 8s/step - accuracy: 0.7962 - auc_1: 0.8821 - loss: 0.4702 - precision_1: 0.7718 - recall_1: 0.8402 - val_accuracy: 0.8696 - val_auc_1: 0.9376 - val_loss: 0.4422 - val_precision_1: 0.9474 - val_recall_1: 0.7826\n",
      "Epoch 30/50\n",
      "\u001b[1m2/2\u001b[0m \u001b[32m━━━━━━━━━━━━━━━━━━━━\u001b[0m\u001b[37m\u001b[0m \u001b[1m7s\u001b[0m 2s/step - accuracy: 0.7925 - auc_1: 0.8863 - loss: 0.4552 - precision_1: 0.8052 - recall_1: 0.76\n",
      "Epoch 30: Precision=0.9500, Recall=0.8261, F1 Score=0.8837\n",
      "\u001b[1m6/6\u001b[0m \u001b[32m━━━━━━━━━━━━━━━━━━━━\u001b[0m\u001b[37m\u001b[0m \u001b[1m44s\u001b[0m 8s/step - accuracy: 0.7947 - auc_1: 0.8904 - loss: 0.4510 - precision_1: 0.8050 - recall_1: 0.7724 - val_accuracy: 0.8913 - val_auc_1: 0.9386 - val_loss: 0.4256 - val_precision_1: 0.9500 - val_recall_1: 0.8261\n",
      "Epoch 31/50\n",
      "\u001b[1m2/2\u001b[0m \u001b[32m━━━━━━━━━━━━━━━━━━━━\u001b[0m\u001b[37m\u001b[0m \u001b[1m8s\u001b[0m 3s/step - accuracy: 0.7910 - auc_1: 0.8729 - loss: 0.4649 - precision_1: 0.7863 - recall_1: 0.81\n",
      "Epoch 31: Precision=0.9474, Recall=0.7826, F1 Score=0.8571\n",
      "\u001b[1m6/6\u001b[0m \u001b[32m━━━━━━━━━━━━━━━━━━━━\u001b[0m\u001b[37m\u001b[0m \u001b[1m44s\u001b[0m 8s/step - accuracy: 0.7903 - auc_1: 0.8728 - loss: 0.4653 - precision_1: 0.7811 - recall_1: 0.8247 - val_accuracy: 0.8696 - val_auc_1: 0.9395 - val_loss: 0.4400 - val_precision_1: 0.9474 - val_recall_1: 0.7826\n",
      "Epoch 32/50\n",
      "\u001b[1m2/2\u001b[0m \u001b[32m━━━━━━━━━━━━━━━━━━━━\u001b[0m\u001b[37m\u001b[0m \u001b[1m8s\u001b[0m 2s/step - accuracy: 0.8346 - auc_1: 0.9226 - loss: 0.4297 - precision_1: 0.8870 - recall_1: 0.81\n",
      "Epoch 32: Precision=0.9500, Recall=0.8261, F1 Score=0.8837\n",
      "\u001b[1m6/6\u001b[0m \u001b[32m━━━━━━━━━━━━━━━━━━━━\u001b[0m\u001b[37m\u001b[0m \u001b[1m46s\u001b[0m 8s/step - accuracy: 0.8362 - auc_1: 0.9235 - loss: 0.4271 - precision_1: 0.8801 - recall_1: 0.8182 - val_accuracy: 0.8913 - val_auc_1: 0.9395 - val_loss: 0.4124 - val_precision_1: 0.9500 - val_recall_1: 0.8261\n",
      "Epoch 33/50\n",
      "\u001b[1m2/2\u001b[0m \u001b[32m━━━━━━━━━━━━━━━━━━━━\u001b[0m\u001b[37m\u001b[0m \u001b[1m8s\u001b[0m 2s/step - accuracy: 0.7735 - auc_1: 0.8636 - loss: 0.4818 - precision_1: 0.7386 - recall_1: 0.78\n",
      "Epoch 33: Precision=0.9500, Recall=0.8261, F1 Score=0.8837\n",
      "\u001b[1m6/6\u001b[0m \u001b[32m━━━━━━━━━━━━━━━━━━━━\u001b[0m\u001b[37m\u001b[0m \u001b[1m47s\u001b[0m 8s/step - accuracy: 0.7807 - auc_1: 0.8676 - loss: 0.4765 - precision_1: 0.7529 - recall_1: 0.7861 - val_accuracy: 0.8913 - val_auc_1: 0.9405 - val_loss: 0.4142 - val_precision_1: 0.9500 - val_recall_1: 0.8261\n",
      "Epoch 34/50\n",
      "\u001b[1m2/2\u001b[0m \u001b[32m━━━━━━━━━━━━━━━━━━━━\u001b[0m\u001b[37m\u001b[0m \u001b[1m8s\u001b[0m 2s/step - accuracy: 0.7890 - auc_1: 0.8598 - loss: 0.4750 - precision_1: 0.7349 - recall_1: 0.82\n",
      "Epoch 34: Precision=0.9500, Recall=0.8261, F1 Score=0.8837\n",
      "\u001b[1m6/6\u001b[0m \u001b[32m━━━━━━━━━━━━━━━━━━━━\u001b[0m\u001b[37m\u001b[0m \u001b[1m48s\u001b[0m 8s/step - accuracy: 0.7909 - auc_1: 0.8624 - loss: 0.4724 - precision_1: 0.7410 - recall_1: 0.8300 - val_accuracy: 0.8913 - val_auc_1: 0.9414 - val_loss: 0.3982 - val_precision_1: 0.9500 - val_recall_1: 0.8261\n",
      "Epoch 35/50\n",
      "\u001b[1m2/2\u001b[0m \u001b[32m━━━━━━━━━━━━━━━━━━━━\u001b[0m\u001b[37m\u001b[0m \u001b[1m8s\u001b[0m 3s/step - accuracy: 0.8039 - auc_1: 0.8829 - loss: 0.4561 - precision_1: 0.7442 - recall_1: 0.85\n",
      "Epoch 35: Precision=0.9500, Recall=0.8261, F1 Score=0.8837\n",
      "\u001b[1m6/6\u001b[0m \u001b[32m━━━━━━━━━━━━━━━━━━━━\u001b[0m\u001b[37m\u001b[0m \u001b[1m51s\u001b[0m 9s/step - accuracy: 0.8052 - auc_1: 0.8870 - loss: 0.4506 - precision_1: 0.7488 - recall_1: 0.8592 - val_accuracy: 0.8913 - val_auc_1: 0.9433 - val_loss: 0.4004 - val_precision_1: 0.9500 - val_recall_1: 0.8261\n",
      "Epoch 36/50\n",
      "\u001b[1m2/2\u001b[0m \u001b[32m━━━━━━━━━━━━━━━━━━━━\u001b[0m\u001b[37m\u001b[0m \u001b[1m8s\u001b[0m 3s/step - accuracy: 0.8443 - auc_1: 0.9358 - loss: 0.3798 - precision_1: 0.8196 - recall_1: 0.89\n",
      "Epoch 36: Precision=0.9048, Recall=0.8261, F1 Score=0.8636\n",
      "\u001b[1m6/6\u001b[0m \u001b[32m━━━━━━━━━━━━━━━━━━━━\u001b[0m\u001b[37m\u001b[0m \u001b[1m51s\u001b[0m 9s/step - accuracy: 0.8399 - auc_1: 0.9317 - loss: 0.3855 - precision_1: 0.8127 - recall_1: 0.8917 - val_accuracy: 0.8696 - val_auc_1: 0.9452 - val_loss: 0.3834 - val_precision_1: 0.9048 - val_recall_1: 0.8261\n",
      "Epoch 37/50\n",
      "\u001b[1m2/2\u001b[0m \u001b[32m━━━━━━━━━━━━━━━━━━━━\u001b[0m\u001b[37m\u001b[0m \u001b[1m9s\u001b[0m 3s/step - accuracy: 0.8142 - auc_1: 0.9293 - loss: 0.4035 - precision_1: 0.7930 - recall_1: 0.86\n",
      "Epoch 37: Precision=0.9500, Recall=0.8261, F1 Score=0.8837\n",
      "\u001b[1m6/6\u001b[0m \u001b[32m━━━━━━━━━━━━━━━━━━━━\u001b[0m\u001b[37m\u001b[0m \u001b[1m52s\u001b[0m 9s/step - accuracy: 0.8117 - auc_1: 0.9270 - loss: 0.4060 - precision_1: 0.7890 - recall_1: 0.8642 - val_accuracy: 0.8913 - val_auc_1: 0.9442 - val_loss: 0.3882 - val_precision_1: 0.9500 - val_recall_1: 0.8261\n",
      "Epoch 38/50\n",
      "\u001b[1m2/2\u001b[0m \u001b[32m━━━━━━━━━━━━━━━━━━━━\u001b[0m\u001b[37m\u001b[0m \u001b[1m8s\u001b[0m 2s/step - accuracy: 0.8493 - auc_1: 0.9311 - loss: 0.3890 - precision_1: 0.8304 - recall_1: 0.86\n",
      "Epoch 38: Precision=0.9500, Recall=0.8261, F1 Score=0.8837\n",
      "\u001b[1m6/6\u001b[0m \u001b[32m━━━━━━━━━━━━━━━━━━━━\u001b[0m\u001b[37m\u001b[0m \u001b[1m50s\u001b[0m 9s/step - accuracy: 0.8457 - auc_1: 0.9292 - loss: 0.3918 - precision_1: 0.8305 - recall_1: 0.8576 - val_accuracy: 0.8913 - val_auc_1: 0.9452 - val_loss: 0.3898 - val_precision_1: 0.9500 - val_recall_1: 0.8261\n",
      "Epoch 39/50\n",
      "\u001b[1m2/2\u001b[0m \u001b[32m━━━━━━━━━━━━━━━━━━━━\u001b[0m\u001b[37m\u001b[0m \u001b[1m8s\u001b[0m 2s/step - accuracy: 0.8394 - auc_1: 0.9338 - loss: 0.4087 - precision_1: 0.8016 - recall_1: 0.89\n",
      "Epoch 39: Precision=0.9048, Recall=0.8261, F1 Score=0.8636\n",
      "\u001b[1m6/6\u001b[0m \u001b[32m━━━━━━━━━━━━━━━━━━━━\u001b[0m\u001b[37m\u001b[0m \u001b[1m50s\u001b[0m 9s/step - accuracy: 0.8372 - auc_1: 0.9310 - loss: 0.4101 - precision_1: 0.7972 - recall_1: 0.9017 - val_accuracy: 0.8696 - val_auc_1: 0.9490 - val_loss: 0.3676 - val_precision_1: 0.9048 - val_recall_1: 0.8261\n",
      "Epoch 40/50\n",
      "\u001b[1m2/2\u001b[0m \u001b[32m━━━━━━━━━━━━━━━━━━━━\u001b[0m\u001b[37m\u001b[0m \u001b[1m9s\u001b[0m 3s/step - accuracy: 0.8276 - auc_1: 0.9004 - loss: 0.4352 - precision_1: 0.8051 - recall_1: 0.86\n",
      "Epoch 40: Precision=0.9500, Recall=0.8261, F1 Score=0.8837\n",
      "\u001b[1m6/6\u001b[0m \u001b[32m━━━━━━━━━━━━━━━━━━━━\u001b[0m\u001b[37m\u001b[0m \u001b[1m50s\u001b[0m 9s/step - accuracy: 0.8271 - auc_1: 0.9012 - loss: 0.4335 - precision_1: 0.8078 - recall_1: 0.8553 - val_accuracy: 0.8913 - val_auc_1: 0.9518 - val_loss: 0.3905 - val_precision_1: 0.9500 - val_recall_1: 0.8261\n",
      "Epoch 41/50\n",
      "\u001b[1m2/2\u001b[0m \u001b[32m━━━━━━━━━━━━━━━━━━━━\u001b[0m\u001b[37m\u001b[0m \u001b[1m7s\u001b[0m 2s/step - accuracy: 0.8481 - auc_1: 0.9460 - loss: 0.3852 - precision_1: 0.8110 - recall_1: 0.90\n",
      "Epoch 41: Precision=0.9500, Recall=0.8261, F1 Score=0.8837\n",
      "\u001b[1m6/6\u001b[0m \u001b[32m━━━━━━━━━━━━━━━━━━━━\u001b[0m\u001b[37m\u001b[0m \u001b[1m47s\u001b[0m 8s/step - accuracy: 0.8462 - auc_1: 0.9440 - loss: 0.3884 - precision_1: 0.8097 - recall_1: 0.9009 - val_accuracy: 0.8913 - val_auc_1: 0.9518 - val_loss: 0.3689 - val_precision_1: 0.9500 - val_recall_1: 0.8261\n",
      "Epoch 42/50\n",
      "\u001b[1m2/2\u001b[0m \u001b[32m━━━━━━━━━━━━━━━━━━━━\u001b[0m\u001b[37m\u001b[0m \u001b[1m8s\u001b[0m 2s/step - accuracy: 0.8588 - auc_1: 0.9278 - loss: 0.3912 - precision_1: 0.8398 - recall_1: 0.92\n",
      "Epoch 42: Precision=0.9500, Recall=0.8261, F1 Score=0.8837\n",
      "\u001b[1m6/6\u001b[0m \u001b[32m━━━━━━━━━━━━━━━━━━━━\u001b[0m\u001b[37m\u001b[0m \u001b[1m50s\u001b[0m 9s/step - accuracy: 0.8578 - auc_1: 0.9272 - loss: 0.3912 - precision_1: 0.8352 - recall_1: 0.9250 - val_accuracy: 0.8913 - val_auc_1: 0.9546 - val_loss: 0.3587 - val_precision_1: 0.9500 - val_recall_1: 0.8261\n",
      "Epoch 43/50\n",
      "\u001b[1m2/2\u001b[0m \u001b[32m━━━━━━━━━━━━━━━━━━━━\u001b[0m\u001b[37m\u001b[0m \u001b[1m8s\u001b[0m 2s/step - accuracy: 0.9359 - auc_1: 0.9668 - loss: 0.3347 - precision_1: 0.9113 - recall_1: 0.96\n",
      "Epoch 43: Precision=0.9500, Recall=0.8261, F1 Score=0.8837\n",
      "\u001b[1m6/6\u001b[0m \u001b[32m━━━━━━━━━━━━━━━━━━━━\u001b[0m\u001b[37m\u001b[0m \u001b[1m48s\u001b[0m 9s/step - accuracy: 0.9317 - auc_1: 0.9648 - loss: 0.3370 - precision_1: 0.9065 - recall_1: 0.9644 - val_accuracy: 0.8913 - val_auc_1: 0.9546 - val_loss: 0.3808 - val_precision_1: 0.9500 - val_recall_1: 0.8261\n",
      "Epoch 44/50\n",
      "\u001b[1m2/2\u001b[0m \u001b[32m━━━━━━━━━━━━━━━━━━━━\u001b[0m\u001b[37m\u001b[0m \u001b[1m8s\u001b[0m 2s/step - accuracy: 0.8587 - auc_1: 0.9369 - loss: 0.3666 - precision_1: 0.8554 - recall_1: 0.86\n",
      "Epoch 44: Precision=0.9500, Recall=0.8261, F1 Score=0.8837\n",
      "\u001b[1m6/6\u001b[0m \u001b[32m━━━━━━━━━━━━━━━━━━━━\u001b[0m\u001b[37m\u001b[0m \u001b[1m49s\u001b[0m 9s/step - accuracy: 0.8562 - auc_1: 0.9351 - loss: 0.3691 - precision_1: 0.8539 - recall_1: 0.8612 - val_accuracy: 0.8913 - val_auc_1: 0.9556 - val_loss: 0.3465 - val_precision_1: 0.9500 - val_recall_1: 0.8261\n",
      "Epoch 45/50\n",
      "\u001b[1m2/2\u001b[0m \u001b[32m━━━━━━━━━━━━━━━━━━━━\u001b[0m\u001b[37m\u001b[0m \u001b[1m9s\u001b[0m 3s/step - accuracy: 0.8675 - auc_1: 0.9439 - loss: 0.3646 - precision_1: 0.8147 - recall_1: 0.96\n",
      "Epoch 45: Precision=0.9500, Recall=0.8261, F1 Score=0.8837\n",
      "\u001b[1m6/6\u001b[0m \u001b[32m━━━━━━━━━━━━━━━━━━━━\u001b[0m\u001b[37m\u001b[0m \u001b[1m48s\u001b[0m 9s/step - accuracy: 0.8637 - auc_1: 0.9414 - loss: 0.3670 - precision_1: 0.8107 - recall_1: 0.9608 - val_accuracy: 0.8913 - val_auc_1: 0.9575 - val_loss: 0.3741 - val_precision_1: 0.9500 - val_recall_1: 0.8261\n",
      "Epoch 46/50\n",
      "\u001b[1m2/2\u001b[0m \u001b[32m━━━━━━━━━━━━━━━━━━━━\u001b[0m\u001b[37m\u001b[0m \u001b[1m8s\u001b[0m 3s/step - accuracy: 0.8311 - auc_1: 0.9275 - loss: 0.3770 - precision_1: 0.8215 - recall_1: 0.79\n",
      "Epoch 46: Precision=0.9500, Recall=0.8261, F1 Score=0.8837\n",
      "\u001b[1m6/6\u001b[0m \u001b[32m━━━━━━━━━━━━━━━━━━━━\u001b[0m\u001b[37m\u001b[0m \u001b[1m48s\u001b[0m 8s/step - accuracy: 0.8301 - auc_1: 0.9288 - loss: 0.3770 - precision_1: 0.8289 - recall_1: 0.7871 - val_accuracy: 0.8913 - val_auc_1: 0.9565 - val_loss: 0.3545 - val_precision_1: 0.9500 - val_recall_1: 0.8261\n",
      "Epoch 47/50\n",
      "\u001b[1m2/2\u001b[0m \u001b[32m━━━━━━━━━━━━━━━━━━━━\u001b[0m\u001b[37m\u001b[0m \u001b[1m8s\u001b[0m 2s/step - accuracy: 0.8679 - auc_1: 0.9340 - loss: 0.3686 - precision_1: 0.8276 - recall_1: 0.94\n",
      "Epoch 47: Precision=0.9091, Recall=0.8696, F1 Score=0.8889\n",
      "\u001b[1m6/6\u001b[0m \u001b[32m━━━━━━━━━━━━━━━━━━━━\u001b[0m\u001b[37m\u001b[0m \u001b[1m48s\u001b[0m 8s/step - accuracy: 0.8593 - auc_1: 0.9305 - loss: 0.3745 - precision_1: 0.8159 - recall_1: 0.9392 - val_accuracy: 0.8913 - val_auc_1: 0.9594 - val_loss: 0.3305 - val_precision_1: 0.9091 - val_recall_1: 0.8696\n",
      "Epoch 48/50\n",
      "\u001b[1m2/2\u001b[0m \u001b[32m━━━━━━━━━━━━━━━━━━━━\u001b[0m\u001b[37m\u001b[0m \u001b[1m8s\u001b[0m 3s/step - accuracy: 0.8646 - auc_1: 0.9546 - loss: 0.3524 - precision_1: 0.8335 - recall_1: 0.93\n",
      "Epoch 48: Precision=0.9500, Recall=0.8261, F1 Score=0.8837\n",
      "\u001b[1m6/6\u001b[0m \u001b[32m━━━━━━━━━━━━━━━━━━━━\u001b[0m\u001b[37m\u001b[0m \u001b[1m51s\u001b[0m 9s/step - accuracy: 0.8643 - auc_1: 0.9528 - loss: 0.3544 - precision_1: 0.8321 - recall_1: 0.9300 - val_accuracy: 0.8913 - val_auc_1: 0.9594 - val_loss: 0.3817 - val_precision_1: 0.9500 - val_recall_1: 0.8261\n",
      "Epoch 49/50\n",
      "\u001b[1m2/2\u001b[0m \u001b[32m━━━━━━━━━━━━━━━━━━━━\u001b[0m\u001b[37m\u001b[0m \u001b[1m8s\u001b[0m 3s/step - accuracy: 0.8147 - auc_1: 0.9302 - loss: 0.3822 - precision_1: 0.8317 - recall_1: 0.78\n",
      "Epoch 49: Precision=0.9500, Recall=0.8261, F1 Score=0.8837\n",
      "\u001b[1m6/6\u001b[0m \u001b[32m━━━━━━━━━━━━━━━━━━━━\u001b[0m\u001b[37m\u001b[0m \u001b[1m49s\u001b[0m 9s/step - accuracy: 0.8168 - auc_1: 0.9298 - loss: 0.3822 - precision_1: 0.8330 - recall_1: 0.7911 - val_accuracy: 0.8913 - val_auc_1: 0.9631 - val_loss: 0.3308 - val_precision_1: 0.9500 - val_recall_1: 0.8261\n",
      "Epoch 50/50\n",
      "\u001b[1m2/2\u001b[0m \u001b[32m━━━━━━━━━━━━━━━━━━━━\u001b[0m\u001b[37m\u001b[0m \u001b[1m8s\u001b[0m 2s/step - accuracy: 0.8533 - auc_1: 0.9273 - loss: 0.3851 - precision_1: 0.8503 - recall_1: 0.87\n",
      "Epoch 50: Precision=0.9500, Recall=0.8261, F1 Score=0.8837\n",
      "\u001b[1m6/6\u001b[0m \u001b[32m━━━━━━━━━━━━━━━━━━━━\u001b[0m\u001b[37m\u001b[0m \u001b[1m47s\u001b[0m 9s/step - accuracy: 0.8554 - auc_1: 0.9289 - loss: 0.3823 - precision_1: 0.8467 - recall_1: 0.8844 - val_accuracy: 0.8913 - val_auc_1: 0.9641 - val_loss: 0.3276 - val_precision_1: 0.9500 - val_recall_1: 0.8261\n"
     ]
    }
   ],
   "source": [
    "\n",
    "# --- Train the Model ---\n",
    "history = model.fit(\n",
    "    train_generator,\n",
    "    epochs=EPOCHS,\n",
    "    validation_data=val_generator,\n",
    "    callbacks=[metrics_callback]\n",
    ")\n"
   ]
  },
  {
   "cell_type": "code",
   "execution_count": 13,
   "id": "a2eb3b95",
   "metadata": {},
   "outputs": [
    {
     "name": "stdout",
     "output_type": "stream",
     "text": [
      "Training results saved to /Users/reamy/Desktop/THESIS/VGG-16/training_results_vgg16.csv\n"
     ]
    }
   ],
   "source": [
    "# --- Save Metrics to CSV ---\n",
    "results_df = pd.DataFrame(metrics_callback.results)\n",
    "results_file_path = os.path.join(os.getcwd(), 'training_results_vgg16.csv')\n",
    "results_df.to_csv(results_file_path, index=False)\n",
    "print(f\"Training results saved to {results_file_path}\")"
   ]
  },
  {
   "cell_type": "code",
   "execution_count": 14,
   "id": "0c9da6c6",
   "metadata": {},
   "outputs": [
    {
     "name": "stdout",
     "output_type": "stream",
     "text": [
      "All VGG16 transfer learning plots saved successfully.\n"
     ]
    }
   ],
   "source": [
    "# --- Plotting Metrics ---\n",
    "metrics = ['Precision', 'Recall', 'F1 Score', 'Training Accuracy', 'Validation Accuracy', 'Training Loss', 'Validation Loss']\n",
    "titles = ['Precision', 'Recall', 'F1 Score', 'Training Accuracy', 'Validation Accuracy', 'Training Loss', 'Validation Loss']\n",
    "file_names = ['vgg16_precision.png', 'vgg16_recall.png', 'vgg16_f1.png',\n",
    "              'vgg16_train_acc.png', 'vgg16_val_acc.png', 'vgg16_train_loss.png', 'vgg16_val_loss.png']\n",
    "\n",
    "for i, metric in enumerate(metrics):\n",
    "    plt.figure(figsize=(8, 5))\n",
    "    plt.plot(results_df[metric], label=metric, linewidth=2, color='green', marker='o')\n",
    "    plt.title(titles[i], fontsize=14)\n",
    "    plt.xlabel(\"Epoch\", fontsize=12)\n",
    "    plt.ylabel(metric, fontsize=12)\n",
    "    plt.grid(True, linestyle='--', alpha=0.6)\n",
    "    plt.legend(fontsize=10)\n",
    "\n",
    "    # Annotate last value\n",
    "    last_epoch = len(results_df[metric]) - 1\n",
    "    last_value = results_df[metric].iloc[-1]\n",
    "    plt.annotate(f\"{last_value:.4f}\",\n",
    "                 xy=(last_epoch, last_value),\n",
    "                 xytext=(last_epoch, last_value + 0.02),\n",
    "                 ha='center',\n",
    "                 fontsize=10,\n",
    "                 bbox=dict(boxstyle=\"round,pad=0.3\", fc=\"yellow\", ec=\"black\", lw=1))\n",
    "\n",
    "    plt.tight_layout()\n",
    "    plt.savefig(file_names[i], dpi=300)\n",
    "    plt.close()\n",
    "\n",
    "print(\"All VGG16 transfer learning plots saved successfully.\")"
   ]
  },
  {
   "cell_type": "code",
   "execution_count": 15,
   "id": "c7ce34a2",
   "metadata": {},
   "outputs": [
    {
     "name": "stdout",
     "output_type": "stream",
     "text": [
      "\u001b[1m2/2\u001b[0m \u001b[32m━━━━━━━━━━━━━━━━━━━━\u001b[0m\u001b[37m\u001b[0m \u001b[1m5s\u001b[0m 1s/step\n"
     ]
    },
    {
     "data": {
      "image/png": "[encoded data removed]",
      "text/plain": [
       "<Figure size 640x480 with 2 Axes>"
      ]
     },
     "metadata": {},
     "output_type": "display_data"
    }
   ],
   "source": [
    "# --- Confusion Matrix ---\n",
    "predictions = model.predict(val_generator)\n",
    "y_pred = (predictions > 0.5).astype(int).reshape(-1)\n",
    "cm = confusion_matrix(val_labels, y_pred)\n",
    "disp = ConfusionMatrixDisplay(confusion_matrix=cm, display_labels=val_generator.class_indices.keys())\n",
    "disp.plot(cmap=plt.cm.Oranges)\n",
    "plt.title(\"VGG16 Confusion Matrix\")\n",
    "plt.savefig(\"vgg16_confusion_matrix.png\", dpi=300)\n",
    "plt.show()"
   ]
  },
  {
   "cell_type": "code",
   "execution_count": 16,
   "id": "e715c4d8",
   "metadata": {},
   "outputs": [
    {
     "name": "stderr",
     "output_type": "stream",
     "text": [
      "WARNING:absl:You are saving your model as an HDF5 file via `model.save()` or `keras.saving.save_model(model)`. This file format is considered legacy. We recommend using instead the native Keras format, e.g. `model.save('my_model.keras')` or `keras.saving.save_model(model, 'my_model.keras')`. \n"
     ]
    }
   ],
   "source": [
    "model.save('VGG-16_BC_model.h5')  # Save the trained model"
   ]
  },
  {
   "cell_type": "code",
   "execution_count": null,
   "id": "938859a7",
   "metadata": {},
   "outputs": [],
   "source": []
  }
 ],
 "metadata": {
  "kernelspec": {
   "display_name": ".venv",
   "language": "python",
   "name": "python3"
  },
  "language_info": {
   "codemirror_mode": {
    "name": "ipython",
    "version": 3
   },
   "file_extension": ".py",
   "mimetype": "text/x-python",
   "name": "python",
   "nbconvert_exporter": "python",
   "pygments_lexer": "ipython3",
   "version": "3.12.7"
  }
 },
 "nbformat": 4,
 "nbformat_minor": 5
}
