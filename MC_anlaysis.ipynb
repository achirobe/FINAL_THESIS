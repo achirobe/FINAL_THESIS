{
 "cells": [
  {
   "cell_type": "code",
   "execution_count": 1,
   "id": "dc7c67e9",
   "metadata": {},
   "outputs": [],
   "source": [
    "import os\n",
    "from tensorflow.keras.preprocessing.image import ImageDataGenerator, load_img, img_to_array\n",
    "from PIL import Image"
   ]
  },
  {
   "cell_type": "code",
   "execution_count": 2,
   "id": "148d46f1",
   "metadata": {},
   "outputs": [
    {
     "name": "stdout",
     "output_type": "stream",
     "text": [
      "Copied 51 original images for PatchWork\n",
      "PatchWork done: 120 images in total.\n",
      "Copied 43 original images for Block\n",
      "Block done: 120 images in total.\n",
      "Copied 5 original images for Shading\n",
      "Shading done: 120 images in total.\n",
      "Copied 14 original images for Single\n",
      "Single done: 120 images in total.\n"
     ]
    }
   ],
   "source": [
    "\n",
    "\n",
    "# Input and output paths\n",
    "input_dir = '/Users/reamy/Desktop/THESIS/MC_dataset'\n",
    "output_dir = '/Users/reamy/Desktop/THESIS/MC_dataset_balanced'\n",
    "target_per_class = 120\n",
    "\n",
    "# Augmentation config\n",
    "datagen = ImageDataGenerator(\n",
    "    rotation_range=30,\n",
    "    width_shift_range=0.1,\n",
    "    height_shift_range=0.1,\n",
    "    shear_range=0.2,\n",
    "    zoom_range=0.2,\n",
    "    horizontal_flip=True,\n",
    "    fill_mode='nearest'\n",
    ")\n",
    "\n",
    "classes = ['PatchWork', 'Block', 'Shading', 'Single']\n",
    "\n",
    "for cls in classes:\n",
    "    input_cls_path = os.path.join(input_dir, cls)\n",
    "    output_cls_path = os.path.join(output_dir, cls)\n",
    "    os.makedirs(output_cls_path, exist_ok=True)\n",
    "\n",
    "    images = [f for f in os.listdir(input_cls_path) if f.lower().endswith(('jpg', 'jpeg', 'png'))]\n",
    "    num_original = len(images)\n",
    "\n",
    "    # Copy original images first\n",
    "    for img_name in images:\n",
    "        img_path = os.path.join(input_cls_path, img_name)\n",
    "        Image.open(img_path).save(os.path.join(output_cls_path, img_name))\n",
    "\n",
    "    print(f\"Copied {num_original} original images for {cls}\")\n",
    "\n",
    "    # Start augmenting\n",
    "    i = 0\n",
    "    while len(os.listdir(output_cls_path)) < target_per_class:\n",
    "        img_path = os.path.join(input_cls_path, images[i % num_original])\n",
    "        img = load_img(img_path)\n",
    "        x = img_to_array(img)\n",
    "        x = x.reshape((1,) + x.shape)\n",
    "\n",
    "        for batch in datagen.flow(x, batch_size=1, save_to_dir=output_cls_path,\n",
    "                                  save_prefix=f\"aug_{i}\", save_format='jpg'):\n",
    "            break\n",
    "        i += 1\n",
    "\n",
    "    print(f\"{cls} done: {len(os.listdir(output_cls_path))} images in total.\")"
   ]
  },
  {
   "cell_type": "code",
   "execution_count": 2,
   "id": "20c74b50",
   "metadata": {},
   "outputs": [],
   "source": [
    "\n",
    "\n",
    "def rename_and_count_images(folder_path, prefix):\n",
    "    image_extensions = ('.jpg', '.jpeg', '.png', '.bmp', '.gif', '.tiff')\n",
    "    image_files = [f for f in os.listdir(folder_path) if f.lower().endswith(image_extensions)]\n",
    "    image_files.sort()\n",
    "    count = 0\n",
    "\n",
    "    # First pass: temporary rename to avoid overwriting\n",
    "    temp_names = []\n",
    "    for idx, filename in enumerate(image_files, 1):\n",
    "        old_path = os.path.join(folder_path, filename)\n",
    "        temp_filename = f\"temp_rename_{idx}{os.path.splitext(filename)[1]}\"\n",
    "        temp_path = os.path.join(folder_path, temp_filename)\n",
    "        os.rename(old_path, temp_path)\n",
    "        temp_names.append(temp_filename)\n",
    "\n",
    "    # Second pass: final renaming\n",
    "    for idx, temp_filename in enumerate(temp_names, 1):\n",
    "        temp_path = os.path.join(folder_path, temp_filename)\n",
    "        new_filename = f\"{prefix}_{idx}{os.path.splitext(temp_filename)[1]}\"\n",
    "        new_path = os.path.join(folder_path, new_filename)\n",
    "        os.rename(temp_path, new_path)\n",
    "        count += 1\n",
    "\n",
    "    return count\n",
    "\n",
    "\n"
   ]
  },
  {
   "cell_type": "code",
   "execution_count": 3,
   "id": "56d6f5af",
   "metadata": {},
   "outputs": [
    {
     "name": "stdout",
     "output_type": "stream",
     "text": [
      "Total Block Faulty images renamed: 43\n"
     ]
    }
   ],
   "source": [
    "# --- Use the function ---\n",
    "block_faulty_count = rename_and_count_images(\"/Users/reamy/Desktop/THESIS/MC_dataset copy 2/Block\", \"Block\")\n",
    "print(f\"Total Block Faulty images renamed: {block_faulty_count}\")"
   ]
  },
  {
   "cell_type": "code",
   "execution_count": 4,
   "id": "26332461",
   "metadata": {},
   "outputs": [
    {
     "name": "stdout",
     "output_type": "stream",
     "text": [
      "Total PatchWork Faulty images renamed: 43\n"
     ]
    }
   ],
   "source": [
    "# Use the function\n",
    "PatchWork_faulty_count = rename_and_count_images(\"/Users/reamy/Desktop/THESIS/MC_dataset copy 2/PatchWork\", \"PatchWork\")\n",
    "print(f\"Total PatchWork Faulty images renamed: {PatchWork_faulty_count}\")"
   ]
  },
  {
   "cell_type": "code",
   "execution_count": 6,
   "id": "36059fcf",
   "metadata": {},
   "outputs": [
    {
     "name": "stdout",
     "output_type": "stream",
     "text": [
      "Total Shading Faulty images renamed: 120\n"
     ]
    }
   ],
   "source": [
    "# Renaming and counting images in the specified folders\n",
    "# Faulty images renaming\n",
    "Shading_faulty_count=rename_and_count_images(\"/Users/reamy/Desktop/THESIS/MC_dataset_balanced/Shading\", \"Shading\")\n",
    "print(f\"Total Shading Faulty images renamed: {Shading_faulty_count}\")"
   ]
  },
  {
   "cell_type": "code",
   "execution_count": 7,
   "id": "bb272df6",
   "metadata": {},
   "outputs": [
    {
     "name": "stdout",
     "output_type": "stream",
     "text": [
      "Total Single Faulty images renamed: 120\n"
     ]
    }
   ],
   "source": [
    "# Non-Faulty images renaming\n",
    "Single_faulty_count=rename_and_count_images(\"/Users/reamy/Desktop/THESIS/MC_dataset_balanced/Single\", \"Single\")\n",
    "print(f\"Total Single Faulty images renamed: {Single_faulty_count}\")"
   ]
  },
  {
   "cell_type": "code",
   "execution_count": null,
   "id": "2ce5a83e",
   "metadata": {},
   "outputs": [],
   "source": []
  }
 ],
 "metadata": {
  "kernelspec": {
   "display_name": ".venv",
   "language": "python",
   "name": "python3"
  },
  "language_info": {
   "codemirror_mode": {
    "name": "ipython",
    "version": 3
   },
   "file_extension": ".py",
   "mimetype": "text/x-python",
   "name": "python",
   "nbconvert_exporter": "python",
   "pygments_lexer": "ipython3",
   "version": "3.12.7"
  }
 },
 "nbformat": 4,
 "nbformat_minor": 5
}
